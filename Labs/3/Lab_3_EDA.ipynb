{
 "cells": [
  {
   "cell_type": "markdown",
   "metadata": {
    "colab_type": "text",
    "id": "x7fdTGs4SnyS"
   },
   "source": [
    "![](https://i.imgur.com/0AUxkXt.png)"
   ]
  },
  {
   "cell_type": "markdown",
   "metadata": {
    "colab_type": "text",
    "id": "_uqy69P0Pm0L"
   },
   "source": [
    "# Lab 3 - From data to insights\n",
    "\n",
    "Before you explore the data, write down a short list of what you expect to see in the data: the distribution of key variables, the relationships between important pairs of them, and so on. Such a list is essentially a prediction based on your current understanding of the business.\n",
    "\n",
    "Now analyze the data. Make plots, do summaries, whatever is needed to see if it matches your expectations.\n",
    "\n",
    "Is there anything that doesn’t match? Anything that makes you go “That’s odd” or “That doesn’t make any sense.”?\n",
    "\n",
    "Zoom in and try to understand what in your business is making that weird thing show up in the data like that. This is the critical step.\n",
    "\n",
    "You may have just found an insight into the business and increased your understanding\n",
    "\n",
    "\n",
    "## The data analysis checklist\n",
    "\n",
    "This checklist can be used as a guide during the process of a data analysis, or as a way to evaluate the quality of a reported data analysis.\n",
    "\n",
    "### Answering the first questions\n",
    "\n",
    "1. Did you define the metric for success before beginning?\n",
    "2. Did you understand the context for the question and business application?\n",
    "3. Did you consider whether the question could be answered with the available data?\n",
    "\n",
    "### Cleaning the data\n",
    "\n",
    "1. Did you identify the missing data?\n",
    "2. Is each variable one column?\n",
    "3. Do different data types appear in each table?\n",
    "4. Did you try to identify any errors or miscoding of variables?\n",
    "5. Did you check for outliers?\n",
    "\n",
    "### Exploratory analysis\n",
    "\n",
    "1. Did you make univariate plots (histogram, distplot, boxplot)?\n",
    "2. Did you consider correlations between variables (scatterplot, jointplot, kde plot, correlation matrix)?\n",
    "3. Did you check the units of all data points to make sure they are in the right range?\n",
    "\n",
    "### Presentations\n",
    "\n",
    "1. Did you lead with a brief, understandable to everyone of your problem?\n",
    "2. Did you explain the data, describe the question of interest?\n",
    "3. Did you make sure all legends and axes were legible from the back of the room?"
   ]
  },
  {
   "cell_type": "markdown",
   "metadata": {
    "colab_type": "text",
    "id": "ZBc0glanPm0M"
   },
   "source": [
    "## Example - San Francisco city employee salary data\n",
    "\n",
    "One way to understand how a city government works is by looking at who it employs and how its employees are compensated. This data contains the names, job title, and compensation for San Francisco city employees on an annual basis from 2011 to 2014.\n",
    "\n",
    "\n",
    "### Step 1 - Exploration Ideas\n",
    "\n",
    "1. How have salaries changed over time between different groups of people?\n",
    "2. How are base pay, overtime pay, and benefits allocated between different groups?\n",
    "4. How is budget allocated based on different groups and responsibilities?\n",
    "\n",
    "### Step 2 - Checking the data\n",
    "\n",
    "**Import tools set**"
   ]
  },
  {
   "cell_type": "code",
   "execution_count": 1,
   "metadata": {
    "ExecuteTime": {
     "end_time": "2019-07-31T19:39:44.231551Z",
     "start_time": "2019-07-31T19:39:41.728564Z"
    },
    "colab": {},
    "colab_type": "code",
    "id": "9Cx3LXxfPm0N"
   },
   "outputs": [],
   "source": [
    "%config InlineBackend.figure_format ='retina'\n",
    "from IPython.core.interactiveshell import InteractiveShell\n",
    "InteractiveShell.ast_node_interactivity = \"all\"\n",
    "\n",
    "import numpy as np\n",
    "import pandas as pd\n",
    "import seaborn as sns\n",
    "import matplotlib.pyplot as plt\n",
    "%matplotlib inline\n",
    "import warnings\n",
    "warnings.filterwarnings('ignore')\n",
    "\n",
    "sns.set_style(\"whitegrid\")"
   ]
  },
  {
   "cell_type": "markdown",
   "metadata": {
    "colab_type": "text",
    "id": "mFTQu0j6Pm0Q"
   },
   "source": [
    "**Import data**"
   ]
  },
  {
   "cell_type": "code",
   "execution_count": 2,
   "metadata": {
    "ExecuteTime": {
     "end_time": "2019-07-31T19:39:44.525758Z",
     "start_time": "2019-07-31T19:39:44.236078Z"
    },
    "colab": {},
    "colab_type": "code",
    "id": "w0YVchrVPm0R"
   },
   "outputs": [
    {
     "ename": "AttributeError",
     "evalue": "'str' object has no attribute '___'",
     "output_type": "error",
     "traceback": [
      "\u001b[0;31m---------------------------------------------------------------------------\u001b[0m",
      "\u001b[0;31mAttributeError\u001b[0m                            Traceback (most recent call last)",
      "\u001b[0;32m<ipython-input-2-6c81e9cc7235>\u001b[0m in \u001b[0;36m<module>\u001b[0;34m\u001b[0m\n\u001b[1;32m      1\u001b[0m \u001b[0;31m# Fill the blanks\u001b[0m\u001b[0;34m\u001b[0m\u001b[0;34m\u001b[0m\u001b[0;34m\u001b[0m\u001b[0m\n\u001b[1;32m      2\u001b[0m \u001b[0;31m# link = \"https://ml101-khanhnguyen.s3-ap-southeast-1.amazonaws.com/devc/Salaries.csv\"\u001b[0m\u001b[0;34m\u001b[0m\u001b[0;34m\u001b[0m\u001b[0;34m\u001b[0m\u001b[0m\n\u001b[0;32m----> 3\u001b[0;31m \u001b[0msal\u001b[0m \u001b[0;34m=\u001b[0m \u001b[0m___\u001b[0m\u001b[0;34m.\u001b[0m\u001b[0m___\u001b[0m\u001b[0;34m(\u001b[0m\u001b[0;34m'___'\u001b[0m\u001b[0;34m)\u001b[0m\u001b[0;34m\u001b[0m\u001b[0;34m\u001b[0m\u001b[0m\n\u001b[0m",
      "\u001b[0;31mAttributeError\u001b[0m: 'str' object has no attribute '___'"
     ]
    }
   ],
   "source": [
    "# Fill the blanks\n",
    "# link = \"https://ml101-khanhnguyen.s3-ap-southeast-1.amazonaws.com/devc/Salaries.csv\"\n",
    "sal = ___.___('___')"
   ]
  },
  {
   "cell_type": "markdown",
   "metadata": {
    "colab_type": "text",
    "id": "6nU6CxSjPm0U"
   },
   "source": [
    "**Check out head(), sample(), info(), describe()**"
   ]
  },
  {
   "cell_type": "code",
   "execution_count": null,
   "metadata": {
    "ExecuteTime": {
     "end_time": "2019-07-31T19:39:44.557741Z",
     "start_time": "2019-07-31T19:39:41.735Z"
    },
    "colab": {},
    "colab_type": "code",
    "id": "v_BKYV2qPm0V"
   },
   "outputs": [],
   "source": [
    "# Fix the error\n",
    "sals.head()"
   ]
  },
  {
   "cell_type": "code",
   "execution_count": null,
   "metadata": {
    "ExecuteTime": {
     "end_time": "2019-07-31T19:39:44.563947Z",
     "start_time": "2019-07-31T19:39:41.737Z"
    },
    "colab": {},
    "colab_type": "code",
    "id": "OjLrS9wlPm0a"
   },
   "outputs": [],
   "source": [
    "# Fix the error\n",
    "sal.sample[5]"
   ]
  },
  {
   "cell_type": "code",
   "execution_count": null,
   "metadata": {
    "ExecuteTime": {
     "end_time": "2019-07-31T19:39:44.578523Z",
     "start_time": "2019-07-31T19:39:41.740Z"
    },
    "colab": {},
    "colab_type": "code",
    "id": "AQ25O59kPm0d"
   },
   "outputs": [],
   "source": [
    "# Fix the error\n",
    "sal.infos()"
   ]
  },
  {
   "cell_type": "code",
   "execution_count": null,
   "metadata": {
    "ExecuteTime": {
     "end_time": "2019-07-31T19:39:44.583994Z",
     "start_time": "2019-07-31T19:39:41.743Z"
    },
    "colab": {},
    "colab_type": "code",
    "id": "oL4V7oDyPm0h"
   },
   "outputs": [],
   "source": [
    "# Fix the error\n",
    "sal.description()"
   ]
  },
  {
   "cell_type": "markdown",
   "metadata": {
    "colab_type": "text",
    "id": "wY6yv3UsPm0k"
   },
   "source": [
    "### Step 3 - Cleaning the data\n",
    "\n",
    "Few of useful data cleaning functions:\n",
    "\n",
    "* `s.astype('category')` # This will convert the datatype of the series to float *Please note that \"s\" here is a Pandas Series\n",
    "\n",
    "* `s.replace(1,'one')` # This will replace all values equal to 1 with 'one'\n",
    "\n",
    "* `s.replace([1,3],['one','three'])` # This will replace all 1 with 'one' and 3 with 'three'\n",
    "\n",
    "* `data.rename(columns=lambda x: x + 1)` # Mass renaming of columns\n",
    "\n",
    "* `data.rename(columns={'oldname': 'new name'})` # Selective renaming\n",
    "\n",
    "* `data.set_index('column_one')` #  This will change the index\n",
    "\n",
    "* `data.rename(index=lambda x: x + 1)` # Mass renaming of index\n",
    "\n",
    "* `data.dropna()` # Remove missing values\n",
    "\n",
    "* `data.fillna(x)` #  This will replaces all null values with x\n",
    "\n",
    "* `s.fillna(s.mean())` # This will replace all null values with the mean (mean can be replaced with almost any function from the below section) :\n",
    "\n",
    "* `data.corr()` # This will return the correlation between columns in a DataFrame\n",
    "\n",
    "* `data.count()` # This will return the number of non-null values in each DataFrame column\n",
    "\n",
    "* `data.max()` # This will return the highest value in each column\n",
    "\n",
    "* `data.min()` # This will return the lowest value in each column\n",
    "\n",
    "* `data.median()` # This will return the median of each column\n",
    "\n",
    "* `data.std()` # This will returns the standard deviation of each column\n"
   ]
  },
  {
   "cell_type": "markdown",
   "metadata": {
    "colab_type": "text",
    "id": "e5NuNcPscq9x"
   },
   "source": [
    "**Check duplication in columns in which the data must be unique**"
   ]
  },
  {
   "cell_type": "code",
   "execution_count": null,
   "metadata": {
    "ExecuteTime": {
     "end_time": "2019-07-31T19:39:44.587236Z",
     "start_time": "2019-07-31T19:39:41.747Z"
    },
    "colab": {},
    "colab_type": "code",
    "id": "GPIDpsygPm0l"
   },
   "outputs": [],
   "source": [
    "# Id must be unique\n",
    "# So the number of unique values must be equal the number of rows\n",
    "# Fill the blanks\n",
    "sal['Id'].___() == ___.___()"
   ]
  },
  {
   "cell_type": "markdown",
   "metadata": {
    "colab_type": "text",
    "id": "1cmMLYR5fsGl"
   },
   "source": [
    "**Change the type to category**"
   ]
  },
  {
   "cell_type": "code",
   "execution_count": null,
   "metadata": {
    "ExecuteTime": {
     "end_time": "2019-07-31T19:39:44.627821Z",
     "start_time": "2019-07-31T19:39:41.750Z"
    },
    "colab": {},
    "colab_type": "code",
    "id": "LtaeNb4yPm0p"
   },
   "outputs": [],
   "source": [
    "sal['Id'] = sal['Id'].astype('category')\n",
    "\n",
    "# Change Year to be a categorical variable too\n",
    "# Your code here\n"
   ]
  },
  {
   "cell_type": "markdown",
   "metadata": {
    "colab_type": "text",
    "id": "VSVoX1K3Pm0s"
   },
   "source": [
    "**Drop unnecessary columns**"
   ]
  },
  {
   "cell_type": "code",
   "execution_count": null,
   "metadata": {
    "ExecuteTime": {
     "end_time": "2019-07-31T19:39:44.634277Z",
     "start_time": "2019-07-31T19:39:41.753Z"
    },
    "colab": {},
    "colab_type": "code",
    "id": "RHV8TMa1Pm0t"
   },
   "outputs": [],
   "source": [
    "# Look at the info() again, which columns you can drop immediately?\n",
    "# Fill the blanks\n",
    "sal.drop(columns=['___', '___'], inplace=True)"
   ]
  },
  {
   "cell_type": "code",
   "execution_count": null,
   "metadata": {
    "ExecuteTime": {
     "end_time": "2019-07-31T19:39:44.637760Z",
     "start_time": "2019-07-31T19:39:41.755Z"
    },
    "colab": {},
    "colab_type": "code",
    "id": "xCvrYvQMPm0w"
   },
   "outputs": [],
   "source": [
    "# Are there any other columns that don't bring us much information?\n",
    "# Drop them coldbloodedly\n",
    "# Your code here"
   ]
  },
  {
   "cell_type": "code",
   "execution_count": null,
   "metadata": {
    "ExecuteTime": {
     "end_time": "2019-07-31T19:39:44.641090Z",
     "start_time": "2019-07-31T19:39:41.758Z"
    },
    "colab": {},
    "colab_type": "code",
    "id": "-Aykt_CoPm02"
   },
   "outputs": [],
   "source": [
    "# Check again with info()\n",
    "# Your code here"
   ]
  },
  {
   "cell_type": "markdown",
   "metadata": {
    "colab_type": "text",
    "id": "rcNsGWarPm06"
   },
   "source": [
    "**Check for NaN values**"
   ]
  },
  {
   "cell_type": "code",
   "execution_count": null,
   "metadata": {
    "ExecuteTime": {
     "end_time": "2019-07-31T19:39:44.643438Z",
     "start_time": "2019-07-31T19:39:41.761Z"
    },
    "colab": {},
    "colab_type": "code",
    "id": "TqLxHGy2Pm06",
    "outputId": "bfbd881f-74a6-44aa-8f95-9ace2fea2902"
   },
   "outputs": [],
   "source": [
    "# Fill the blank\n",
    "sal.___().sum()"
   ]
  },
  {
   "cell_type": "markdown",
   "metadata": {
    "colab_type": "text",
    "id": "RdhPk_x1Pm0-"
   },
   "source": [
    "**Examine few examples of NaN values**"
   ]
  },
  {
   "cell_type": "code",
   "execution_count": null,
   "metadata": {
    "ExecuteTime": {
     "end_time": "2019-07-31T19:39:44.645300Z",
     "start_time": "2019-07-31T19:39:41.766Z"
    },
    "colab": {},
    "colab_type": "code",
    "id": "3kGYpbdOPm0-",
    "outputId": "d0495bb5-2fdf-4027-fb8f-21a973457529"
   },
   "outputs": [],
   "source": [
    "# List all NaN values of OtherPay\n",
    "# Fill the blanks\n",
    "sal[___['___'].isnull()]"
   ]
  },
  {
   "cell_type": "markdown",
   "metadata": {
    "colab_type": "text",
    "id": "pNv3autOjiFj"
   },
   "source": [
    "**Drop missing values of OtherPay and OvertimePay**"
   ]
  },
  {
   "cell_type": "code",
   "execution_count": null,
   "metadata": {
    "ExecuteTime": {
     "end_time": "2019-07-31T19:39:44.647876Z",
     "start_time": "2019-07-31T19:39:41.769Z"
    },
    "colab": {},
    "colab_type": "code",
    "id": "ZDgbdnlhPm1C"
   },
   "outputs": [],
   "source": [
    "# Option 1\n",
    "# sal.drop(labels=[148646, 148650, 148651, 148652], axis=0)\n",
    "\n",
    "# Something cooler\n",
    "# Solution: Select data that OtherPay is not null and assign it to the dataframe 'sal'\n",
    "# Your code here"
   ]
  },
  {
   "cell_type": "markdown",
   "metadata": {
    "colab_type": "text",
    "id": "E8C8-rJ6kb5A"
   },
   "source": [
    "**Analize missing values of BasePay and Benefits**"
   ]
  },
  {
   "cell_type": "code",
   "execution_count": null,
   "metadata": {
    "ExecuteTime": {
     "end_time": "2019-07-31T19:39:44.650223Z",
     "start_time": "2019-07-31T19:39:41.773Z"
    },
    "colab": {},
    "colab_type": "code",
    "id": "auarSm-bPm1G",
    "outputId": "4e3fa729-1a17-4ed8-93b1-79b0d1e4765e"
   },
   "outputs": [],
   "source": [
    "# Select 5 sample of data that BasePay is null\n",
    "# Your code here"
   ]
  },
  {
   "cell_type": "markdown",
   "metadata": {
    "colab_type": "text",
    "id": "LI8UuvPePm1J"
   },
   "source": [
    "**For BasePay and Benefits, it is clear that NaN values are zeroes (from TotalPay and TotalPayBenefits).**\n",
    "\n",
    "**So, simply fill NaN values with 0**"
   ]
  },
  {
   "cell_type": "code",
   "execution_count": null,
   "metadata": {
    "ExecuteTime": {
     "end_time": "2019-07-31T19:39:44.655362Z",
     "start_time": "2019-07-31T19:39:41.777Z"
    },
    "colab": {},
    "colab_type": "code",
    "id": "weJT0fK1Pm1K"
   },
   "outputs": [],
   "source": [
    "# Fill the blanks\n",
    "sal['Benefits'].___(value=__, inplace=True)"
   ]
  },
  {
   "cell_type": "code",
   "execution_count": null,
   "metadata": {
    "ExecuteTime": {
     "end_time": "2019-07-31T19:39:44.657945Z",
     "start_time": "2019-07-31T19:39:41.780Z"
    },
    "colab": {},
    "colab_type": "code",
    "id": "CtY8mxaJPm1N"
   },
   "outputs": [],
   "source": [
    "# Fill the blanks\n",
    "sal['___'].___(___=___,inplace=True)"
   ]
  },
  {
   "cell_type": "code",
   "execution_count": null,
   "metadata": {
    "ExecuteTime": {
     "end_time": "2019-07-31T19:39:44.659870Z",
     "start_time": "2019-07-31T19:39:41.782Z"
    },
    "colab": {},
    "colab_type": "code",
    "id": "6r011Nm-Pm1Q",
    "outputId": "069409cd-f132-4746-fdcc-4a4a20d7098a"
   },
   "outputs": [],
   "source": [
    "# Let check for NaN values again\n",
    "# Your code here"
   ]
  },
  {
   "cell_type": "markdown",
   "metadata": {
    "colab_type": "text",
    "id": "4OJQFuzhPm1T"
   },
   "source": [
    "**Min values of some payments are negative. Let's check it out**"
   ]
  },
  {
   "cell_type": "code",
   "execution_count": null,
   "metadata": {
    "ExecuteTime": {
     "end_time": "2019-07-31T19:39:44.662876Z",
     "start_time": "2019-07-31T19:39:41.786Z"
    },
    "colab": {},
    "colab_type": "code",
    "id": "DS8XEj1UPm1U",
    "outputId": "d988d6d2-3938-4f7c-ae65-03f2c5d85b44"
   },
   "outputs": [],
   "source": [
    "# Select data that has negative TotalPay or TotalPayBenefits\n",
    "# Fill the blanks\n",
    "sal[(sal['___'] ___) | (sal['___'] ___)]"
   ]
  },
  {
   "cell_type": "markdown",
   "metadata": {
    "colab_type": "text",
    "id": "9w7-ugL0mQPC"
   },
   "source": [
    "**There are only 4 of them, we can safely drop these data**"
   ]
  },
  {
   "cell_type": "code",
   "execution_count": null,
   "metadata": {
    "ExecuteTime": {
     "end_time": "2019-07-31T19:39:44.670073Z",
     "start_time": "2019-07-31T19:39:41.789Z"
    },
    "colab": {},
    "colab_type": "code",
    "id": "2SfJWB9qPm1X"
   },
   "outputs": [],
   "source": [
    "# Your code here\n"
   ]
  },
  {
   "cell_type": "markdown",
   "metadata": {
    "colab_type": "text",
    "id": "mPny_KZsPm1Z"
   },
   "source": [
    "**Identify any errors or miscoding of variables**"
   ]
  },
  {
   "cell_type": "code",
   "execution_count": null,
   "metadata": {
    "ExecuteTime": {
     "end_time": "2019-07-31T19:39:44.677006Z",
     "start_time": "2019-07-31T19:39:41.792Z"
    },
    "colab": {},
    "colab_type": "code",
    "id": "9K85MLVzPm1Z",
    "outputId": "8f8c03bc-7035-4d05-cf78-627681812af5"
   },
   "outputs": [],
   "source": [
    "# Check the unique values of Year\n",
    "# Your code here"
   ]
  },
  {
   "cell_type": "markdown",
   "metadata": {
    "colab_type": "text",
    "id": "c56z5tkKPm1c"
   },
   "source": [
    "Check duplication"
   ]
  },
  {
   "cell_type": "code",
   "execution_count": null,
   "metadata": {
    "ExecuteTime": {
     "end_time": "2019-07-31T19:39:44.689351Z",
     "start_time": "2019-07-31T19:39:41.795Z"
    },
    "colab": {},
    "colab_type": "code",
    "id": "_JW2GOxIPm1c"
   },
   "outputs": [],
   "source": [
    "# Apply strip() on EmployeeName and Jobtitle \n",
    "# to remove all the leading and trailing spaces\n",
    "# Fill the blanks\n",
    "sal['EmployeeName'] = sal['___'].___.strip()\n",
    "sal['JobTitle'] = sal['___'].___.strip()"
   ]
  },
  {
   "cell_type": "code",
   "execution_count": null,
   "metadata": {
    "ExecuteTime": {
     "end_time": "2019-07-31T19:39:44.697891Z",
     "start_time": "2019-07-31T19:39:41.797Z"
    },
    "colab": {},
    "colab_type": "code",
    "id": "ZCl0vCkbPm1e",
    "outputId": "daae2c76-f1b6-4979-8d8b-c07d2ba8fe83"
   },
   "outputs": [],
   "source": [
    "# Check the number of unique value of EmployeeName\n",
    "sal['EmployeeName'].nunique()"
   ]
  },
  {
   "cell_type": "code",
   "execution_count": null,
   "metadata": {
    "ExecuteTime": {
     "end_time": "2019-07-31T19:39:44.705673Z",
     "start_time": "2019-07-31T19:39:41.800Z"
    },
    "colab": {},
    "colab_type": "code",
    "id": "AjoEmOqOPm1i",
    "outputId": "e269ff67-c569-43d7-d04d-3177bd77e392"
   },
   "outputs": [],
   "source": [
    "# Check the number of unique value of EmployeeName in lower case\n",
    "# Fill the blanks\n",
    "sal['EmployeeName'].___.lower().___()"
   ]
  },
  {
   "cell_type": "code",
   "execution_count": null,
   "metadata": {
    "ExecuteTime": {
     "end_time": "2019-07-31T19:39:44.733176Z",
     "start_time": "2019-07-31T19:39:41.802Z"
    },
    "colab": {},
    "colab_type": "code",
    "id": "xkHpzbNpPm1l",
    "outputId": "1b23b309-eec6-4477-be02-a2fb21d63371"
   },
   "outputs": [],
   "source": [
    "# Do the same with JobTitle\n",
    "# Fill the blank\n",
    "print(sal['JobTitle'].___())\n",
    "print(sal['JobTitle'].___.lower().___())"
   ]
  },
  {
   "cell_type": "code",
   "execution_count": null,
   "metadata": {
    "colab": {},
    "colab_type": "code",
    "id": "jpt9F8hoPm1o",
    "outputId": "dd434f6e-0378-4b3a-863e-d68ad218ba05"
   },
   "outputs": [],
   "source": []
  },
  {
   "cell_type": "code",
   "execution_count": null,
   "metadata": {
    "ExecuteTime": {
     "end_time": "2019-07-31T19:39:44.740465Z",
     "start_time": "2019-07-31T19:39:41.807Z"
    },
    "colab": {},
    "colab_type": "code",
    "id": "-JLeksePPm1r",
    "outputId": "fb7ca68b-879b-46da-ca10-8e7fdc224ab9"
   },
   "outputs": [],
   "source": [
    "# Select the most common name\n",
    "# Something wrong, fix the error\n",
    "names = sal['EmployeeNames'].str.lower().value_counts()\n",
    "sample = names[names > 1].head(1).index\n",
    "sal[sal['EmployeeNames'].str.lower().isin(samples)]"
   ]
  },
  {
   "cell_type": "markdown",
   "metadata": {
    "colab_type": "text",
    "id": "zB_Fu1c9Pm1u"
   },
   "source": [
    "*The names are duplicated because the data describes one person in different years or just because there are people who have same name. It's ok so we only need to uppercase all of the name to eliminate case sensitive.*\n",
    "\n",
    "*But there are definitely some duplication of Job Title, example `Police Officer 3` and `POLICE OFFICER III`*"
   ]
  },
  {
   "cell_type": "code",
   "execution_count": null,
   "metadata": {
    "ExecuteTime": {
     "end_time": "2019-07-31T19:39:44.743107Z",
     "start_time": "2019-07-31T19:39:41.811Z"
    },
    "colab": {},
    "colab_type": "code",
    "id": "Ufw8QW-6Pm1u"
   },
   "outputs": [],
   "source": [
    "# Replace Name and Job Title with its uppercase\n",
    "# Fill the blanks\n",
    "sal['EmployeeName'] = sal['EmployeeName'].___.___()\n",
    "sal['JobTitle'] = sal['JobTitle'].___.___()"
   ]
  },
  {
   "cell_type": "code",
   "execution_count": null,
   "metadata": {
    "ExecuteTime": {
     "end_time": "2019-07-31T19:39:44.750878Z",
     "start_time": "2019-07-31T19:39:41.814Z"
    },
    "colab": {},
    "colab_type": "code",
    "id": "heSYToXzPm1x"
   },
   "outputs": [],
   "source": [
    "# Write a regular expression to select JobTitle that ends with a digit\n",
    "# Fill the blank\n",
    "sal['JobTitle'][sal['JobTitle'].str.contains('___', regex=True)].value_counts()"
   ]
  },
  {
   "cell_type": "code",
   "execution_count": null,
   "metadata": {
    "ExecuteTime": {
     "end_time": "2019-07-31T19:39:44.753449Z",
     "start_time": "2019-07-31T19:39:41.817Z"
    },
    "colab": {},
    "colab_type": "code",
    "id": "xaYYbPRPPm10",
    "outputId": "49fbb836-433b-496c-bdf8-eb4ca59845e2"
   },
   "outputs": [],
   "source": [
    "# Write a regex that count all type of POLICE OFFICER\n",
    "# Fill the blank\n",
    "sal['JobTitle'][sal['JobTitle'].str.contains('___', regex=True)].value_counts()"
   ]
  },
  {
   "cell_type": "code",
   "execution_count": null,
   "metadata": {
    "ExecuteTime": {
     "end_time": "2019-07-31T19:39:44.758360Z",
     "start_time": "2019-07-31T19:39:41.822Z"
    },
    "colab": {},
    "colab_type": "code",
    "id": "V1eYSjo0Pm12",
    "outputId": "065326d6-b3cd-46e0-c0a4-5a90d5314950"
   },
   "outputs": [],
   "source": [
    "# This is a simple function to transform roman number\n",
    "def transform_roman(s):\n",
    "    d = {'I':1, 'II':2, 'III':3, 'IV':4, 'V':5, 'VI':6, 'VII':7, 'VIII':8, 'IX':9, 'X':10, \n",
    "        'XI':11, 'XII':12, 'XIII':13, 'XIV':14, 'XV':15, 'XVI':16, 'XVII':17, 'XVIII':18, 'XIX':19, 'XX':20}\n",
    "    \n",
    "    s_split = s.split()\n",
    "    if s_split[-1] in d.keys():\n",
    "        s_split[-1] = str(d[s_split[-1]])\n",
    "    return ' '.join(s_split)\n",
    "\n",
    "# Test it out\n",
    "transform_roman('POLICE OFFICER III')"
   ]
  },
  {
   "cell_type": "code",
   "execution_count": null,
   "metadata": {
    "ExecuteTime": {
     "end_time": "2019-07-31T19:39:44.761174Z",
     "start_time": "2019-07-31T19:39:41.825Z"
    },
    "colab": {},
    "colab_type": "code",
    "id": "2PX5dFaxPm14"
   },
   "outputs": [],
   "source": [
    "# Apply the function above to the column JobTitle\n",
    "# Fill the blank\n",
    "sal['JobTitle'] = sal['JobTitle'].apply(___)"
   ]
  },
  {
   "cell_type": "markdown",
   "metadata": {
    "colab_type": "text",
    "id": "Ikd1t-v3Pm17"
   },
   "source": [
    "### Step 4 - EDA"
   ]
  },
  {
   "cell_type": "markdown",
   "metadata": {
    "colab_type": "text",
    "id": "-dEBLw1uPm1-"
   },
   "source": [
    "**Plot categorical data**"
   ]
  },
  {
   "cell_type": "code",
   "execution_count": null,
   "metadata": {
    "ExecuteTime": {
     "end_time": "2019-07-31T19:39:44.763468Z",
     "start_time": "2019-07-31T19:39:41.828Z"
    },
    "colab": {},
    "colab_type": "code",
    "id": "_N-UF331Pm1-",
    "outputId": "b4348649-6982-42e0-b09b-16cad665fddc"
   },
   "outputs": [],
   "source": [
    "sns.countplot(x='Year', data=sal)\n",
    "# What can you tell about this?"
   ]
  },
  {
   "cell_type": "markdown",
   "metadata": {
    "colab_type": "text",
    "id": "pGvAB5cNPm2D"
   },
   "source": [
    "**Top 5 common job titles**"
   ]
  },
  {
   "cell_type": "code",
   "execution_count": null,
   "metadata": {
    "ExecuteTime": {
     "end_time": "2019-07-31T19:39:44.765643Z",
     "start_time": "2019-07-31T19:39:41.831Z"
    },
    "colab": {},
    "colab_type": "code",
    "id": "3LrHbjpHPm2D"
   },
   "outputs": [],
   "source": [
    "# Fill the blanks\n",
    "sal['JobTitle'].___().___().___(kind='barh')"
   ]
  },
  {
   "cell_type": "markdown",
   "metadata": {
    "colab_type": "text",
    "id": "JZvwnGZ-Pm2F"
   },
   "source": [
    "**Distribution of numerical data**"
   ]
  },
  {
   "cell_type": "code",
   "execution_count": null,
   "metadata": {
    "ExecuteTime": {
     "end_time": "2019-07-31T19:39:44.768236Z",
     "start_time": "2019-07-31T19:39:41.835Z"
    },
    "colab": {},
    "colab_type": "code",
    "id": "UnTkDE4NPm2F"
   },
   "outputs": [],
   "source": [
    "# Run this\n",
    "sns.distplot(sal['TotalPayBenefits'])"
   ]
  },
  {
   "cell_type": "code",
   "execution_count": null,
   "metadata": {
    "ExecuteTime": {
     "end_time": "2019-07-31T19:39:44.770607Z",
     "start_time": "2019-07-31T19:39:41.838Z"
    },
    "colab": {},
    "colab_type": "code",
    "id": "rS3lsmV4Pm2J"
   },
   "outputs": [],
   "source": [
    "# Histogram is sensitive with the bins, try some examples to prove that\n",
    "plt.hist(sal['TotalPayBenefits'], bins=5)\n",
    "plt.show()"
   ]
  },
  {
   "cell_type": "code",
   "execution_count": null,
   "metadata": {
    "ExecuteTime": {
     "end_time": "2019-07-31T19:39:44.772203Z",
     "start_time": "2019-07-31T19:39:41.847Z"
    },
    "colab": {},
    "colab_type": "code",
    "id": "OmY97JiBsn__",
    "outputId": "3732affd-9ac9-4bf7-af93-4c4f081f61c0"
   },
   "outputs": [],
   "source": [
    "# Plot these diagrams in a dashboard with two rows and two columns\n",
    "# sns.kdeplot(sal['BasePay'])\n",
    "# sns.kdeplot(sal['OvertimePay'])\n",
    "# sns.kdeplot(sal['OtherPay'])\n",
    "# sns.kdeplot(sal['Benefits'])\n",
    "\n",
    "f, axes = plt.subplots(2, 2, figsize=(12, 6))\n",
    "\n",
    "# Your code here\n",
    "\n",
    "plt.show()"
   ]
  },
  {
   "cell_type": "code",
   "execution_count": null,
   "metadata": {
    "ExecuteTime": {
     "end_time": "2019-07-31T19:39:44.774053Z",
     "start_time": "2019-07-31T19:39:41.860Z"
    },
    "colab": {},
    "colab_type": "code",
    "id": "3bhCQzNfPm2S",
    "outputId": "62baa862-0c69-475f-8a31-0ff740252980"
   },
   "outputs": [],
   "source": [
    "# Plot these diagrams in a dashboard with one rows and two columns\n",
    "# sns.distplot(sal['TotalPay'])\n",
    "# sns.distplot(sal['TotalPayBenefits'])\n",
    "\n",
    "f, axes = plt.subplots(1, 2, figsize=(12, 6))\n",
    "\n",
    "# Your code here\n",
    "\n",
    "plt.show()"
   ]
  },
  {
   "cell_type": "markdown",
   "metadata": {
    "colab_type": "text",
    "id": "AYQl8xQstFcl"
   },
   "source": [
    "**Analize richest people**"
   ]
  },
  {
   "cell_type": "code",
   "execution_count": null,
   "metadata": {
    "ExecuteTime": {
     "end_time": "2019-07-31T19:39:44.776132Z",
     "start_time": "2019-07-31T19:39:41.866Z"
    },
    "colab": {},
    "colab_type": "code",
    "id": "wnr3XVJYPm2U"
   },
   "outputs": [],
   "source": [
    "# Select people that have TotalPayBenefit greater than $300k\n",
    "# Your code here"
   ]
  },
  {
   "cell_type": "code",
   "execution_count": null,
   "metadata": {
    "ExecuteTime": {
     "end_time": "2019-07-31T19:39:44.778053Z",
     "start_time": "2019-07-31T19:39:41.870Z"
    },
    "colab": {},
    "colab_type": "code",
    "id": "Qc4DYmaNPm2Y"
   },
   "outputs": [],
   "source": [
    "def split_income_type(n):\n",
    "    if n < 1000:\n",
    "        return 'Retired'\n",
    "    elif n < 50000:\n",
    "        return 'Low Income'\n",
    "    elif n < 150000:\n",
    "        return 'Midrange'\n",
    "    elif n < 250000:\n",
    "        return 'High Income'\n",
    "    else:\n",
    "        return 'Millionaire'"
   ]
  },
  {
   "cell_type": "code",
   "execution_count": null,
   "metadata": {
    "ExecuteTime": {
     "end_time": "2019-07-31T19:39:44.779830Z",
     "start_time": "2019-07-31T19:39:41.874Z"
    },
    "colab": {},
    "colab_type": "code",
    "id": "ndS0LG9_tX0Y"
   },
   "outputs": [],
   "source": [
    "# Apply the function above to create a new column name IncomeType from TotalPayBenefits\n",
    "# Fill the blank\n",
    "sal['IncomeType'] = ___"
   ]
  },
  {
   "cell_type": "code",
   "execution_count": null,
   "metadata": {
    "ExecuteTime": {
     "end_time": "2019-07-31T19:39:44.781318Z",
     "start_time": "2019-07-31T19:39:41.876Z"
    },
    "colab": {},
    "colab_type": "code",
    "id": "Uh8VVB1nPm2a",
    "outputId": "bdee24cb-df51-4b30-9319-750375b4134a"
   },
   "outputs": [],
   "source": [
    "sns.countplot(sal['IncomeType'])\n",
    "# What can you tell?"
   ]
  },
  {
   "cell_type": "code",
   "execution_count": null,
   "metadata": {
    "ExecuteTime": {
     "end_time": "2019-07-31T19:39:44.784934Z",
     "start_time": "2019-07-31T19:39:41.880Z"
    },
    "colab": {},
    "colab_type": "code",
    "id": "iQtknDUIPm2e",
    "outputId": "78563215-b7bf-409c-d5de-712792c1d30e"
   },
   "outputs": [],
   "source": [
    "# Pie chart\n",
    "labels = []\n",
    "sizes = []\n",
    "explode = []\n",
    "\n",
    "labels = sal['IncomeType'].value_counts().index\n",
    "for index, size in enumerate(sal['IncomeType'].value_counts()):\n",
    "    sizes.append(size)\n",
    "    if labels[index] == 'Millionaire':\n",
    "        explode.append(0.2)\n",
    "    else:  # add high income too?\n",
    "        explode.append(0)\n",
    "\n",
    "_, ax1 = plt.subplots()\n",
    "ax1.pie(sizes,\n",
    "        explode=explode,\n",
    "        labels=labels,\n",
    "        autopct='%1.1f%%',\n",
    "        shadow=True,\n",
    "        startangle=45)\n",
    "# Equal aspect ratio ensures that pie is drawn as a circle\n",
    "ax1.axis('equal')\n",
    "plt.tight_layout()\n",
    "plt.show()"
   ]
  },
  {
   "cell_type": "code",
   "execution_count": null,
   "metadata": {
    "ExecuteTime": {
     "end_time": "2019-07-31T19:39:44.787426Z",
     "start_time": "2019-07-31T19:39:41.883Z"
    },
    "colab": {},
    "colab_type": "code",
    "id": "pbAUA-kgPm20"
   },
   "outputs": [],
   "source": [
    "# What is the top 10 Job Title of Millionaire\n",
    "# Fill the blank\n",
    "millionare_jobs = sal[___].groupby('JobTitle').mean()\n",
    "millionare_jobs.sort_values(by=['TotalPayBenefits'], ascending=___)['TotalPayBenefits'].___(10).plot(kind='___')"
   ]
  },
  {
   "cell_type": "code",
   "execution_count": null,
   "metadata": {
    "ExecuteTime": {
     "end_time": "2019-07-31T19:39:44.790418Z",
     "start_time": "2019-07-31T19:39:41.886Z"
    },
    "colab": {},
    "colab_type": "code",
    "id": "5LNMS8DGPm22"
   },
   "outputs": [],
   "source": [
    "# Find the name of 10 richest man\n",
    "# Your code here"
   ]
  },
  {
   "cell_type": "code",
   "execution_count": null,
   "metadata": {
    "ExecuteTime": {
     "end_time": "2019-07-31T19:39:44.792396Z",
     "start_time": "2019-07-31T19:39:41.890Z"
    },
    "colab": {},
    "colab_type": "code",
    "id": "TDMwfQIfPm2-",
    "outputId": "9df94fce-80ad-48e1-83fc-77236c09754f"
   },
   "outputs": [],
   "source": [
    "# Analyze TotalPayBenefits of 10 richest man each Year\n",
    "# Your code here"
   ]
  },
  {
   "cell_type": "markdown",
   "metadata": {
    "colab_type": "text",
    "id": "MoBgPjDiwhdV"
   },
   "source": [
    "### You are awesome!!"
   ]
  }
 ],
 "metadata": {
  "colab": {
   "name": "Lab_3_EDA.ipynb",
   "provenance": [],
   "version": "0.3.2"
  },
  "kernelspec": {
   "display_name": "Python 3",
   "language": "python",
   "name": "python3"
  },
  "language_info": {
   "codemirror_mode": {
    "name": "ipython",
    "version": 3
   },
   "file_extension": ".py",
   "mimetype": "text/x-python",
   "name": "python",
   "nbconvert_exporter": "python",
   "pygments_lexer": "ipython3",
   "version": "3.7.3"
  },
  "toc": {
   "base_numbering": 1,
   "nav_menu": {},
   "number_sections": true,
   "sideBar": true,
   "skip_h1_title": false,
   "title_cell": "Table of Contents",
   "title_sidebar": "Contents",
   "toc_cell": false,
   "toc_position": {},
   "toc_section_display": true,
   "toc_window_display": true
  },
  "varInspector": {
   "cols": {
    "lenName": 16,
    "lenType": 16,
    "lenVar": 40
   },
   "kernels_config": {
    "python": {
     "delete_cmd_postfix": "",
     "delete_cmd_prefix": "del ",
     "library": "var_list.py",
     "varRefreshCmd": "print(var_dic_list())"
    },
    "r": {
     "delete_cmd_postfix": ") ",
     "delete_cmd_prefix": "rm(",
     "library": "var_list.r",
     "varRefreshCmd": "cat(var_dic_list()) "
    }
   },
   "types_to_exclude": [
    "module",
    "function",
    "builtin_function_or_method",
    "instance",
    "_Feature"
   ],
   "window_display": false
  }
 },
 "nbformat": 4,
 "nbformat_minor": 1
}
