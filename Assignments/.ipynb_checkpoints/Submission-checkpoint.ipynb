{
 "cells": [
  {
   "cell_type": "markdown",
   "metadata": {},
   "source": [
    "# SQL"
   ]
  },
  {
   "cell_type": "markdown",
   "metadata": {},
   "source": [
    "https://www.hackerrank.com/rest/contests/master/challenges/revising-the-select-query/hackers/huynhducduy/download_solution"
   ]
  },
  {
   "cell_type": "markdown",
   "metadata": {},
   "source": [
    "https://www.hackerrank.com/rest/contests/master/challenges/revising-the-select-query-2/hackers/huynhducduy/download_solution"
   ]
  },
  {
   "cell_type": "markdown",
   "metadata": {},
   "source": [
    "https://www.hackerrank.com/rest/contests/master/challenges/select-all-sql/hackers/huynhducduy/download_solution"
   ]
  },
  {
   "cell_type": "markdown",
   "metadata": {},
   "source": [
    "https://www.hackerrank.com/rest/contests/master/challenges/select-by-id/hackers/huynhducduy/download_solution"
   ]
  },
  {
   "cell_type": "markdown",
   "metadata": {},
   "source": [
    "https://www.hackerrank.com/rest/contests/master/challenges/japanese-cities-attributes/hackers/huynhducduy/download_solution"
   ]
  },
  {
   "cell_type": "markdown",
   "metadata": {},
   "source": [
    "https://www.hackerrank.com/rest/contests/master/challenges/japanese-cities-name/hackers/huynhducduy/download_solution"
   ]
  },
  {
   "cell_type": "markdown",
   "metadata": {},
   "source": [
    "https://www.hackerrank.com/rest/contests/master/challenges/weather-observation-station-1/hackers/huynhducduy/download_solution"
   ]
  },
  {
   "cell_type": "markdown",
   "metadata": {},
   "source": [
    "https://www.hackerrank.com/rest/contests/master/challenges/weather-observation-station-3/hackers/huynhducduy/download_solution"
   ]
  },
  {
   "cell_type": "markdown",
   "metadata": {},
   "source": [
    "https://www.hackerrank.com/rest/contests/master/challenges/weather-observation-station-4/hackers/huynhducduy/download_solution"
   ]
  },
  {
   "cell_type": "markdown",
   "metadata": {},
   "source": [
    "https://www.hackerrank.com/rest/contests/master/challenges/weather-observation-station-5/hackers/huynhducduy/download_solution"
   ]
  },
  {
   "cell_type": "markdown",
   "metadata": {},
   "source": [
    "https://www.hackerrank.com/rest/contests/master/challenges/weather-observation-station-6/hackers/huynhducduy/download_solution"
   ]
  },
  {
   "cell_type": "markdown",
   "metadata": {},
   "source": [
    "https://www.hackerrank.com/rest/contests/master/challenges/weather-observation-station-7/hackers/huynhducduy/download_solution"
   ]
  },
  {
   "cell_type": "markdown",
   "metadata": {},
   "source": [
    "https://www.hackerrank.com/rest/contests/master/challenges/weather-observation-station-8/hackers/huynhducduy/download_solution"
   ]
  },
  {
   "cell_type": "markdown",
   "metadata": {},
   "source": [
    "https://www.hackerrank.com/rest/contests/master/challenges/weather-observation-station-9/hackers/huynhducduy/download_solution"
   ]
  },
  {
   "cell_type": "markdown",
   "metadata": {},
   "source": [
    "https://www.hackerrank.com/rest/contests/master/challenges/weather-observation-station-10/hackers/huynhducduy/download_solution"
   ]
  },
  {
   "cell_type": "markdown",
   "metadata": {},
   "source": [
    "https://www.hackerrank.com/rest/contests/master/challenges/weather-observation-station-11/hackers/huynhducduy/download_solution"
   ]
  },
  {
   "cell_type": "markdown",
   "metadata": {},
   "source": [
    "https://www.hackerrank.com/rest/contests/master/challenges/weather-observation-station-12/hackers/huynhducduy/download_solution"
   ]
  },
  {
   "cell_type": "markdown",
   "metadata": {},
   "source": [
    "https://www.hackerrank.com/rest/contests/master/challenges/more-than-75-marks/hackers/huynhducduy/download_solution"
   ]
  },
  {
   "cell_type": "markdown",
   "metadata": {},
   "source": [
    "https://www.hackerrank.com/rest/contests/master/challenges/name-of-employees/hackers/huynhducduy/download_solution"
   ]
  },
  {
   "cell_type": "markdown",
   "metadata": {},
   "source": [
    "https://www.hackerrank.com/rest/contests/master/challenges/salary-of-employees/hackers/huynhducduy/download_solution"
   ]
  },
  {
   "cell_type": "markdown",
   "metadata": {},
   "source": [
    "# Python"
   ]
  },
  {
   "cell_type": "markdown",
   "metadata": {},
   "source": [
    "https://www.hackerrank.com/rest/contests/master/challenges/py-hello-world/hackers/huynhducduy/download_solution"
   ]
  },
  {
   "cell_type": "markdown",
   "metadata": {},
   "source": [
    "https://www.hackerrank.com/rest/contests/master/challenges/py-if-else/hackers/huynhducduy/download_solution"
   ]
  },
  {
   "cell_type": "markdown",
   "metadata": {},
   "source": [
    "https://www.hackerrank.com/rest/contests/master/challenges/python-arithmetic-operators/hackers/huynhducduy/download_solution"
   ]
  },
  {
   "cell_type": "markdown",
   "metadata": {},
   "source": [
    "https://www.hackerrank.com/rest/contests/master/challenges/python-division/hackers/huynhducduy/download_solution"
   ]
  },
  {
   "cell_type": "markdown",
   "metadata": {},
   "source": [
    "https://www.hackerrank.com/rest/contests/master/challenges/python-loops/hackers/huynhducduy/download_solution"
   ]
  }
 ],
 "metadata": {
  "kernelspec": {
   "display_name": "Python 3",
   "language": "python",
   "name": "python3"
  },
  "language_info": {
   "codemirror_mode": {
    "name": "ipython",
    "version": 3
   },
   "file_extension": ".py",
   "mimetype": "text/x-python",
   "name": "python",
   "nbconvert_exporter": "python",
   "pygments_lexer": "ipython3",
   "version": "3.7.3"
  }
 },
 "nbformat": 4,
 "nbformat_minor": 2
}
