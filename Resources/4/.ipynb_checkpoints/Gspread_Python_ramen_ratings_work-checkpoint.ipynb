{
 "cells": [
  {
   "cell_type": "code",
   "execution_count": 0,
   "metadata": {
    "colab": {
     "base_uri": "https://localhost:8080/",
     "height": 228
    },
    "colab_type": "code",
    "id": "RbQ9lIV1bO9w",
    "outputId": "0f5517b1-8969-40e4-db88-25de444a5818"
   },
   "outputs": [
    {
     "name": "stdout",
     "output_type": "stream",
     "text": [
      "Requirement already satisfied: gspread in /usr/local/lib/python3.6/dist-packages (3.1.0)\n",
      "Requirement already satisfied: oauth2client in /usr/local/lib/python3.6/dist-packages (4.1.3)\n",
      "Requirement already satisfied: requests>=2.2.1 in /usr/local/lib/python3.6/dist-packages (from gspread) (2.21.0)\n",
      "Requirement already satisfied: six>=1.6.1 in /usr/local/lib/python3.6/dist-packages (from oauth2client) (1.12.0)\n",
      "Requirement already satisfied: httplib2>=0.9.1 in /usr/local/lib/python3.6/dist-packages (from oauth2client) (0.11.3)\n",
      "Requirement already satisfied: pyasn1-modules>=0.0.5 in /usr/local/lib/python3.6/dist-packages (from oauth2client) (0.2.5)\n",
      "Requirement already satisfied: rsa>=3.1.4 in /usr/local/lib/python3.6/dist-packages (from oauth2client) (4.0)\n",
      "Requirement already satisfied: pyasn1>=0.1.7 in /usr/local/lib/python3.6/dist-packages (from oauth2client) (0.4.5)\n",
      "Requirement already satisfied: chardet<3.1.0,>=3.0.2 in /usr/local/lib/python3.6/dist-packages (from requests>=2.2.1->gspread) (3.0.4)\n",
      "Requirement already satisfied: certifi>=2017.4.17 in /usr/local/lib/python3.6/dist-packages (from requests>=2.2.1->gspread) (2019.6.16)\n",
      "Requirement already satisfied: idna<2.9,>=2.5 in /usr/local/lib/python3.6/dist-packages (from requests>=2.2.1->gspread) (2.8)\n",
      "Requirement already satisfied: urllib3<1.25,>=1.21.1 in /usr/local/lib/python3.6/dist-packages (from requests>=2.2.1->gspread) (1.24.3)\n"
     ]
    }
   ],
   "source": [
    "!pip install --upgrade -q gspread\n",
    "!pip install gspread oauth2client"
   ]
  },
  {
   "cell_type": "code",
   "execution_count": 0,
   "metadata": {
    "colab": {},
    "colab_type": "code",
    "id": "qam7GwRnbeLy"
   },
   "outputs": [],
   "source": [
    "from google.colab import auth\n",
    "auth.authenticate_user()\n",
    "\n",
    "import gspread\n",
    "from oauth2client.client import GoogleCredentials\n",
    "from gspread_dataframe import get_as_dataframe, set_with_dataframe \n"
   ]
  },
  {
   "cell_type": "code",
   "execution_count": 0,
   "metadata": {
    "colab": {},
    "colab_type": "code",
    "id": "sKJd1H3GbqHz"
   },
   "outputs": [],
   "source": [
    "gc = gspread.authorize(GoogleCredentials.get_application_default()) #grant access to google drive "
   ]
  },
  {
   "cell_type": "code",
   "execution_count": 0,
   "metadata": {
    "colab": {},
    "colab_type": "code",
    "id": "zydVGmewbz6W"
   },
   "outputs": [],
   "source": [
    "def check_exists(path):\n",
    "  # open the file. If exist return True\n",
    "  # Your code here"
   ]
  },
  {
   "cell_type": "code",
   "execution_count": 0,
   "metadata": {
    "colab": {},
    "colab_type": "code",
    "id": "ckkzvAU4biGA"
   },
   "outputs": [],
   "source": [
    "def create_new_worksheet(path='worksheet', sheets={\"sheet1\":\"\"}):\n",
    "    if check_exists(path):\n",
    "        print('create_new_worksheet(): File exists')\n",
    "        return gc.open(path)\n",
    "    sh = gc.create(path)\n",
    "    for name, cols in sheets.items():\n",
    "        sh.add_worksheet(title=name, rows=\"100\", cols=\"100\")\n",
    "        sh.values_update(\n",
    "            name + '!A1',\n",
    "            params={'valueInputOption': 'RAW'},\n",
    "            body={'values': [cols]}\n",
    "        )      \n",
    "    sh.del_worksheet(sh.sheet1)\n",
    "    return sh\n"
   ]
  },
  {
   "cell_type": "code",
   "execution_count": 0,
   "metadata": {
    "colab": {},
    "colab_type": "code",
    "id": "XSIIOpEpz2X9"
   },
   "outputs": [],
   "source": [
    "# Import numpy and pandas"
   ]
  },
  {
   "cell_type": "code",
   "execution_count": 0,
   "metadata": {
    "colab": {},
    "colab_type": "code",
    "id": "gH588jf4z7rL"
   },
   "outputs": [],
   "source": [
    "link = 'https://ml101-khanhnguyen.s3-ap-southeast-1.amazonaws.com/devc/GDS/ramen-ratings.csv'\n",
    "ramen_ratings = # Your code here"
   ]
  },
  {
   "cell_type": "code",
   "execution_count": 0,
   "metadata": {
    "colab": {
     "base_uri": "https://localhost:8080/",
     "height": 35
    },
    "colab_type": "code",
    "id": "VBSi0RSP0LMl",
    "outputId": "0cf72fda-793f-4baa-c64b-2d5c02c82500"
   },
   "outputs": [
    {
     "data": {
      "text/plain": [
       "['Review #', 'Brand', 'Variety', 'Style', 'Country', 'Stars', 'Top Ten']"
      ]
     },
     "execution_count": 10,
     "metadata": {
      "tags": []
     },
     "output_type": "execute_result"
    }
   ],
   "source": [
    "# Get name of columns"
   ]
  },
  {
   "cell_type": "code",
   "execution_count": 0,
   "metadata": {
    "colab": {},
    "colab_type": "code",
    "id": "AIZWBtQcbjaI"
   },
   "outputs": [],
   "source": [
    "sheets = {\n",
    "    # Sheet name: column in this sheet\n",
    "}"
   ]
  },
  {
   "cell_type": "code",
   "execution_count": 0,
   "metadata": {
    "colab": {
     "base_uri": "https://localhost:8080/",
     "height": 35
    },
    "colab_type": "code",
    "id": "QGccpAM72kLW",
    "outputId": "9cdc401f-8a3b-4c17-a815-e65aad733927"
   },
   "outputs": [
    {
     "name": "stdout",
     "output_type": "stream",
     "text": [
      "create_new_worksheet(): File exists\n"
     ]
    }
   ],
   "source": [
    "# Use create_new_worksheet to create or open new worksheet \"ramen_ratings\"\n",
    "sh = # Your code here"
   ]
  },
  {
   "cell_type": "code",
   "execution_count": 0,
   "metadata": {
    "colab": {},
    "colab_type": "code",
    "id": "xVjoR2MOb5D7"
   },
   "outputs": [],
   "source": [
    "# def transpose(worksheet='', sheet_id=int(), sheet_id_transpose=int()):\n",
    "#   wks = gc.open(worksheet)\n",
    "#   rows = wks.get_worksheet(sheet_id).row_values(1) # avoid getting Unnamed Cols\n",
    "  \n",
    "#   df1 = get_as_dataframe(wks.get_worksheet(sheet_id), index=False, usecols=range(len(rows))) #get worksheet as dataframe\n",
    "#   df2 = df1.fillna(\"\") # gspread doesn't understand NAN\n",
    "  \n",
    "#   df_tranpose = df2.transpose()\n",
    "#   df_tranpose.reset_index(inplace=True) # Title of the primary df is index in transpose df \n",
    "  \n",
    "#   wks.values_update( #Fill in the value of the transpose work sheet horizontally \n",
    "#     list(sheets.keys())[sheet_id_transpose] + '!A1', \n",
    "#     params={'valueInputOption': 'RAW'}, \n",
    "#     body={'values': df_tranpose.values.tolist()} \n",
    "#   )\n",
    "\n",
    "#   return wks"
   ]
  },
  {
   "cell_type": "code",
   "execution_count": 0,
   "metadata": {
    "colab": {},
    "colab_type": "code",
    "id": "ChXAKq88buUY"
   },
   "outputs": [],
   "source": [
    "# def remove_wks(worksheet='', sheet_id_transpose=int(), row_delete=int()):\n",
    "#   wks = gc.open(worksheet)\n",
    "#   wks.get_worksheet(sheet_id_transpose).delete_row(row_delete)\n",
    "#   return wks"
   ]
  },
  {
   "cell_type": "markdown",
   "metadata": {
    "colab_type": "text",
    "id": "QXo-g4DQdb3H"
   },
   "source": [
    "For more information about each block of code, please refer to the markdown."
   ]
  },
  {
   "cell_type": "markdown",
   "metadata": {
    "colab_type": "text",
    "id": "atkkLNxBD4fu"
   },
   "source": [
    "# Work with dataframe \n",
    "\n"
   ]
  },
  {
   "cell_type": "markdown",
   "metadata": {
    "colab_type": "text",
    "id": "S6wjOAP5ZgwC"
   },
   "source": [
    "## 1. Get google spreadsheet data as dataframe "
   ]
  },
  {
   "cell_type": "code",
   "execution_count": 0,
   "metadata": {
    "colab": {},
    "colab_type": "code",
    "id": "CP4MtDkjZfIN"
   },
   "outputs": [],
   "source": [
    "df = pd.DataFrame(sh.sheet1.get_all_records()) \n",
    "# Note:\n",
    "# replace sheet1 with the sheet you want to get data from.\n",
    "# sh is the sheet you has already open. Please refer to the code above if you don't know how to do it. "
   ]
  },
  {
   "cell_type": "code",
   "execution_count": 0,
   "metadata": {
    "colab": {},
    "colab_type": "code",
    "id": "j-gaKvH-3voA"
   },
   "outputs": [],
   "source": [
    "df.head()"
   ]
  },
  {
   "cell_type": "markdown",
   "metadata": {
    "colab_type": "text",
    "id": "6w-c_9jyaBmg"
   },
   "source": [
    "## 2. Push dataframe to google spreadsheet "
   ]
  },
  {
   "cell_type": "code",
   "execution_count": 0,
   "metadata": {
    "colab": {},
    "colab_type": "code",
    "id": "WDkFS9eyD3-6"
   },
   "outputs": [],
   "source": [
    "#Paste the header of the dataframe as column\n",
    "# sh.values_update(\n",
    "#     'ramen_ratings!A1', \n",
    "#     params={'valueInputOption': 'RAW'}, \n",
    "#     body={'values': [ramen_ratings.columns.tolist()]}\n",
    "# )\n",
    "#Paste the remaining data\n",
    "\n",
    "# Base on above syntax, fill sheet with data from ramen_ratings"
   ]
  }
 ],
 "metadata": {
  "colab": {
   "collapsed_sections": [],
   "name": "Gspread Python - ramen ratings - work.ipynb",
   "provenance": [],
   "version": "0.3.2"
  },
  "kernelspec": {
   "display_name": "Python 3",
   "language": "python",
   "name": "python3"
  },
  "language_info": {
   "codemirror_mode": {
    "name": "ipython",
    "version": 3
   },
   "file_extension": ".py",
   "mimetype": "text/x-python",
   "name": "python",
   "nbconvert_exporter": "python",
   "pygments_lexer": "ipython3",
   "version": "3.7.3"
  }
 },
 "nbformat": 4,
 "nbformat_minor": 1
}
