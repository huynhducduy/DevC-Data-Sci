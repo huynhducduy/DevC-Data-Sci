{
  "nbformat": 4,
  "nbformat_minor": 0,
  "metadata": {
    "colab": {
      "name": "Lecture_4_GoogleDataStudio.ipynb",
      "version": "0.3.2",
      "provenance": []
    },
    "kernelspec": {
      "name": "python3",
      "display_name": "Python 3"
    }
  },
  "cells": [
    {
      "cell_type": "markdown",
      "metadata": {
        "id": "YJ3Up-Xi1bzn",
        "colab_type": "text"
      },
      "source": [
        "![](https://i.imgur.com/0AUxkXt.png)"
      ]
    },
    {
      "cell_type": "markdown",
      "metadata": {
        "id": "v6nwV_2-1dA6",
        "colab_type": "text"
      },
      "source": [
        "# Lecture 4 - Google Data Studio"
      ]
    },
    {
      "cell_type": "markdown",
      "metadata": {
        "id": "_6iXXlro1nI_",
        "colab_type": "text"
      },
      "source": [
        "## Interaction with Google Sheets\n",
        "\n",
        "First, we'll install the package using pip."
      ]
    },
    {
      "cell_type": "code",
      "metadata": {
        "id": "InAndhNhx3iD",
        "colab_type": "code",
        "outputId": "68823dcc-3bc5-4091-a73b-07cf42bea8f6",
        "colab": {
          "base_uri": "https://localhost:8080/",
          "height": 238
        }
      },
      "source": [
        "!pip install --upgrade -q gspread\n",
        "!pip install gspread oauth2client"
      ],
      "execution_count": 0,
      "outputs": [
        {
          "output_type": "stream",
          "text": [
            "Requirement already satisfied: gspread in /usr/local/lib/python3.6/dist-packages (3.1.0)\n",
            "Requirement already satisfied: oauth2client in /usr/local/lib/python3.6/dist-packages (4.1.3)\n",
            "Requirement already satisfied: requests>=2.2.1 in /usr/local/lib/python3.6/dist-packages (from gspread) (2.21.0)\n",
            "Requirement already satisfied: httplib2>=0.9.1 in /usr/local/lib/python3.6/dist-packages (from oauth2client) (0.11.3)\n",
            "Requirement already satisfied: six>=1.6.1 in /usr/local/lib/python3.6/dist-packages (from oauth2client) (1.12.0)\n",
            "Requirement already satisfied: pyasn1>=0.1.7 in /usr/local/lib/python3.6/dist-packages (from oauth2client) (0.4.5)\n",
            "Requirement already satisfied: rsa>=3.1.4 in /usr/local/lib/python3.6/dist-packages (from oauth2client) (4.0)\n",
            "Requirement already satisfied: pyasn1-modules>=0.0.5 in /usr/local/lib/python3.6/dist-packages (from oauth2client) (0.2.5)\n",
            "Requirement already satisfied: idna<2.9,>=2.5 in /usr/local/lib/python3.6/dist-packages (from requests>=2.2.1->gspread) (2.8)\n",
            "Requirement already satisfied: certifi>=2017.4.17 in /usr/local/lib/python3.6/dist-packages (from requests>=2.2.1->gspread) (2019.6.16)\n",
            "Requirement already satisfied: chardet<3.1.0,>=3.0.2 in /usr/local/lib/python3.6/dist-packages (from requests>=2.2.1->gspread) (3.0.4)\n",
            "Requirement already satisfied: urllib3<1.25,>=1.21.1 in /usr/local/lib/python3.6/dist-packages (from requests>=2.2.1->gspread) (1.24.3)\n"
          ],
          "name": "stdout"
        }
      ]
    },
    {
      "cell_type": "markdown",
      "metadata": {
        "id": "z5DZomhW4dg7",
        "colab_type": "text"
      },
      "source": [
        "Next, we'll import the library, authenticate, and create the interface to sheets."
      ]
    },
    {
      "cell_type": "code",
      "metadata": {
        "id": "q9tZSywFx69S",
        "colab_type": "code",
        "colab": {}
      },
      "source": [
        "from google.colab import auth\n",
        "auth.authenticate_user()\n",
        "\n",
        "import gspread\n",
        "from oauth2client.client import GoogleCredentials\n",
        "from gspread_dataframe import get_as_dataframe, set_with_dataframe\n",
        "\n",
        "gc = gspread.authorize(GoogleCredentials.get_application_default()) #grant access to google drive "
      ],
      "execution_count": 0,
      "outputs": []
    },
    {
      "cell_type": "markdown",
      "metadata": {
        "id": "7dMn2oUwE6_2",
        "colab_type": "text"
      },
      "source": [
        "**Cleaning Data**"
      ]
    },
    {
      "cell_type": "code",
      "metadata": {
        "id": "P5N2N4bmyap3",
        "colab_type": "code",
        "colab": {}
      },
      "source": [
        "sh = gc.open('Ramen_ratings')"
      ],
      "execution_count": 0,
      "outputs": []
    },
    {
      "cell_type": "code",
      "metadata": {
        "id": "1QVnkRo26x_f",
        "colab_type": "code",
        "colab": {}
      },
      "source": [
        "import pandas as pd\n",
        "\n",
        "df = pd.DataFrame(sh.sheet1.get_all_records())"
      ],
      "execution_count": 0,
      "outputs": []
    },
    {
      "cell_type": "code",
      "metadata": {
        "id": "NKBby7Gf-9HU",
        "colab_type": "code",
        "outputId": "b2299777-9fce-46fd-9935-a72ba9f3ee30",
        "colab": {
          "base_uri": "https://localhost:8080/",
          "height": 262
        }
      },
      "source": [
        "df.head()"
      ],
      "execution_count": 0,
      "outputs": [
        {
          "output_type": "execute_result",
          "data": {
            "text/html": [
              "<div>\n",
              "<style scoped>\n",
              "    .dataframe tbody tr th:only-of-type {\n",
              "        vertical-align: middle;\n",
              "    }\n",
              "\n",
              "    .dataframe tbody tr th {\n",
              "        vertical-align: top;\n",
              "    }\n",
              "\n",
              "    .dataframe thead th {\n",
              "        text-align: right;\n",
              "    }\n",
              "</style>\n",
              "<table border=\"1\" class=\"dataframe\">\n",
              "  <thead>\n",
              "    <tr style=\"text-align: right;\">\n",
              "      <th></th>\n",
              "      <th>Brand</th>\n",
              "      <th>Country</th>\n",
              "      <th>Review #</th>\n",
              "      <th>Stars</th>\n",
              "      <th>Style</th>\n",
              "      <th>Top Ten</th>\n",
              "      <th>Variety</th>\n",
              "    </tr>\n",
              "  </thead>\n",
              "  <tbody>\n",
              "    <tr>\n",
              "      <th>0</th>\n",
              "      <td>Ottogi</td>\n",
              "      <td>South Korea</td>\n",
              "      <td>2458</td>\n",
              "      <td>0</td>\n",
              "      <td>Pack</td>\n",
              "      <td></td>\n",
              "      <td>Plain Instant Noodle No Soup Included</td>\n",
              "    </tr>\n",
              "    <tr>\n",
              "      <th>1</th>\n",
              "      <td>Samyang Foods</td>\n",
              "      <td>South Korea</td>\n",
              "      <td>2458</td>\n",
              "      <td>0</td>\n",
              "      <td>Pack</td>\n",
              "      <td></td>\n",
              "      <td>Sari Ramen</td>\n",
              "    </tr>\n",
              "    <tr>\n",
              "      <th>2</th>\n",
              "      <td>Mi E-Zee</td>\n",
              "      <td>Malaysia</td>\n",
              "      <td>1587</td>\n",
              "      <td>0</td>\n",
              "      <td>Pack</td>\n",
              "      <td></td>\n",
              "      <td>Plain Noodles</td>\n",
              "    </tr>\n",
              "    <tr>\n",
              "      <th>3</th>\n",
              "      <td>Nanoblock</td>\n",
              "      <td>Japan</td>\n",
              "      <td>2641</td>\n",
              "      <td>0</td>\n",
              "      <td>Pack</td>\n",
              "      <td></td>\n",
              "      <td>Ramen Bokki</td>\n",
              "    </tr>\n",
              "    <tr>\n",
              "      <th>4</th>\n",
              "      <td>Nona Lim</td>\n",
              "      <td>United States</td>\n",
              "      <td>2608</td>\n",
              "      <td>2.5</td>\n",
              "      <td>Pack</td>\n",
              "      <td></td>\n",
              "      <td>Hakata Ramen + Thai Curry &amp; Lime Broth</td>\n",
              "    </tr>\n",
              "  </tbody>\n",
              "</table>\n",
              "</div>"
            ],
            "text/plain": [
              "           Brand        Country  ...  Top Ten                                 Variety\n",
              "0         Ottogi    South Korea  ...            Plain Instant Noodle No Soup Included\n",
              "1  Samyang Foods    South Korea  ...                                       Sari Ramen\n",
              "2       Mi E-Zee       Malaysia  ...                                    Plain Noodles\n",
              "3      Nanoblock          Japan  ...                                      Ramen Bokki\n",
              "4       Nona Lim  United States  ...           Hakata Ramen + Thai Curry & Lime Broth\n",
              "\n",
              "[5 rows x 7 columns]"
            ]
          },
          "metadata": {
            "tags": []
          },
          "execution_count": 5
        }
      ]
    },
    {
      "cell_type": "code",
      "metadata": {
        "id": "dyFH5p-4AeF8",
        "colab_type": "code",
        "colab": {}
      },
      "source": [
        "df.columns = ['Brand', 'Country', 'Reviews', 'Ratings', 'Style', 'Top Ten', 'Variety']"
      ],
      "execution_count": 0,
      "outputs": []
    },
    {
      "cell_type": "code",
      "metadata": {
        "id": "gXb3Si36A7ob",
        "colab_type": "code",
        "outputId": "28e2588f-bc9f-44f3-b523-92c09d776e26",
        "colab": {
          "base_uri": "https://localhost:8080/",
          "height": 262
        }
      },
      "source": [
        "df.head()"
      ],
      "execution_count": 0,
      "outputs": [
        {
          "output_type": "execute_result",
          "data": {
            "text/html": [
              "<div>\n",
              "<style scoped>\n",
              "    .dataframe tbody tr th:only-of-type {\n",
              "        vertical-align: middle;\n",
              "    }\n",
              "\n",
              "    .dataframe tbody tr th {\n",
              "        vertical-align: top;\n",
              "    }\n",
              "\n",
              "    .dataframe thead th {\n",
              "        text-align: right;\n",
              "    }\n",
              "</style>\n",
              "<table border=\"1\" class=\"dataframe\">\n",
              "  <thead>\n",
              "    <tr style=\"text-align: right;\">\n",
              "      <th></th>\n",
              "      <th>Brand</th>\n",
              "      <th>Country</th>\n",
              "      <th>Reviews</th>\n",
              "      <th>Ratings</th>\n",
              "      <th>Style</th>\n",
              "      <th>Top Ten</th>\n",
              "      <th>Variety</th>\n",
              "    </tr>\n",
              "  </thead>\n",
              "  <tbody>\n",
              "    <tr>\n",
              "      <th>0</th>\n",
              "      <td>Ottogi</td>\n",
              "      <td>South Korea</td>\n",
              "      <td>2458</td>\n",
              "      <td>0</td>\n",
              "      <td>Pack</td>\n",
              "      <td></td>\n",
              "      <td>Plain Instant Noodle No Soup Included</td>\n",
              "    </tr>\n",
              "    <tr>\n",
              "      <th>1</th>\n",
              "      <td>Samyang Foods</td>\n",
              "      <td>South Korea</td>\n",
              "      <td>2458</td>\n",
              "      <td>0</td>\n",
              "      <td>Pack</td>\n",
              "      <td></td>\n",
              "      <td>Sari Ramen</td>\n",
              "    </tr>\n",
              "    <tr>\n",
              "      <th>2</th>\n",
              "      <td>Mi E-Zee</td>\n",
              "      <td>Malaysia</td>\n",
              "      <td>1587</td>\n",
              "      <td>0</td>\n",
              "      <td>Pack</td>\n",
              "      <td></td>\n",
              "      <td>Plain Noodles</td>\n",
              "    </tr>\n",
              "    <tr>\n",
              "      <th>3</th>\n",
              "      <td>Nanoblock</td>\n",
              "      <td>Japan</td>\n",
              "      <td>2641</td>\n",
              "      <td>0</td>\n",
              "      <td>Pack</td>\n",
              "      <td></td>\n",
              "      <td>Ramen Bokki</td>\n",
              "    </tr>\n",
              "    <tr>\n",
              "      <th>4</th>\n",
              "      <td>Nona Lim</td>\n",
              "      <td>United States</td>\n",
              "      <td>2608</td>\n",
              "      <td>2.5</td>\n",
              "      <td>Pack</td>\n",
              "      <td></td>\n",
              "      <td>Hakata Ramen + Thai Curry &amp; Lime Broth</td>\n",
              "    </tr>\n",
              "  </tbody>\n",
              "</table>\n",
              "</div>"
            ],
            "text/plain": [
              "           Brand        Country  ...  Top Ten                                 Variety\n",
              "0         Ottogi    South Korea  ...            Plain Instant Noodle No Soup Included\n",
              "1  Samyang Foods    South Korea  ...                                       Sari Ramen\n",
              "2       Mi E-Zee       Malaysia  ...                                    Plain Noodles\n",
              "3      Nanoblock          Japan  ...                                      Ramen Bokki\n",
              "4       Nona Lim  United States  ...           Hakata Ramen + Thai Curry & Lime Broth\n",
              "\n",
              "[5 rows x 7 columns]"
            ]
          },
          "metadata": {
            "tags": []
          },
          "execution_count": 7
        }
      ]
    },
    {
      "cell_type": "code",
      "metadata": {
        "id": "sdxwBcruA_5x",
        "colab_type": "code",
        "colab": {}
      },
      "source": [
        "# df['Top Ten Position'] = df['Top Ten'].apply(lambda text: text[:4] if len(text)>4 else '')\n",
        "\n",
        "def first_4(text):\n",
        "  if (len(text) > 4):\n",
        "    return text[:4]\n",
        "  else:\n",
        "    return ''\n",
        "\n",
        "df['Top Ten Year'] = df['Top Ten'].apply(first_4)\n"
      ],
      "execution_count": 0,
      "outputs": []
    },
    {
      "cell_type": "code",
      "metadata": {
        "id": "vcrcDBhyBPOC",
        "colab_type": "code",
        "outputId": "6055ac5f-5f5c-43e4-82b4-94238f283e42",
        "colab": {
          "base_uri": "https://localhost:8080/",
          "height": 34
        }
      },
      "source": [
        "df['Top Ten Year'].unique()"
      ],
      "execution_count": 0,
      "outputs": [
        {
          "output_type": "execute_result",
          "data": {
            "text/plain": [
              "array(['', '2016', '2015', '2013', '2014', '2012'], dtype=object)"
            ]
          },
          "metadata": {
            "tags": []
          },
          "execution_count": 9
        }
      ]
    },
    {
      "cell_type": "code",
      "metadata": {
        "id": "PgilQzXtBWOr",
        "colab_type": "code",
        "colab": {}
      },
      "source": [
        "df['Top Ten Position'] = df['Top Ten'].apply(lambda x: x[6:8] if len(x)>4 else '')"
      ],
      "execution_count": 0,
      "outputs": []
    },
    {
      "cell_type": "code",
      "metadata": {
        "id": "L2uIyEBMBkky",
        "colab_type": "code",
        "outputId": "280bc8a0-961f-41e6-b1c1-22e0e237f7b7",
        "colab": {
          "base_uri": "https://localhost:8080/",
          "height": 50
        }
      },
      "source": [
        "df['Top Ten Position'].unique()"
      ],
      "execution_count": 0,
      "outputs": [
        {
          "output_type": "execute_result",
          "data": {
            "text/plain": [
              "array(['', '10', '1', '8', '5', '9', '7', '4', '6', '2', '3'],\n",
              "      dtype=object)"
            ]
          },
          "metadata": {
            "tags": []
          },
          "execution_count": 11
        }
      ]
    },
    {
      "cell_type": "code",
      "metadata": {
        "id": "9j6ZDq5RaHtP",
        "colab_type": "code",
        "outputId": "3487967a-7cdc-4369-fe8f-ed5a009ccbc9",
        "colab": {
          "base_uri": "https://localhost:8080/",
          "height": 447
        }
      },
      "source": [
        "df.sample(5)"
      ],
      "execution_count": 0,
      "outputs": [
        {
          "output_type": "execute_result",
          "data": {
            "text/html": [
              "<div>\n",
              "<style scoped>\n",
              "    .dataframe tbody tr th:only-of-type {\n",
              "        vertical-align: middle;\n",
              "    }\n",
              "\n",
              "    .dataframe tbody tr th {\n",
              "        vertical-align: top;\n",
              "    }\n",
              "\n",
              "    .dataframe thead th {\n",
              "        text-align: right;\n",
              "    }\n",
              "</style>\n",
              "<table border=\"1\" class=\"dataframe\">\n",
              "  <thead>\n",
              "    <tr style=\"text-align: right;\">\n",
              "      <th></th>\n",
              "      <th>Brand</th>\n",
              "      <th>Country</th>\n",
              "      <th>Reviews</th>\n",
              "      <th>Ratings</th>\n",
              "      <th>Style</th>\n",
              "      <th>Top Ten</th>\n",
              "      <th>Variety</th>\n",
              "      <th>Top Ten Year</th>\n",
              "      <th>Top Ten Position</th>\n",
              "    </tr>\n",
              "  </thead>\n",
              "  <tbody>\n",
              "    <tr>\n",
              "      <th>845</th>\n",
              "      <td>Maggi</td>\n",
              "      <td>India</td>\n",
              "      <td>2639</td>\n",
              "      <td>4</td>\n",
              "      <td>Pack</td>\n",
              "      <td></td>\n",
              "      <td>Hot Heads Peri Peri Noodles</td>\n",
              "      <td></td>\n",
              "      <td></td>\n",
              "    </tr>\n",
              "    <tr>\n",
              "      <th>2690</th>\n",
              "      <td>Itsuki</td>\n",
              "      <td>Japan</td>\n",
              "      <td>1920</td>\n",
              "      <td>0.75</td>\n",
              "      <td>Pack</td>\n",
              "      <td></td>\n",
              "      <td>Ramen Tonkotudou Kumamoto Noodles</td>\n",
              "      <td></td>\n",
              "      <td></td>\n",
              "    </tr>\n",
              "    <tr>\n",
              "      <th>1285</th>\n",
              "      <td>Tropicana Slim</td>\n",
              "      <td>Indonesia</td>\n",
              "      <td>1670</td>\n",
              "      <td>3.75</td>\n",
              "      <td>Pack</td>\n",
              "      <td></td>\n",
              "      <td>Less Fat Noodles Grilled Chicken</td>\n",
              "      <td></td>\n",
              "      <td></td>\n",
              "    </tr>\n",
              "    <tr>\n",
              "      <th>2387</th>\n",
              "      <td>Kailo</td>\n",
              "      <td>Hong Kong</td>\n",
              "      <td>487</td>\n",
              "      <td>2.75</td>\n",
              "      <td>Bowl</td>\n",
              "      <td></td>\n",
              "      <td>Big Bowl Artificial Chicken</td>\n",
              "      <td></td>\n",
              "      <td></td>\n",
              "    </tr>\n",
              "    <tr>\n",
              "      <th>2439</th>\n",
              "      <td>Koka</td>\n",
              "      <td>Singapore</td>\n",
              "      <td>1306</td>\n",
              "      <td>2.5</td>\n",
              "      <td>Pack</td>\n",
              "      <td></td>\n",
              "      <td>Oriental Style Instant Noodles Tom Yam Flavour</td>\n",
              "      <td></td>\n",
              "      <td></td>\n",
              "    </tr>\n",
              "  </tbody>\n",
              "</table>\n",
              "</div>"
            ],
            "text/plain": [
              "               Brand    Country  ...  Top Ten Year Top Ten Position\n",
              "845            Maggi      India  ...                               \n",
              "2690          Itsuki      Japan  ...                               \n",
              "1285  Tropicana Slim  Indonesia  ...                               \n",
              "2387           Kailo  Hong Kong  ...                               \n",
              "2439            Koka  Singapore  ...                               \n",
              "\n",
              "[5 rows x 9 columns]"
            ]
          },
          "metadata": {
            "tags": []
          },
          "execution_count": 12
        }
      ]
    },
    {
      "cell_type": "markdown",
      "metadata": {
        "id": "J6FiMQPHEzC8",
        "colab_type": "text"
      },
      "source": [
        "**Export Dataframe to Google Spread Sheets**"
      ]
    },
    {
      "cell_type": "code",
      "metadata": {
        "id": "GJm3ocYIBnFF",
        "colab_type": "code",
        "colab": {}
      },
      "source": [
        "sh = gc.create('Ramen_ratings_cleaned')"
      ],
      "execution_count": 0,
      "outputs": []
    },
    {
      "cell_type": "code",
      "metadata": {
        "id": "gqkPGRyhCtZG",
        "colab_type": "code",
        "outputId": "3e4f2d35-8826-4cbf-a5a1-9b565c761fe9",
        "colab": {
          "base_uri": "https://localhost:8080/",
          "height": 101
        }
      },
      "source": [
        "sh.values_update(\n",
        "    'Sheet1!A1', \n",
        "    params={'valueInputOption': 'RAW'}, \n",
        "    body={'values': [df.columns.tolist()]}\n",
        ")\n"
      ],
      "execution_count": 0,
      "outputs": [
        {
          "output_type": "execute_result",
          "data": {
            "text/plain": [
              "{'spreadsheetId': '1BsvXCKN0U5wBNGD_HmVl50kcMPIkt4s497noEEWhmVU',\n",
              " 'updatedCells': 9,\n",
              " 'updatedColumns': 9,\n",
              " 'updatedRange': 'Sheet1!A1:I1',\n",
              " 'updatedRows': 1}"
            ]
          },
          "metadata": {
            "tags": []
          },
          "execution_count": 14
        }
      ]
    },
    {
      "cell_type": "code",
      "metadata": {
        "id": "iErNrSQxDQbs",
        "colab_type": "code",
        "outputId": "56778059-1017-414b-c2b6-4918b98f9425",
        "colab": {
          "base_uri": "https://localhost:8080/",
          "height": 101
        }
      },
      "source": [
        "sh.values_update(\n",
        "    'Sheet1!A2', \n",
        "    params={'valueInputOption': 'RAW'}, \n",
        "    body={'values': df.fillna(\"\").values.tolist()}\n",
        ")"
      ],
      "execution_count": 0,
      "outputs": [
        {
          "output_type": "execute_result",
          "data": {
            "text/plain": [
              "{'spreadsheetId': '1BsvXCKN0U5wBNGD_HmVl50kcMPIkt4s497noEEWhmVU',\n",
              " 'updatedCells': 24750,\n",
              " 'updatedColumns': 9,\n",
              " 'updatedRange': 'Sheet1!A2:I2751',\n",
              " 'updatedRows': 2750}"
            ]
          },
          "metadata": {
            "tags": []
          },
          "execution_count": 15
        }
      ]
    }
  ]
}