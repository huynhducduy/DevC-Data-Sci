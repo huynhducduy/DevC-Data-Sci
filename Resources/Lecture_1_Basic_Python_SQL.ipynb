{
 "cells": [
  {
   "cell_type": "markdown",
   "metadata": {
    "colab_type": "text",
    "id": "eUBvcDOj0zBC"
   },
   "source": [
    "![](https://i.imgur.com/0AUxkXt.png)"
   ]
  },
  {
   "cell_type": "markdown",
   "metadata": {
    "colab_type": "text",
    "id": "w4BXkqhI02BU"
   },
   "source": [
    "# Lecture 1 - Basic Python & SQL"
   ]
  },
  {
   "cell_type": "markdown",
   "metadata": {
    "colab_type": "text",
    "id": "_4kQ_uWs1DLH"
   },
   "source": [
    "## Basic Python"
   ]
  },
  {
   "cell_type": "code",
   "execution_count": 4,
   "metadata": {
    "ExecuteTime": {
     "end_time": "2019-07-24T16:03:39.453361Z",
     "start_time": "2019-07-24T16:03:39.434703Z"
    },
    "colab": {
     "base_uri": "https://localhost:8080/",
     "height": 34
    },
    "colab_type": "code",
    "id": "Q4U1Vf0ANMXH",
    "outputId": "a20dc651-6620-4d94-ac7b-fa66b6c86234"
   },
   "outputs": [
    {
     "name": "stdout",
     "output_type": "stream",
     "text": [
      "Hello World\n"
     ]
    }
   ],
   "source": [
    "print(\"Hello World\")"
   ]
  },
  {
   "cell_type": "markdown",
   "metadata": {
    "colab_type": "text",
    "id": "VKfnwhKI1HbJ"
   },
   "source": [
    "### Variables and data types\n",
    "\n",
    "\n",
    "\n"
   ]
  },
  {
   "cell_type": "code",
   "execution_count": 5,
   "metadata": {
    "ExecuteTime": {
     "end_time": "2019-07-24T16:03:42.972793Z",
     "start_time": "2019-07-24T16:03:42.957179Z"
    },
    "code_folding": [
     0
    ],
    "colab": {
     "base_uri": "https://localhost:8080/",
     "height": 51
    },
    "colab_type": "code",
    "id": "oPNi3xbH1Lpt",
    "outputId": "cf40cf69-b187-4c56-fe72-49142d294aa5"
   },
   "outputs": [
    {
     "name": "stdout",
     "output_type": "stream",
     "text": [
      "101\n"
     ]
    },
    {
     "data": {
      "text/plain": [
       "int"
      ]
     },
     "execution_count": 5,
     "metadata": {},
     "output_type": "execute_result"
    }
   ],
   "source": [
    "# integer\n",
    "x = 100\n",
    "y = 2\n",
    "x = x + 1\n",
    "\n",
    "print(x)\n",
    "type(y)"
   ]
  },
  {
   "cell_type": "code",
   "execution_count": 7,
   "metadata": {
    "ExecuteTime": {
     "end_time": "2019-07-24T16:03:47.233621Z",
     "start_time": "2019-07-24T16:03:47.228109Z"
    },
    "colab": {
     "base_uri": "https://localhost:8080/",
     "height": 51
    },
    "colab_type": "code",
    "id": "YIqeKxEk1MND",
    "outputId": "2a91747b-54b4-4307-9890-cf84f6bcfb91"
   },
   "outputs": [
    {
     "name": "stdout",
     "output_type": "stream",
     "text": [
      "5.0\n",
      "<class 'float'>\n"
     ]
    }
   ],
   "source": [
    "# float\n",
    "y = 5.0 \n",
    "print(y)\n",
    "print(type(y))"
   ]
  },
  {
   "cell_type": "code",
   "execution_count": 8,
   "metadata": {
    "ExecuteTime": {
     "end_time": "2019-07-24T16:03:49.321166Z",
     "start_time": "2019-07-24T16:03:49.309921Z"
    },
    "colab": {
     "base_uri": "https://localhost:8080/",
     "height": 187
    },
    "colab_type": "code",
    "id": "uqEA75zH1MQU",
    "outputId": "5eb99995-a26c-4e7e-b4e2-09c5d0233643"
   },
   "outputs": [
    {
     "name": "stdout",
     "output_type": "stream",
     "text": [
      "19\n",
      "11\n",
      "3.75\n",
      "60\n",
      "---\n",
      "7\n",
      "1\n",
      "4\n",
      "0\n"
     ]
    },
    {
     "data": {
      "text/plain": [
       "True"
      ]
     },
     "execution_count": 8,
     "metadata": {},
     "output_type": "execute_result"
    }
   ],
   "source": [
    "# math operations\n",
    "x = 15\n",
    "y = 4\n",
    "print(x + y)\n",
    "print(x - y)\n",
    "print(x / y)\n",
    "print(x * y)\n",
    "print('---')\n",
    "print(x // 2)\n",
    "print(x % 2)\n",
    "\n",
    "print(21 // 5)\n",
    "print(27 % 3)\n",
    "\n",
    "x = 5\n",
    "x % 2 == 1"
   ]
  },
  {
   "cell_type": "code",
   "execution_count": 9,
   "metadata": {
    "ExecuteTime": {
     "end_time": "2019-07-24T16:03:50.753761Z",
     "start_time": "2019-07-24T16:03:50.744622Z"
    },
    "colab": {
     "base_uri": "https://localhost:8080/",
     "height": 34
    },
    "colab_type": "code",
    "id": "DIJjU_RD1MS4",
    "outputId": "6bc06799-8a6b-4f2f-c98d-d7d4f1b2a078"
   },
   "outputs": [
    {
     "name": "stdout",
     "output_type": "stream",
     "text": [
      "<class 'str'>\n"
     ]
    }
   ],
   "source": [
    "# string\n",
    "s1 = 'hello'\n",
    "s2 = \"world\"\n",
    "print(type(s1))"
   ]
  },
  {
   "cell_type": "code",
   "execution_count": 10,
   "metadata": {
    "ExecuteTime": {
     "end_time": "2019-07-24T16:03:52.437271Z",
     "start_time": "2019-07-24T16:03:52.431469Z"
    },
    "colab": {
     "base_uri": "https://localhost:8080/",
     "height": 34
    },
    "colab_type": "code",
    "id": "8Cr-bMf91Vob",
    "outputId": "3f794a72-7ed0-4831-90b8-4e30346cfa93"
   },
   "outputs": [
    {
     "name": "stdout",
     "output_type": "stream",
     "text": [
      "hello world\n"
     ]
    }
   ],
   "source": [
    "message = s1 + ' ' + s2\n",
    "print(message)"
   ]
  },
  {
   "cell_type": "code",
   "execution_count": 11,
   "metadata": {
    "ExecuteTime": {
     "end_time": "2019-07-24T16:03:53.425144Z",
     "start_time": "2019-07-24T16:03:53.418542Z"
    },
    "colab": {
     "base_uri": "https://localhost:8080/",
     "height": 51
    },
    "colab_type": "code",
    "id": "hitfrYDT1VyL",
    "outputId": "472d1624-2636-4eb7-a212-5ca42482327c"
   },
   "outputs": [
    {
     "name": "stdout",
     "output_type": "stream",
     "text": [
      "False\n",
      "<class 'bool'>\n"
     ]
    }
   ],
   "source": [
    "# boolean\n",
    "b = True\n",
    "print(not b)\n",
    "print(type(b))"
   ]
  },
  {
   "cell_type": "code",
   "execution_count": 12,
   "metadata": {
    "ExecuteTime": {
     "end_time": "2019-07-24T16:03:54.066897Z",
     "start_time": "2019-07-24T16:03:54.059655Z"
    },
    "colab": {
     "base_uri": "https://localhost:8080/",
     "height": 102
    },
    "colab_type": "code",
    "id": "BrnzpRSc1Vzr",
    "outputId": "84d8744a-63eb-4e5e-b6c1-91e183484e8d"
   },
   "outputs": [
    {
     "name": "stdout",
     "output_type": "stream",
     "text": [
      "2 < 3 : True\n",
      "10 > 20 : False\n",
      "4 == 5 : False\n",
      "4 != 5 : True\n",
      "3 is not between 1 and 5 : False\n"
     ]
    }
   ],
   "source": [
    "print('2 < 3 :', 2 < 3)\n",
    "print('10 > 20 :', 10 > 20)\n",
    "print('4 == 5 :', 4 == 5)\n",
    "print('4 != 5 :', 4 != 5)\n",
    "\n",
    "x = 3\n",
    "min = 1\n",
    "max = 5\n",
    "print(x, 'is not between', min, 'and', max, ':', not ((x >= min) and (x <= max))) \n",
    "# How about not between?"
   ]
  },
  {
   "cell_type": "code",
   "execution_count": 13,
   "metadata": {
    "ExecuteTime": {
     "end_time": "2019-07-24T16:03:54.457635Z",
     "start_time": "2019-07-24T16:03:54.422706Z"
    },
    "colab": {
     "base_uri": "https://localhost:8080/",
     "height": 34
    },
    "colab_type": "code",
    "id": "zz-8R17FO6zs",
    "outputId": "f2c3d314-e611-4635-cf81-c9d0a8077a0b"
   },
   "outputs": [
    {
     "data": {
      "text/plain": [
       "[1, 2, 3, 4]"
      ]
     },
     "execution_count": 13,
     "metadata": {},
     "output_type": "execute_result"
    }
   ],
   "source": [
    "# list\n",
    "li = []\n",
    "li.append(1)    # li is now [1]\n",
    "li.append(2)    # li is now [1, 2]\n",
    "li.append(3)    # li is now [1, 2, 3]\n",
    "li.append(4)    # li is now [1, 2, 3, 4]\n",
    "# Remove from the end with pop\n",
    "li.pop()        # => 4 and li is now [1, 2, 3]\n",
    "# Let's put it back\n",
    "li.append(4)    # li is now [1, 2, 3, 4] again.\n",
    "li"
   ]
  },
  {
   "cell_type": "code",
   "execution_count": 14,
   "metadata": {
    "ExecuteTime": {
     "end_time": "2019-07-24T16:03:54.693420Z",
     "start_time": "2019-07-24T16:03:54.688275Z"
    },
    "colab": {
     "base_uri": "https://localhost:8080/",
     "height": 68
    },
    "colab_type": "code",
    "id": "wNiVyAEyQV4h",
    "outputId": "c9a9a582-14c0-431a-aac5-7a00baf09599"
   },
   "outputs": [
    {
     "name": "stdout",
     "output_type": "stream",
     "text": [
      "1\n",
      "[1, 2]\n",
      "[4, 3, 2, 1]\n"
     ]
    }
   ],
   "source": [
    "# list subscripting\n",
    "print(li[0])\n",
    "print(li[0:2])\n",
    "print(li[::-1])"
   ]
  },
  {
   "cell_type": "code",
   "execution_count": 15,
   "metadata": {
    "ExecuteTime": {
     "end_time": "2019-07-24T16:03:54.942083Z",
     "start_time": "2019-07-24T16:03:54.932294Z"
    },
    "colab": {
     "base_uri": "https://localhost:8080/",
     "height": 34
    },
    "colab_type": "code",
    "id": "yhG3oVhWTeq4",
    "outputId": "40313482-b5b7-4aaa-82ef-05aac6e9612e"
   },
   "outputs": [
    {
     "name": "stdout",
     "output_type": "stream",
     "text": [
      "1\n"
     ]
    }
   ],
   "source": [
    "# tuple is like list but immutable\n",
    "tup = (1, 2, 3)\n",
    "print(tup[0])"
   ]
  },
  {
   "cell_type": "markdown",
   "metadata": {
    "colab_type": "text",
    "id": "mH0uDiDO1tUH"
   },
   "source": [
    "### The if-statement"
   ]
  },
  {
   "cell_type": "code",
   "execution_count": 16,
   "metadata": {
    "ExecuteTime": {
     "end_time": "2019-07-24T16:03:55.963198Z",
     "start_time": "2019-07-24T16:03:55.952910Z"
    },
    "colab": {
     "base_uri": "https://localhost:8080/",
     "height": 34
    },
    "colab_type": "code",
    "id": "7BFCOtML1c7v",
    "outputId": "411dd160-af02-4b2e-f1b6-596ae328f24f"
   },
   "outputs": [
    {
     "name": "stdout",
     "output_type": "stream",
     "text": [
      "5\n",
      "equal 5\n"
     ]
    }
   ],
   "source": [
    "import numpy as np\n",
    "\n",
    "x = np.random.randint(10)\n",
    "# x = 3\n",
    "answer = ''\n",
    "if x > 5: \n",
    "    answer = \"Greater than 5\"\n",
    "elif x < 3:\n",
    "    answer = \"Less than 3\"\n",
    "else:\n",
    "    if x == 3:\n",
    "        answer = \"equal 3\"\n",
    "    elif x == 4:\n",
    "        answer = \"equal 4\"\n",
    "    else:\n",
    "        answer = \"equal 5\"\n",
    "print(x)\n",
    "print(answer)\n",
    "\n",
    "# Notice the code indentation"
   ]
  },
  {
   "cell_type": "markdown",
   "metadata": {
    "colab_type": "text",
    "id": "qe0w_-7I13Lk"
   },
   "source": [
    "### The for-loop"
   ]
  },
  {
   "cell_type": "code",
   "execution_count": 17,
   "metadata": {
    "ExecuteTime": {
     "end_time": "2019-07-24T16:04:14.221962Z",
     "start_time": "2019-07-24T16:04:14.216624Z"
    },
    "colab": {
     "base_uri": "https://localhost:8080/",
     "height": 34
    },
    "colab_type": "code",
    "id": "2f6THOF71dBd",
    "outputId": "4c5456af-dbcf-49ce-d175-2dbcdcf277e1"
   },
   "outputs": [
    {
     "name": "stdout",
     "output_type": "stream",
     "text": [
      "[1, 2, 3, 4]\n"
     ]
    }
   ],
   "source": [
    "a = list(range(1,5))\n",
    "print(a)"
   ]
  },
  {
   "cell_type": "code",
   "execution_count": 18,
   "metadata": {
    "ExecuteTime": {
     "end_time": "2019-07-24T16:04:14.790269Z",
     "start_time": "2019-07-24T16:04:14.783342Z"
    },
    "colab": {
     "base_uri": "https://localhost:8080/",
     "height": 85
    },
    "colab_type": "code",
    "id": "3gCw_scAK-xW",
    "outputId": "889ec877-86d4-4590-915a-4ed90353314e"
   },
   "outputs": [
    {
     "name": "stdout",
     "output_type": "stream",
     "text": [
      "processing 1\n",
      "processing 2\n",
      "processing 3\n",
      "processing 4\n"
     ]
    }
   ],
   "source": [
    "# iterate a list\n",
    "for i in a:\n",
    "  print(f\"processing {i}\")"
   ]
  },
  {
   "cell_type": "code",
   "execution_count": 19,
   "metadata": {
    "ExecuteTime": {
     "end_time": "2019-07-24T16:04:15.241725Z",
     "start_time": "2019-07-24T16:04:15.235593Z"
    },
    "colab": {
     "base_uri": "https://localhost:8080/",
     "height": 85
    },
    "colab_type": "code",
    "id": "edzaxewZYMEM",
    "outputId": "86fba0f3-294b-47ea-aea2-6c509190ebc7"
   },
   "outputs": [
    {
     "name": "stdout",
     "output_type": "stream",
     "text": [
      "index 0 - value 1\n",
      "index 1 - value 2\n",
      "index 2 - value 3\n",
      "index 3 - value 4\n"
     ]
    }
   ],
   "source": [
    "# iterate a list with index\n",
    "for i, v in enumerate(a):\n",
    "  print(f\"index {i} - value {v}\")\n",
    "  "
   ]
  },
  {
   "cell_type": "code",
   "execution_count": 20,
   "metadata": {
    "ExecuteTime": {
     "end_time": "2019-07-24T16:04:15.748681Z",
     "start_time": "2019-07-24T16:04:15.734594Z"
    },
    "colab": {
     "base_uri": "https://localhost:8080/",
     "height": 34
    },
    "colab_type": "code",
    "id": "Hu2pYU1bfvr6",
    "outputId": "ef09fc31-3a09-404f-9330-f5d6ad84d22a"
   },
   "outputs": [
    {
     "data": {
      "text/plain": [
       "[2, 4]"
      ]
     },
     "execution_count": 20,
     "metadata": {},
     "output_type": "execute_result"
    }
   ],
   "source": [
    "even = [i for i in a if i % 2 == 0]\n",
    "even"
   ]
  },
  {
   "cell_type": "markdown",
   "metadata": {
    "colab_type": "text",
    "id": "caTd8gn32BU4"
   },
   "source": [
    "### The while-loop"
   ]
  },
  {
   "cell_type": "code",
   "execution_count": 21,
   "metadata": {
    "ExecuteTime": {
     "end_time": "2019-07-24T16:04:16.476875Z",
     "start_time": "2019-07-24T16:04:16.472647Z"
    },
    "colab": {
     "base_uri": "https://localhost:8080/",
     "height": 119
    },
    "colab_type": "code",
    "id": "Qe-4_pWY19m6",
    "outputId": "66162e4e-c9bc-4ffa-d39d-472daf9004cc"
   },
   "outputs": [
    {
     "name": "stdout",
     "output_type": "stream",
     "text": [
      "0\n",
      "2\n",
      "4\n",
      "6\n",
      "8\n",
      "10\n"
     ]
    }
   ],
   "source": [
    "counter = 0\n",
    "while (counter < 12):\n",
    "    print(counter)\n",
    "    counter = counter + 2"
   ]
  },
  {
   "cell_type": "markdown",
   "metadata": {
    "colab_type": "text",
    "id": "LST45n6Z2Rg6"
   },
   "source": [
    "### The function"
   ]
  },
  {
   "cell_type": "code",
   "execution_count": 22,
   "metadata": {
    "ExecuteTime": {
     "end_time": "2019-07-24T16:04:16.934998Z",
     "start_time": "2019-07-24T16:04:16.931935Z"
    },
    "colab": {},
    "colab_type": "code",
    "id": "0nV6KzqJSgno"
   },
   "outputs": [],
   "source": [
    "def add(a, b):\n",
    "  return a + b"
   ]
  },
  {
   "cell_type": "code",
   "execution_count": 23,
   "metadata": {
    "ExecuteTime": {
     "end_time": "2019-07-24T16:04:17.167818Z",
     "start_time": "2019-07-24T16:04:17.162200Z"
    },
    "colab": {
     "base_uri": "https://localhost:8080/",
     "height": 34
    },
    "colab_type": "code",
    "id": "zBrBbse2SlVR",
    "outputId": "8663f682-4357-4617-ea2a-9060bc200a7b"
   },
   "outputs": [
    {
     "data": {
      "text/plain": [
       "3"
      ]
     },
     "execution_count": 23,
     "metadata": {},
     "output_type": "execute_result"
    }
   ],
   "source": [
    "add(1, 2)"
   ]
  },
  {
   "cell_type": "code",
   "execution_count": 24,
   "metadata": {
    "ExecuteTime": {
     "end_time": "2019-07-24T16:04:17.412507Z",
     "start_time": "2019-07-24T16:04:17.406661Z"
    },
    "colab": {},
    "colab_type": "code",
    "id": "aZUw0I8_S5Pl"
   },
   "outputs": [],
   "source": [
    "def multiple_add(*args):\n",
    "  return sum(args)"
   ]
  },
  {
   "cell_type": "code",
   "execution_count": 25,
   "metadata": {
    "ExecuteTime": {
     "end_time": "2019-07-24T16:04:17.625857Z",
     "start_time": "2019-07-24T16:04:17.620350Z"
    },
    "colab": {
     "base_uri": "https://localhost:8080/",
     "height": 34
    },
    "colab_type": "code",
    "id": "XniOhRxFS_bS",
    "outputId": "09acb217-a505-4b57-fd13-d69b52929418"
   },
   "outputs": [
    {
     "data": {
      "text/plain": [
       "9"
      ]
     },
     "execution_count": 25,
     "metadata": {},
     "output_type": "execute_result"
    }
   ],
   "source": [
    "multiple_add(2,3,4)"
   ]
  },
  {
   "cell_type": "markdown",
   "metadata": {
    "colab_type": "text",
    "id": "bLkJkQi62J6-"
   },
   "source": [
    "### Example: Money exchange"
   ]
  },
  {
   "cell_type": "code",
   "execution_count": 26,
   "metadata": {
    "ExecuteTime": {
     "end_time": "2019-07-24T16:04:18.092416Z",
     "start_time": "2019-07-24T16:04:18.078816Z"
    },
    "colab": {
     "base_uri": "https://localhost:8080/",
     "height": 34
    },
    "colab_type": "code",
    "id": "URc5CssTgBDC",
    "outputId": "e447cce7-0933-4608-db21-9ea4d89cb8e8"
   },
   "outputs": [
    {
     "data": {
      "text/plain": [
       "[4, 1, 1, 0, 0, 0, 0, 0, 0]"
      ]
     },
     "execution_count": 26,
     "metadata": {},
     "output_type": "execute_result"
    }
   ],
   "source": [
    "bills = [500, 200, 100, 50, 20, 10, 5, 2, 1]\n",
    "\n",
    "def exchange(money, sorted_bills):\n",
    "  i = 0\n",
    "  changes = [0] * len(sorted_bills);\n",
    "  while (money > 0):\n",
    "    if money >= sorted_bills[i]:\n",
    "      changes[i] = money // sorted_bills[i]\n",
    "      money -= changes[i]*sorted_bills[i]\n",
    "    i += 1\n",
    "  return changes\n",
    "\n",
    "exchange(2300, bills) # expected [4, 1, 1, 0, 0, 0, 0, 0, 0]"
   ]
  },
  {
   "cell_type": "code",
   "execution_count": 27,
   "metadata": {
    "ExecuteTime": {
     "end_time": "2019-07-24T16:04:18.327120Z",
     "start_time": "2019-07-24T16:04:18.319640Z"
    },
    "colab": {
     "base_uri": "https://localhost:8080/",
     "height": 187
    },
    "colab_type": "code",
    "id": "7FfsRxDEgkbR",
    "outputId": "b94baecf-c7df-4a84-d869-e03efc6a710d"
   },
   "outputs": [
    {
     "name": "stdout",
     "output_type": "stream",
     "text": [
      "2300k can be exchanged with: \n",
      "\t 4 * 500k\n",
      "\t 1 * 200k\n",
      "\t 1 * 100k\n",
      "\t 0 * 50k\n",
      "\t 0 * 20k\n",
      "\t 0 * 10k\n",
      "\t 0 * 5k\n",
      "\t 0 * 2k\n",
      "\t 0 * 1k\n"
     ]
    }
   ],
   "source": [
    "print(\"2300k can be exchanged with: \")\n",
    "for idx, value in enumerate(exchange(2300, bills)):\n",
    "  print(f\"\\t {value} * {bills[idx]}k\")"
   ]
  },
  {
   "cell_type": "markdown",
   "metadata": {
    "colab_type": "text",
    "id": "M7OsU-F22XDK"
   },
   "source": [
    "### Practice"
   ]
  },
  {
   "cell_type": "markdown",
   "metadata": {
    "colab_type": "text",
    "id": "hRwmbFOs2eID"
   },
   "source": [
    "#### Problem 1\n",
    "\n",
    "This problem was recently asked by Google.\n",
    "\n",
    "Given a list of numbers and a number k, return whether any two numbers from the list add up to k.\n",
    "\n",
    "For example, given [10, 15, 3, 7] and k of 17, return true since 10 + 7 is 17.\n",
    "\n",
    "Bonus: Can you do this in one pass?"
   ]
  },
  {
   "cell_type": "code",
   "execution_count": 28,
   "metadata": {
    "ExecuteTime": {
     "end_time": "2019-07-24T16:04:19.005724Z",
     "start_time": "2019-07-24T16:04:18.998169Z"
    },
    "colab": {},
    "colab_type": "code",
    "id": "eNEmVhJg2YCK"
   },
   "outputs": [
    {
     "name": "stdout",
     "output_type": "stream",
     "text": [
      "10 7\n"
     ]
    }
   ],
   "source": [
    "def resolve(a, k):\n",
    "    b = [False] * 10000\n",
    "    for i in a:\n",
    "        b[i] += 1;\n",
    "    for i in a:\n",
    "        if b[k-i] > 0:\n",
    "            b[i] -= 1;\n",
    "            b[k-i] -= 1;\n",
    "            print(i, 17-i)\n",
    "            \n",
    "resolve([10,15,3,7], 17)"
   ]
  },
  {
   "cell_type": "markdown",
   "metadata": {
    "colab_type": "text",
    "id": "0dKx1FlP2o-j"
   },
   "source": [
    "#### Problem 2\n",
    "\n"
   ]
  },
  {
   "cell_type": "markdown",
   "metadata": {
    "colab_type": "text",
    "id": "hT6A9mEJQjLd"
   },
   "source": [
    "This problem was asked by Stripe.\n",
    "\n",
    "Given an array of integers, find the first missing positive integer in linear time and constant space. In other words, find the lowest positive integer that does not exist in the array. The array can contain duplicates and negative numbers as well.\n",
    "\n",
    "For example, the input [3, 4, -1, 1] should give 2. The input [1, 2, 0] should give 3.\n",
    "\n",
    "You can modify the input array in-place."
   ]
  },
  {
   "cell_type": "code",
   "execution_count": 29,
   "metadata": {
    "ExecuteTime": {
     "end_time": "2019-07-24T16:04:20.068474Z",
     "start_time": "2019-07-24T16:04:20.063561Z"
    },
    "colab": {},
    "colab_type": "code",
    "id": "Vc1fIOMHQfro"
   },
   "outputs": [
    {
     "name": "stdout",
     "output_type": "stream",
     "text": [
      "2\n"
     ]
    }
   ],
   "source": [
    "def resolve(nums):\n",
    "    s = set(nums)\n",
    "    i = 1\n",
    "    while i in s:\n",
    "        i += 1\n",
    "    return i\n",
    "\n",
    "print(resolve([3,4, -1, 1]))"
   ]
  },
  {
   "cell_type": "markdown",
   "metadata": {
    "colab_type": "text",
    "id": "Z_1yBoDkQ1Ca"
   },
   "source": [
    "#### Problem 3\n",
    "Write a function that rotates a list by k elements. For example, [1, 2, 3, 4, 5, 6] rotated by two becomes [3, 4, 5, 6, 1, 2]. Try solving this without creating a copy of the list. How many swap or move operations do you need?"
   ]
  },
  {
   "cell_type": "code",
   "execution_count": 30,
   "metadata": {
    "ExecuteTime": {
     "end_time": "2019-07-24T16:04:21.049594Z",
     "start_time": "2019-07-24T16:04:21.042039Z"
    },
    "code_folding": [],
    "colab": {},
    "colab_type": "code",
    "id": "4eJRoFMuTXmF"
   },
   "outputs": [
    {
     "ename": "SyntaxError",
     "evalue": "invalid syntax (<ipython-input-30-c3ad795688ab>, line 4)",
     "output_type": "error",
     "traceback": [
      "\u001b[0;36m  File \u001b[0;32m\"<ipython-input-30-c3ad795688ab>\"\u001b[0;36m, line \u001b[0;32m4\u001b[0m\n\u001b[0;31m    k resolve(list, k):\u001b[0m\n\u001b[0m            ^\u001b[0m\n\u001b[0;31mSyntaxError\u001b[0m\u001b[0;31m:\u001b[0m invalid syntax\n"
     ]
    }
   ],
   "source": [
    "list = [1, 2, 3, 4, 5, 6, 7, 8]\n",
    "k = 3\n",
    "\n",
    "k resolve(list, k):\n",
    "    return list[k:] + list[:k]\n",
    "\n",
    "print(resolve(list,k))"
   ]
  },
  {
   "cell_type": "markdown",
   "metadata": {
    "colab_type": "text",
    "id": "mXuSxI_G2WAr"
   },
   "source": [
    "## SQL - Structured Query Language"
   ]
  },
  {
   "cell_type": "markdown",
   "metadata": {
    "colab_type": "text",
    "id": "sZ1Cbhlr2jga"
   },
   "source": [
    "![](https://i.imgur.com/kCaiMK5.png)"
   ]
  },
  {
   "cell_type": "code",
   "execution_count": 31,
   "metadata": {
    "ExecuteTime": {
     "end_time": "2019-07-24T16:04:26.018982Z",
     "start_time": "2019-07-24T16:04:25.444860Z"
    },
    "code_folding": [],
    "colab": {
     "base_uri": "https://localhost:8080/",
     "height": 204
    },
    "colab_type": "code",
    "id": "n_lTREzngpW0",
    "outputId": "b000ef0b-6dab-49c9-c7e7-fa285aa8ad0c"
   },
   "outputs": [
    {
     "name": "stdout",
     "output_type": "stream",
     "text": [
      "--2019-07-24 23:04:25--  https://ml101-khanhnguyen.s3-ap-southeast-1.amazonaws.com/devc/chinook.db\n",
      "Resolving ml101-khanhnguyen.s3-ap-southeast-1.amazonaws.com (ml101-khanhnguyen.s3-ap-southeast-1.amazonaws.com)... 52.219.32.7\n",
      "Connecting to ml101-khanhnguyen.s3-ap-southeast-1.amazonaws.com (ml101-khanhnguyen.s3-ap-southeast-1.amazonaws.com)|52.219.32.7|:443... connected.\n",
      "HTTP request sent, awaiting response... 200 OK\n",
      "Length: 884736 (864K) [binary/octet-stream]\n",
      "Saving to: ‘chinook.db.1’\n",
      "\n",
      "chinook.db.1        100%[===================>] 864.00K  5.37MB/s    in 0.2s    \n",
      "\n",
      "2019-07-24 23:04:25 (5.37 MB/s) - ‘chinook.db.1’ saved [884736/884736]\n",
      "\n"
     ]
    }
   ],
   "source": [
    "# Download database\n",
    "!wget https://ml101-khanhnguyen.s3-ap-southeast-1.amazonaws.com/devc/chinook.db"
   ]
  },
  {
   "cell_type": "code",
   "execution_count": 32,
   "metadata": {
    "ExecuteTime": {
     "end_time": "2019-07-24T16:04:26.052923Z",
     "start_time": "2019-07-24T16:04:26.040629Z"
    },
    "colab": {},
    "colab_type": "code",
    "id": "nda9fusng81w"
   },
   "outputs": [],
   "source": [
    "import sqlite3\n",
    "conn = sqlite3.connect('chinook.db')"
   ]
  },
  {
   "cell_type": "code",
   "execution_count": 33,
   "metadata": {
    "ExecuteTime": {
     "end_time": "2019-07-24T16:04:26.075984Z",
     "start_time": "2019-07-24T16:04:26.071553Z"
    },
    "colab": {},
    "colab_type": "code",
    "id": "F9U3nvVdBeC8"
   },
   "outputs": [],
   "source": [
    "cur = conn.cursor()"
   ]
  },
  {
   "cell_type": "code",
   "execution_count": 34,
   "metadata": {
    "ExecuteTime": {
     "end_time": "2019-07-24T16:04:26.756924Z",
     "start_time": "2019-07-24T16:04:26.748765Z"
    },
    "colab": {
     "base_uri": "https://localhost:8080/",
     "height": 34
    },
    "colab_type": "code",
    "id": "wh8b_KWPBnC9",
    "outputId": "f77348d0-82aa-44e3-ec6a-16c919a625f2"
   },
   "outputs": [
    {
     "data": {
      "text/plain": [
       "<sqlite3.Cursor at 0x109e28880>"
      ]
     },
     "execution_count": 34,
     "metadata": {},
     "output_type": "execute_result"
    }
   ],
   "source": [
    "cur.execute('SELECT * FROM albums LIMIT 5;')"
   ]
  },
  {
   "cell_type": "code",
   "execution_count": 35,
   "metadata": {
    "ExecuteTime": {
     "end_time": "2019-07-24T16:04:27.033565Z",
     "start_time": "2019-07-24T16:04:27.027609Z"
    },
    "cell_style": "center",
    "colab": {
     "base_uri": "https://localhost:8080/",
     "height": 34
    },
    "colab_type": "code",
    "id": "F2piltRTBzh2",
    "outputId": "42544e91-e0d4-4573-e244-a68f3cc28b5c"
   },
   "outputs": [
    {
     "name": "stdout",
     "output_type": "stream",
     "text": [
      "[(1, 'For Those About To Rock We Salute You', 1), (2, 'Balls to the Wall', 2), (3, 'Restless and Wild', 2), (4, 'Let There Be Rock', 1), (5, 'Big Ones', 3)]\n"
     ]
    }
   ],
   "source": [
    "results = cur.fetchall()\n",
    "print(results)"
   ]
  },
  {
   "cell_type": "code",
   "execution_count": 38,
   "metadata": {
    "ExecuteTime": {
     "end_time": "2019-07-24T16:04:32.949941Z",
     "start_time": "2019-07-24T16:04:32.933790Z"
    },
    "colab": {
     "base_uri": "https://localhost:8080/",
     "height": 359
    },
    "colab_type": "code",
    "id": "YbXBU-ZtCaKQ",
    "outputId": "d7a2280b-8e6a-4450-badf-837e24aef32e"
   },
   "outputs": [
    {
     "data": {
      "text/html": [
       "<div>\n",
       "<style scoped>\n",
       "    .dataframe tbody tr th:only-of-type {\n",
       "        vertical-align: middle;\n",
       "    }\n",
       "\n",
       "    .dataframe tbody tr th {\n",
       "        vertical-align: top;\n",
       "    }\n",
       "\n",
       "    .dataframe thead th {\n",
       "        text-align: right;\n",
       "    }\n",
       "</style>\n",
       "<table border=\"1\" class=\"dataframe\">\n",
       "  <thead>\n",
       "    <tr style=\"text-align: right;\">\n",
       "      <th></th>\n",
       "      <th>AlbumId</th>\n",
       "      <th>Title</th>\n",
       "    </tr>\n",
       "  </thead>\n",
       "  <tbody>\n",
       "    <tr>\n",
       "      <th>0</th>\n",
       "      <td>1</td>\n",
       "      <td>For Those About To Rock We Salute You</td>\n",
       "    </tr>\n",
       "    <tr>\n",
       "      <th>1</th>\n",
       "      <td>2</td>\n",
       "      <td>Balls to the Wall</td>\n",
       "    </tr>\n",
       "    <tr>\n",
       "      <th>2</th>\n",
       "      <td>3</td>\n",
       "      <td>Restless and Wild</td>\n",
       "    </tr>\n",
       "    <tr>\n",
       "      <th>3</th>\n",
       "      <td>4</td>\n",
       "      <td>Let There Be Rock</td>\n",
       "    </tr>\n",
       "    <tr>\n",
       "      <th>4</th>\n",
       "      <td>5</td>\n",
       "      <td>Big Ones</td>\n",
       "    </tr>\n",
       "    <tr>\n",
       "      <th>5</th>\n",
       "      <td>6</td>\n",
       "      <td>Jagged Little Pill</td>\n",
       "    </tr>\n",
       "    <tr>\n",
       "      <th>6</th>\n",
       "      <td>7</td>\n",
       "      <td>Facelift</td>\n",
       "    </tr>\n",
       "    <tr>\n",
       "      <th>7</th>\n",
       "      <td>8</td>\n",
       "      <td>Warner 25 Anos</td>\n",
       "    </tr>\n",
       "    <tr>\n",
       "      <th>8</th>\n",
       "      <td>9</td>\n",
       "      <td>Plays Metallica By Four Cellos</td>\n",
       "    </tr>\n",
       "    <tr>\n",
       "      <th>9</th>\n",
       "      <td>10</td>\n",
       "      <td>Audioslave</td>\n",
       "    </tr>\n",
       "  </tbody>\n",
       "</table>\n",
       "</div>"
      ],
      "text/plain": [
       "   AlbumId                                  Title\n",
       "0        1  For Those About To Rock We Salute You\n",
       "1        2                      Balls to the Wall\n",
       "2        3                      Restless and Wild\n",
       "3        4                      Let There Be Rock\n",
       "4        5                               Big Ones\n",
       "5        6                     Jagged Little Pill\n",
       "6        7                               Facelift\n",
       "7        8                         Warner 25 Anos\n",
       "8        9         Plays Metallica By Four Cellos\n",
       "9       10                             Audioslave"
      ]
     },
     "execution_count": 38,
     "metadata": {},
     "output_type": "execute_result"
    }
   ],
   "source": [
    "import pandas as pd\n",
    "df = pd.read_sql_query('SELECT albumid, title FROM albums LIMIT 10;', conn)\n",
    "df"
   ]
  },
  {
   "cell_type": "code",
   "execution_count": 39,
   "metadata": {
    "ExecuteTime": {
     "end_time": "2019-07-24T16:04:34.120682Z",
     "start_time": "2019-07-24T16:04:34.110588Z"
    },
    "colab": {
     "base_uri": "https://localhost:8080/",
     "height": 204
    },
    "colab_type": "code",
    "id": "wNGpPnJKC9db",
    "outputId": "e1f5dbf6-0355-4c2f-b541-a0c86c61e1b8"
   },
   "outputs": [
    {
     "data": {
      "text/html": [
       "<div>\n",
       "<style scoped>\n",
       "    .dataframe tbody tr th:only-of-type {\n",
       "        vertical-align: middle;\n",
       "    }\n",
       "\n",
       "    .dataframe tbody tr th {\n",
       "        vertical-align: top;\n",
       "    }\n",
       "\n",
       "    .dataframe thead th {\n",
       "        text-align: right;\n",
       "    }\n",
       "</style>\n",
       "<table border=\"1\" class=\"dataframe\">\n",
       "  <thead>\n",
       "    <tr style=\"text-align: right;\">\n",
       "      <th></th>\n",
       "      <th>AlbumId</th>\n",
       "      <th>Title</th>\n",
       "      <th>ArtistId</th>\n",
       "    </tr>\n",
       "  </thead>\n",
       "  <tbody>\n",
       "    <tr>\n",
       "      <th>0</th>\n",
       "      <td>156</td>\n",
       "      <td>...And Justice For All</td>\n",
       "      <td>50</td>\n",
       "    </tr>\n",
       "    <tr>\n",
       "      <th>1</th>\n",
       "      <td>257</td>\n",
       "      <td>20th Century Masters - The Millennium Collecti...</td>\n",
       "      <td>179</td>\n",
       "    </tr>\n",
       "    <tr>\n",
       "      <th>2</th>\n",
       "      <td>296</td>\n",
       "      <td>A Copland Celebration, Vol. I</td>\n",
       "      <td>230</td>\n",
       "    </tr>\n",
       "    <tr>\n",
       "      <th>3</th>\n",
       "      <td>94</td>\n",
       "      <td>A Matter of Life and Death</td>\n",
       "      <td>90</td>\n",
       "    </tr>\n",
       "    <tr>\n",
       "      <th>4</th>\n",
       "      <td>95</td>\n",
       "      <td>A Real Dead One</td>\n",
       "      <td>90</td>\n",
       "    </tr>\n",
       "  </tbody>\n",
       "</table>\n",
       "</div>"
      ],
      "text/plain": [
       "   AlbumId                                              Title  ArtistId\n",
       "0      156                             ...And Justice For All        50\n",
       "1      257  20th Century Masters - The Millennium Collecti...       179\n",
       "2      296                      A Copland Celebration, Vol. I       230\n",
       "3       94                         A Matter of Life and Death        90\n",
       "4       95                                    A Real Dead One        90"
      ]
     },
     "execution_count": 39,
     "metadata": {},
     "output_type": "execute_result"
    }
   ],
   "source": [
    "df = pd.read_sql_query('SELECT * FROM albums ORDER BY title LIMIT 5;', conn)\n",
    "df"
   ]
  }
 ],
 "metadata": {
  "colab": {
   "collapsed_sections": [],
   "name": "Lecture_1_Basic_Python_SQL.ipynb",
   "provenance": [],
   "version": "0.3.2"
  },
  "kernelspec": {
   "display_name": "Python 3",
   "language": "python",
   "name": "python3"
  },
  "language_info": {
   "codemirror_mode": {
    "name": "ipython",
    "version": 3
   },
   "file_extension": ".py",
   "mimetype": "text/x-python",
   "name": "python",
   "nbconvert_exporter": "python",
   "pygments_lexer": "ipython3",
   "version": "3.7.3"
  },
  "toc": {
   "base_numbering": 1,
   "nav_menu": {
    "height": "267px",
    "width": "298px"
   },
   "number_sections": true,
   "sideBar": true,
   "skip_h1_title": false,
   "title_cell": "Table of Contents",
   "title_sidebar": "Contents",
   "toc_cell": false,
   "toc_position": {
    "height": "calc(100% - 180px)",
    "left": "10px",
    "top": "150px",
    "width": "403px"
   },
   "toc_section_display": true,
   "toc_window_display": true
  },
  "varInspector": {
   "cols": {
    "lenName": 16,
    "lenType": 16,
    "lenVar": 40
   },
   "kernels_config": {
    "python": {
     "delete_cmd_postfix": "",
     "delete_cmd_prefix": "del ",
     "library": "var_list.py",
     "varRefreshCmd": "print(var_dic_list())"
    },
    "r": {
     "delete_cmd_postfix": ") ",
     "delete_cmd_prefix": "rm(",
     "library": "var_list.r",
     "varRefreshCmd": "cat(var_dic_list()) "
    }
   },
   "types_to_exclude": [
    "module",
    "function",
    "builtin_function_or_method",
    "instance",
    "_Feature"
   ],
   "window_display": false
  }
 },
 "nbformat": 4,
 "nbformat_minor": 1
}
