{
 "cells": [
  {
   "cell_type": "markdown",
   "metadata": {
    "colab_type": "text",
    "id": "FmTQx5zIZmtZ"
   },
   "source": [
    "![](https://i.imgur.com/0AUxkXt.png)"
   ]
  },
  {
   "cell_type": "markdown",
   "metadata": {
    "colab_type": "text",
    "id": "ZR8xLqTYZt6_",
    "slideshow": {
     "slide_type": "slide"
    }
   },
   "source": [
    "# Lecture 2 - Data Visualization\n",
    "\n",
    "Introduction to Pandas and Seaborn"
   ]
  },
  {
   "cell_type": "markdown",
   "metadata": {
    "colab_type": "text",
    "id": "zFY50pfhZ3f2",
    "slideshow": {
     "slide_type": "fragment"
    }
   },
   "source": [
    "## Import libraries"
   ]
  },
  {
   "cell_type": "code",
   "execution_count": 3,
   "metadata": {
    "ExecuteTime": {
     "end_time": "2019-07-24T16:17:12.868128Z",
     "start_time": "2019-07-24T16:17:12.863246Z"
    },
    "colab": {},
    "colab_type": "code",
    "id": "mm8BtvO7aJqh",
    "slideshow": {
     "slide_type": "fragment"
    }
   },
   "outputs": [],
   "source": [
    "import numpy as np\n",
    "import pandas as pd\n",
    "import seaborn as sns\n",
    "import matplotlib.pyplot as plt\n",
    "%matplotlib inline\n",
    "import warnings\n",
    "warnings.filterwarnings('ignore')"
   ]
  },
  {
   "cell_type": "markdown",
   "metadata": {
    "colab_type": "text",
    "id": "Vzxx4fR4aMpb",
    "slideshow": {
     "slide_type": "slide"
    }
   },
   "source": [
    "## Import data and get an overview\n",
    "\n",
    "![alt text](https://upload.wikimedia.org/wikipedia/commons/thumb/d/db/Titanic-Cobh-Harbour-1912.JPG/330px-Titanic-Cobh-Harbour-1912.JPG)\n",
    "\n",
    "The dataset that we are working on is a list of passenger on the famous ship Titanic. On April 15, 1912, during her maiden voyage, the Titanic sank after colliding with an iceberg, killing a lot passengers and crew. This sensational tragedy shocked the international community and led to better safety regulations for ships.\n",
    "\n",
    "**Data dictionary**\n",
    " \n",
    "| Variable | Definition | Key |\n",
    "|:--:|:--:|:--:|\n",
    "| survival | Survival | 0 = No, 1 = Yes |\n",
    "| pclass | Ticket class, a proxy for socio-economic status (SES) | 1 = 1st, 2 = 2nd, 3 = 3rd |\n",
    "| sex | Gender | |\n",
    "| Age | Age in years | |\n",
    "| sibsp | # of siblings(brother,sister)/spouses(husband, wife) aboard the Titanic |\n",
    "| parch | # of parents/children aboard the Titanic. Some children travelled only with a nanny, therefore parch=0 for them |\n",
    "| ticket | Ticket number | |\n",
    "| fare | Passenger fare | |\n",
    "| cabin | Cabin number | |\n",
    "| embarked | Port of Embarkation | C=Cherbourg, Q=Queenstown, S=Southampton |"
   ]
  },
  {
   "cell_type": "code",
   "execution_count": 4,
   "metadata": {
    "ExecuteTime": {
     "end_time": "2019-07-24T16:17:18.319946Z",
     "start_time": "2019-07-24T16:17:17.718215Z"
    },
    "colab": {},
    "colab_type": "code",
    "id": "URc5CssTgBDC",
    "slideshow": {
     "slide_type": "subslide"
    }
   },
   "outputs": [],
   "source": [
    "titanic = pd.read_csv('https://raw.githubusercontent.com/khoi/machine-learning-notebooks/master/titanic/data.csv')"
   ]
  },
  {
   "cell_type": "code",
   "execution_count": 5,
   "metadata": {
    "ExecuteTime": {
     "end_time": "2019-07-24T16:17:19.472392Z",
     "start_time": "2019-07-24T16:17:19.454425Z"
    },
    "colab": {
     "base_uri": "https://localhost:8080/",
     "height": 248
    },
    "colab_type": "code",
    "id": "7FfsRxDEgkbR",
    "outputId": "d8d2a403-4d53-4af7-8029-d2ef72c43ffa",
    "slideshow": {
     "slide_type": "fragment"
    }
   },
   "outputs": [
    {
     "data": {
      "text/html": [
       "<div>\n",
       "<style scoped>\n",
       "    .dataframe tbody tr th:only-of-type {\n",
       "        vertical-align: middle;\n",
       "    }\n",
       "\n",
       "    .dataframe tbody tr th {\n",
       "        vertical-align: top;\n",
       "    }\n",
       "\n",
       "    .dataframe thead th {\n",
       "        text-align: right;\n",
       "    }\n",
       "</style>\n",
       "<table border=\"1\" class=\"dataframe\">\n",
       "  <thead>\n",
       "    <tr style=\"text-align: right;\">\n",
       "      <th></th>\n",
       "      <th>PassengerId</th>\n",
       "      <th>Survived</th>\n",
       "      <th>Pclass</th>\n",
       "      <th>Name</th>\n",
       "      <th>Sex</th>\n",
       "      <th>Age</th>\n",
       "      <th>SibSp</th>\n",
       "      <th>Parch</th>\n",
       "      <th>Ticket</th>\n",
       "      <th>Fare</th>\n",
       "      <th>Cabin</th>\n",
       "      <th>Embarked</th>\n",
       "    </tr>\n",
       "  </thead>\n",
       "  <tbody>\n",
       "    <tr>\n",
       "      <th>0</th>\n",
       "      <td>1</td>\n",
       "      <td>0</td>\n",
       "      <td>3</td>\n",
       "      <td>Braund, Mr. Owen Harris</td>\n",
       "      <td>male</td>\n",
       "      <td>22.0</td>\n",
       "      <td>1</td>\n",
       "      <td>0</td>\n",
       "      <td>A/5 21171</td>\n",
       "      <td>7.2500</td>\n",
       "      <td>NaN</td>\n",
       "      <td>S</td>\n",
       "    </tr>\n",
       "    <tr>\n",
       "      <th>1</th>\n",
       "      <td>2</td>\n",
       "      <td>1</td>\n",
       "      <td>1</td>\n",
       "      <td>Cumings, Mrs. John Bradley (Florence Briggs Th...</td>\n",
       "      <td>female</td>\n",
       "      <td>38.0</td>\n",
       "      <td>1</td>\n",
       "      <td>0</td>\n",
       "      <td>PC 17599</td>\n",
       "      <td>71.2833</td>\n",
       "      <td>C85</td>\n",
       "      <td>C</td>\n",
       "    </tr>\n",
       "    <tr>\n",
       "      <th>2</th>\n",
       "      <td>3</td>\n",
       "      <td>1</td>\n",
       "      <td>3</td>\n",
       "      <td>Heikkinen, Miss. Laina</td>\n",
       "      <td>female</td>\n",
       "      <td>26.0</td>\n",
       "      <td>0</td>\n",
       "      <td>0</td>\n",
       "      <td>STON/O2. 3101282</td>\n",
       "      <td>7.9250</td>\n",
       "      <td>NaN</td>\n",
       "      <td>S</td>\n",
       "    </tr>\n",
       "    <tr>\n",
       "      <th>3</th>\n",
       "      <td>4</td>\n",
       "      <td>1</td>\n",
       "      <td>1</td>\n",
       "      <td>Futrelle, Mrs. Jacques Heath (Lily May Peel)</td>\n",
       "      <td>female</td>\n",
       "      <td>35.0</td>\n",
       "      <td>1</td>\n",
       "      <td>0</td>\n",
       "      <td>113803</td>\n",
       "      <td>53.1000</td>\n",
       "      <td>C123</td>\n",
       "      <td>S</td>\n",
       "    </tr>\n",
       "    <tr>\n",
       "      <th>4</th>\n",
       "      <td>5</td>\n",
       "      <td>0</td>\n",
       "      <td>3</td>\n",
       "      <td>Allen, Mr. William Henry</td>\n",
       "      <td>male</td>\n",
       "      <td>35.0</td>\n",
       "      <td>0</td>\n",
       "      <td>0</td>\n",
       "      <td>373450</td>\n",
       "      <td>8.0500</td>\n",
       "      <td>NaN</td>\n",
       "      <td>S</td>\n",
       "    </tr>\n",
       "  </tbody>\n",
       "</table>\n",
       "</div>"
      ],
      "text/plain": [
       "   PassengerId  Survived  Pclass  \\\n",
       "0            1         0       3   \n",
       "1            2         1       1   \n",
       "2            3         1       3   \n",
       "3            4         1       1   \n",
       "4            5         0       3   \n",
       "\n",
       "                                                Name     Sex   Age  SibSp  \\\n",
       "0                            Braund, Mr. Owen Harris    male  22.0      1   \n",
       "1  Cumings, Mrs. John Bradley (Florence Briggs Th...  female  38.0      1   \n",
       "2                             Heikkinen, Miss. Laina  female  26.0      0   \n",
       "3       Futrelle, Mrs. Jacques Heath (Lily May Peel)  female  35.0      1   \n",
       "4                           Allen, Mr. William Henry    male  35.0      0   \n",
       "\n",
       "   Parch            Ticket     Fare Cabin Embarked  \n",
       "0      0         A/5 21171   7.2500   NaN        S  \n",
       "1      0          PC 17599  71.2833   C85        C  \n",
       "2      0  STON/O2. 3101282   7.9250   NaN        S  \n",
       "3      0            113803  53.1000  C123        S  \n",
       "4      0            373450   8.0500   NaN        S  "
      ]
     },
     "execution_count": 5,
     "metadata": {},
     "output_type": "execute_result"
    }
   ],
   "source": [
    "titanic.head()"
   ]
  },
  {
   "cell_type": "code",
   "execution_count": 6,
   "metadata": {
    "ExecuteTime": {
     "end_time": "2019-07-24T16:17:21.009766Z",
     "start_time": "2019-07-24T16:17:20.993402Z"
    },
    "colab": {
     "base_uri": "https://localhost:8080/",
     "height": 141
    },
    "colab_type": "code",
    "id": "n_lTREzngpW0",
    "outputId": "a3c8a1ec-b132-4bcb-d1b2-6776e86c023d"
   },
   "outputs": [
    {
     "data": {
      "text/html": [
       "<div>\n",
       "<style scoped>\n",
       "    .dataframe tbody tr th:only-of-type {\n",
       "        vertical-align: middle;\n",
       "    }\n",
       "\n",
       "    .dataframe tbody tr th {\n",
       "        vertical-align: top;\n",
       "    }\n",
       "\n",
       "    .dataframe thead th {\n",
       "        text-align: right;\n",
       "    }\n",
       "</style>\n",
       "<table border=\"1\" class=\"dataframe\">\n",
       "  <thead>\n",
       "    <tr style=\"text-align: right;\">\n",
       "      <th></th>\n",
       "      <th>PassengerId</th>\n",
       "      <th>Survived</th>\n",
       "      <th>Pclass</th>\n",
       "      <th>Name</th>\n",
       "      <th>Sex</th>\n",
       "      <th>Age</th>\n",
       "      <th>SibSp</th>\n",
       "      <th>Parch</th>\n",
       "      <th>Ticket</th>\n",
       "      <th>Fare</th>\n",
       "      <th>Cabin</th>\n",
       "      <th>Embarked</th>\n",
       "    </tr>\n",
       "  </thead>\n",
       "  <tbody>\n",
       "    <tr>\n",
       "      <th>890</th>\n",
       "      <td>891</td>\n",
       "      <td>0</td>\n",
       "      <td>3</td>\n",
       "      <td>Dooley, Mr. Patrick</td>\n",
       "      <td>male</td>\n",
       "      <td>32.0</td>\n",
       "      <td>0</td>\n",
       "      <td>0</td>\n",
       "      <td>370376</td>\n",
       "      <td>7.75</td>\n",
       "      <td>NaN</td>\n",
       "      <td>Q</td>\n",
       "    </tr>\n",
       "  </tbody>\n",
       "</table>\n",
       "</div>"
      ],
      "text/plain": [
       "     PassengerId  Survived  Pclass                 Name   Sex   Age  SibSp  \\\n",
       "890          891         0       3  Dooley, Mr. Patrick  male  32.0      0   \n",
       "\n",
       "     Parch  Ticket  Fare Cabin Embarked  \n",
       "890      0  370376  7.75   NaN        Q  "
      ]
     },
     "execution_count": 6,
     "metadata": {},
     "output_type": "execute_result"
    }
   ],
   "source": [
    "titanic.tail(1)"
   ]
  },
  {
   "cell_type": "code",
   "execution_count": 7,
   "metadata": {
    "ExecuteTime": {
     "end_time": "2019-07-24T16:17:22.462646Z",
     "start_time": "2019-07-24T16:17:22.443211Z"
    },
    "colab": {
     "base_uri": "https://localhost:8080/",
     "height": 248
    },
    "colab_type": "code",
    "id": "nda9fusng81w",
    "outputId": "ebd173e4-5b00-4d26-b575-51a63012d411",
    "slideshow": {
     "slide_type": "fragment"
    }
   },
   "outputs": [
    {
     "data": {
      "text/html": [
       "<div>\n",
       "<style scoped>\n",
       "    .dataframe tbody tr th:only-of-type {\n",
       "        vertical-align: middle;\n",
       "    }\n",
       "\n",
       "    .dataframe tbody tr th {\n",
       "        vertical-align: top;\n",
       "    }\n",
       "\n",
       "    .dataframe thead th {\n",
       "        text-align: right;\n",
       "    }\n",
       "</style>\n",
       "<table border=\"1\" class=\"dataframe\">\n",
       "  <thead>\n",
       "    <tr style=\"text-align: right;\">\n",
       "      <th></th>\n",
       "      <th>PassengerId</th>\n",
       "      <th>Survived</th>\n",
       "      <th>Pclass</th>\n",
       "      <th>Name</th>\n",
       "      <th>Sex</th>\n",
       "      <th>Age</th>\n",
       "      <th>SibSp</th>\n",
       "      <th>Parch</th>\n",
       "      <th>Ticket</th>\n",
       "      <th>Fare</th>\n",
       "      <th>Cabin</th>\n",
       "      <th>Embarked</th>\n",
       "    </tr>\n",
       "  </thead>\n",
       "  <tbody>\n",
       "    <tr>\n",
       "      <th>23</th>\n",
       "      <td>24</td>\n",
       "      <td>1</td>\n",
       "      <td>1</td>\n",
       "      <td>Sloper, Mr. William Thompson</td>\n",
       "      <td>male</td>\n",
       "      <td>28.0</td>\n",
       "      <td>0</td>\n",
       "      <td>0</td>\n",
       "      <td>113788</td>\n",
       "      <td>35.5000</td>\n",
       "      <td>A6</td>\n",
       "      <td>S</td>\n",
       "    </tr>\n",
       "    <tr>\n",
       "      <th>163</th>\n",
       "      <td>164</td>\n",
       "      <td>0</td>\n",
       "      <td>3</td>\n",
       "      <td>Calic, Mr. Jovo</td>\n",
       "      <td>male</td>\n",
       "      <td>17.0</td>\n",
       "      <td>0</td>\n",
       "      <td>0</td>\n",
       "      <td>315093</td>\n",
       "      <td>8.6625</td>\n",
       "      <td>NaN</td>\n",
       "      <td>S</td>\n",
       "    </tr>\n",
       "    <tr>\n",
       "      <th>165</th>\n",
       "      <td>166</td>\n",
       "      <td>1</td>\n",
       "      <td>3</td>\n",
       "      <td>Goldsmith, Master. Frank John William \"Frankie\"</td>\n",
       "      <td>male</td>\n",
       "      <td>9.0</td>\n",
       "      <td>0</td>\n",
       "      <td>2</td>\n",
       "      <td>363291</td>\n",
       "      <td>20.5250</td>\n",
       "      <td>NaN</td>\n",
       "      <td>S</td>\n",
       "    </tr>\n",
       "    <tr>\n",
       "      <th>870</th>\n",
       "      <td>871</td>\n",
       "      <td>0</td>\n",
       "      <td>3</td>\n",
       "      <td>Balkic, Mr. Cerin</td>\n",
       "      <td>male</td>\n",
       "      <td>26.0</td>\n",
       "      <td>0</td>\n",
       "      <td>0</td>\n",
       "      <td>349248</td>\n",
       "      <td>7.8958</td>\n",
       "      <td>NaN</td>\n",
       "      <td>S</td>\n",
       "    </tr>\n",
       "    <tr>\n",
       "      <th>501</th>\n",
       "      <td>502</td>\n",
       "      <td>0</td>\n",
       "      <td>3</td>\n",
       "      <td>Canavan, Miss. Mary</td>\n",
       "      <td>female</td>\n",
       "      <td>21.0</td>\n",
       "      <td>0</td>\n",
       "      <td>0</td>\n",
       "      <td>364846</td>\n",
       "      <td>7.7500</td>\n",
       "      <td>NaN</td>\n",
       "      <td>Q</td>\n",
       "    </tr>\n",
       "  </tbody>\n",
       "</table>\n",
       "</div>"
      ],
      "text/plain": [
       "     PassengerId  Survived  Pclass  \\\n",
       "23            24         1       1   \n",
       "163          164         0       3   \n",
       "165          166         1       3   \n",
       "870          871         0       3   \n",
       "501          502         0       3   \n",
       "\n",
       "                                                Name     Sex   Age  SibSp  \\\n",
       "23                      Sloper, Mr. William Thompson    male  28.0      0   \n",
       "163                                  Calic, Mr. Jovo    male  17.0      0   \n",
       "165  Goldsmith, Master. Frank John William \"Frankie\"    male   9.0      0   \n",
       "870                                Balkic, Mr. Cerin    male  26.0      0   \n",
       "501                              Canavan, Miss. Mary  female  21.0      0   \n",
       "\n",
       "     Parch  Ticket     Fare Cabin Embarked  \n",
       "23       0  113788  35.5000    A6        S  \n",
       "163      0  315093   8.6625   NaN        S  \n",
       "165      2  363291  20.5250   NaN        S  \n",
       "870      0  349248   7.8958   NaN        S  \n",
       "501      0  364846   7.7500   NaN        Q  "
      ]
     },
     "execution_count": 7,
     "metadata": {},
     "output_type": "execute_result"
    }
   ],
   "source": [
    "titanic.sample(5)"
   ]
  },
  {
   "cell_type": "code",
   "execution_count": 8,
   "metadata": {
    "ExecuteTime": {
     "end_time": "2019-07-24T16:17:24.997153Z",
     "start_time": "2019-07-24T16:17:24.984245Z"
    },
    "colab": {
     "base_uri": "https://localhost:8080/",
     "height": 356
    },
    "colab_type": "code",
    "id": "F9U3nvVdBeC8",
    "outputId": "cd205192-9de6-48c0-dc77-a3a08c48f32b",
    "slideshow": {
     "slide_type": "fragment"
    }
   },
   "outputs": [
    {
     "name": "stdout",
     "output_type": "stream",
     "text": [
      "<class 'pandas.core.frame.DataFrame'>\n",
      "RangeIndex: 891 entries, 0 to 890\n",
      "Data columns (total 12 columns):\n",
      "PassengerId    891 non-null int64\n",
      "Survived       891 non-null int64\n",
      "Pclass         891 non-null int64\n",
      "Name           891 non-null object\n",
      "Sex            891 non-null object\n",
      "Age            714 non-null float64\n",
      "SibSp          891 non-null int64\n",
      "Parch          891 non-null int64\n",
      "Ticket         891 non-null object\n",
      "Fare           891 non-null float64\n",
      "Cabin          204 non-null object\n",
      "Embarked       889 non-null object\n",
      "dtypes: float64(2), int64(5), object(5)\n",
      "memory usage: 83.6+ KB\n"
     ]
    }
   ],
   "source": [
    "titanic.info()"
   ]
  },
  {
   "cell_type": "code",
   "execution_count": 9,
   "metadata": {
    "ExecuteTime": {
     "end_time": "2019-07-24T16:17:28.870972Z",
     "start_time": "2019-07-24T16:17:28.822898Z"
    },
    "colab": {
     "base_uri": "https://localhost:8080/",
     "height": 344
    },
    "colab_type": "code",
    "id": "wh8b_KWPBnC9",
    "outputId": "324ffa27-838f-4eba-948d-ad0a9e760cc6",
    "slideshow": {
     "slide_type": "subslide"
    }
   },
   "outputs": [
    {
     "data": {
      "text/html": [
       "<div>\n",
       "<style scoped>\n",
       "    .dataframe tbody tr th:only-of-type {\n",
       "        vertical-align: middle;\n",
       "    }\n",
       "\n",
       "    .dataframe tbody tr th {\n",
       "        vertical-align: top;\n",
       "    }\n",
       "\n",
       "    .dataframe thead th {\n",
       "        text-align: right;\n",
       "    }\n",
       "</style>\n",
       "<table border=\"1\" class=\"dataframe\">\n",
       "  <thead>\n",
       "    <tr style=\"text-align: right;\">\n",
       "      <th></th>\n",
       "      <th>PassengerId</th>\n",
       "      <th>Survived</th>\n",
       "      <th>Pclass</th>\n",
       "      <th>Age</th>\n",
       "      <th>SibSp</th>\n",
       "      <th>Parch</th>\n",
       "      <th>Fare</th>\n",
       "    </tr>\n",
       "  </thead>\n",
       "  <tbody>\n",
       "    <tr>\n",
       "      <th>count</th>\n",
       "      <td>891.000000</td>\n",
       "      <td>891.000000</td>\n",
       "      <td>891.000000</td>\n",
       "      <td>714.000000</td>\n",
       "      <td>891.000000</td>\n",
       "      <td>891.000000</td>\n",
       "      <td>891.000000</td>\n",
       "    </tr>\n",
       "    <tr>\n",
       "      <th>mean</th>\n",
       "      <td>446.000000</td>\n",
       "      <td>0.383838</td>\n",
       "      <td>2.308642</td>\n",
       "      <td>29.699118</td>\n",
       "      <td>0.523008</td>\n",
       "      <td>0.381594</td>\n",
       "      <td>32.204208</td>\n",
       "    </tr>\n",
       "    <tr>\n",
       "      <th>std</th>\n",
       "      <td>257.353842</td>\n",
       "      <td>0.486592</td>\n",
       "      <td>0.836071</td>\n",
       "      <td>14.526497</td>\n",
       "      <td>1.102743</td>\n",
       "      <td>0.806057</td>\n",
       "      <td>49.693429</td>\n",
       "    </tr>\n",
       "    <tr>\n",
       "      <th>min</th>\n",
       "      <td>1.000000</td>\n",
       "      <td>0.000000</td>\n",
       "      <td>1.000000</td>\n",
       "      <td>0.420000</td>\n",
       "      <td>0.000000</td>\n",
       "      <td>0.000000</td>\n",
       "      <td>0.000000</td>\n",
       "    </tr>\n",
       "    <tr>\n",
       "      <th>25%</th>\n",
       "      <td>223.500000</td>\n",
       "      <td>0.000000</td>\n",
       "      <td>2.000000</td>\n",
       "      <td>20.125000</td>\n",
       "      <td>0.000000</td>\n",
       "      <td>0.000000</td>\n",
       "      <td>7.910400</td>\n",
       "    </tr>\n",
       "    <tr>\n",
       "      <th>50%</th>\n",
       "      <td>446.000000</td>\n",
       "      <td>0.000000</td>\n",
       "      <td>3.000000</td>\n",
       "      <td>28.000000</td>\n",
       "      <td>0.000000</td>\n",
       "      <td>0.000000</td>\n",
       "      <td>14.454200</td>\n",
       "    </tr>\n",
       "    <tr>\n",
       "      <th>75%</th>\n",
       "      <td>668.500000</td>\n",
       "      <td>1.000000</td>\n",
       "      <td>3.000000</td>\n",
       "      <td>38.000000</td>\n",
       "      <td>1.000000</td>\n",
       "      <td>0.000000</td>\n",
       "      <td>31.000000</td>\n",
       "    </tr>\n",
       "    <tr>\n",
       "      <th>max</th>\n",
       "      <td>891.000000</td>\n",
       "      <td>1.000000</td>\n",
       "      <td>3.000000</td>\n",
       "      <td>80.000000</td>\n",
       "      <td>8.000000</td>\n",
       "      <td>6.000000</td>\n",
       "      <td>512.329200</td>\n",
       "    </tr>\n",
       "  </tbody>\n",
       "</table>\n",
       "</div>"
      ],
      "text/plain": [
       "       PassengerId    Survived      Pclass         Age       SibSp  \\\n",
       "count   891.000000  891.000000  891.000000  714.000000  891.000000   \n",
       "mean    446.000000    0.383838    2.308642   29.699118    0.523008   \n",
       "std     257.353842    0.486592    0.836071   14.526497    1.102743   \n",
       "min       1.000000    0.000000    1.000000    0.420000    0.000000   \n",
       "25%     223.500000    0.000000    2.000000   20.125000    0.000000   \n",
       "50%     446.000000    0.000000    3.000000   28.000000    0.000000   \n",
       "75%     668.500000    1.000000    3.000000   38.000000    1.000000   \n",
       "max     891.000000    1.000000    3.000000   80.000000    8.000000   \n",
       "\n",
       "            Parch        Fare  \n",
       "count  891.000000  891.000000  \n",
       "mean     0.381594   32.204208  \n",
       "std      0.806057   49.693429  \n",
       "min      0.000000    0.000000  \n",
       "25%      0.000000    7.910400  \n",
       "50%      0.000000   14.454200  \n",
       "75%      0.000000   31.000000  \n",
       "max      6.000000  512.329200  "
      ]
     },
     "execution_count": 9,
     "metadata": {},
     "output_type": "execute_result"
    }
   ],
   "source": [
    "titanic.describe()"
   ]
  },
  {
   "cell_type": "markdown",
   "metadata": {
    "colab_type": "text",
    "id": "X0vYjV9Ar455"
   },
   "source": [
    "## Basic Pandas and Seaborn"
   ]
  },
  {
   "cell_type": "markdown",
   "metadata": {
    "colab_type": "text",
    "id": "KyieFo-vuj5s"
   },
   "source": [
    "### Pandas\n",
    "\n",
    "Pandas is an open source, BSD-licensed library providing high-performance, easy-to-use data structures and data analysis tools for the Python programming language.\n",
    "\n",
    "DataFrame is a 2-dimensional labeled data structure with columns of potentially different types.\n",
    "\n",
    "[Pandas Dataframe](https://pandas.pydata.org/pandas-docs/stable/reference/frame.html)\n",
    "\n",
    "Series is a one-dimensional labeled array capable of holding any data type\n",
    "\n",
    "[Pandas Series](https://pandas.pydata.org/pandas-docs/stable/reference/series.html)"
   ]
  },
  {
   "cell_type": "code",
   "execution_count": 10,
   "metadata": {
    "ExecuteTime": {
     "end_time": "2019-07-24T16:17:35.878982Z",
     "start_time": "2019-07-24T16:17:35.871577Z"
    },
    "colab": {
     "base_uri": "https://localhost:8080/",
     "height": 76
    },
    "colab_type": "code",
    "id": "YbXBU-ZtCaKQ",
    "outputId": "2a6bd668-e898-4e9f-945e-b62d84192a3b"
   },
   "outputs": [
    {
     "data": {
      "text/plain": [
       "pandas.core.frame.DataFrame"
      ]
     },
     "execution_count": 10,
     "metadata": {},
     "output_type": "execute_result"
    }
   ],
   "source": [
    "type(titanic)"
   ]
  },
  {
   "cell_type": "code",
   "execution_count": 11,
   "metadata": {
    "ExecuteTime": {
     "end_time": "2019-07-24T16:17:36.553658Z",
     "start_time": "2019-07-24T16:17:36.537973Z"
    },
    "colab": {
     "base_uri": "https://localhost:8080/",
     "height": 76
    },
    "colab_type": "code",
    "id": "wNGpPnJKC9db",
    "outputId": "4fbebc52-95e8-4484-83e5-a0f10802bf5a"
   },
   "outputs": [
    {
     "data": {
      "text/plain": [
       "pandas.core.series.Series"
      ]
     },
     "execution_count": 11,
     "metadata": {},
     "output_type": "execute_result"
    }
   ],
   "source": [
    "type(titanic['Name'])"
   ]
  },
  {
   "cell_type": "code",
   "execution_count": 12,
   "metadata": {
    "ExecuteTime": {
     "end_time": "2019-07-24T16:17:37.391972Z",
     "start_time": "2019-07-24T16:17:37.381710Z"
    },
    "colab": {
     "base_uri": "https://localhost:8080/",
     "height": 1000
    },
    "colab_type": "code",
    "id": "UHRFnMCjP7MO",
    "outputId": "503f4b57-f7f1-4d63-99eb-e91cdac62f9c"
   },
   "outputs": [
    {
     "data": {
      "text/plain": [
       "0                                Braund, Mr. Owen Harris\n",
       "1      Cumings, Mrs. John Bradley (Florence Briggs Th...\n",
       "2                                 Heikkinen, Miss. Laina\n",
       "3           Futrelle, Mrs. Jacques Heath (Lily May Peel)\n",
       "4                               Allen, Mr. William Henry\n",
       "5                                       Moran, Mr. James\n",
       "6                                McCarthy, Mr. Timothy J\n",
       "7                         Palsson, Master. Gosta Leonard\n",
       "8      Johnson, Mrs. Oscar W (Elisabeth Vilhelmina Berg)\n",
       "9                    Nasser, Mrs. Nicholas (Adele Achem)\n",
       "10                       Sandstrom, Miss. Marguerite Rut\n",
       "11                              Bonnell, Miss. Elizabeth\n",
       "12                        Saundercock, Mr. William Henry\n",
       "13                           Andersson, Mr. Anders Johan\n",
       "14                  Vestrom, Miss. Hulda Amanda Adolfina\n",
       "15                      Hewlett, Mrs. (Mary D Kingcome) \n",
       "16                                  Rice, Master. Eugene\n",
       "17                          Williams, Mr. Charles Eugene\n",
       "18     Vander Planke, Mrs. Julius (Emelia Maria Vande...\n",
       "19                               Masselmani, Mrs. Fatima\n",
       "20                                  Fynney, Mr. Joseph J\n",
       "21                                 Beesley, Mr. Lawrence\n",
       "22                           McGowan, Miss. Anna \"Annie\"\n",
       "23                          Sloper, Mr. William Thompson\n",
       "24                         Palsson, Miss. Torborg Danira\n",
       "25     Asplund, Mrs. Carl Oscar (Selma Augusta Emilia...\n",
       "26                               Emir, Mr. Farred Chehab\n",
       "27                        Fortune, Mr. Charles Alexander\n",
       "28                         O'Dwyer, Miss. Ellen \"Nellie\"\n",
       "29                                   Todoroff, Mr. Lalio\n",
       "                             ...                        \n",
       "861                          Giles, Mr. Frederick Edward\n",
       "862    Swift, Mrs. Frederick Joel (Margaret Welles Ba...\n",
       "863                    Sage, Miss. Dorothy Edith \"Dolly\"\n",
       "864                               Gill, Mr. John William\n",
       "865                             Bystrom, Mrs. (Karolina)\n",
       "866                         Duran y More, Miss. Asuncion\n",
       "867                 Roebling, Mr. Washington Augustus II\n",
       "868                          van Melkebeke, Mr. Philemon\n",
       "869                      Johnson, Master. Harold Theodor\n",
       "870                                    Balkic, Mr. Cerin\n",
       "871     Beckwith, Mrs. Richard Leonard (Sallie Monypeny)\n",
       "872                             Carlsson, Mr. Frans Olof\n",
       "873                          Vander Cruyssen, Mr. Victor\n",
       "874                Abelson, Mrs. Samuel (Hannah Wizosky)\n",
       "875                     Najib, Miss. Adele Kiamie \"Jane\"\n",
       "876                        Gustafsson, Mr. Alfred Ossian\n",
       "877                                 Petroff, Mr. Nedelio\n",
       "878                                   Laleff, Mr. Kristo\n",
       "879        Potter, Mrs. Thomas Jr (Lily Alexenia Wilson)\n",
       "880         Shelley, Mrs. William (Imanita Parrish Hall)\n",
       "881                                   Markun, Mr. Johann\n",
       "882                         Dahlberg, Miss. Gerda Ulrika\n",
       "883                        Banfield, Mr. Frederick James\n",
       "884                               Sutehall, Mr. Henry Jr\n",
       "885                 Rice, Mrs. William (Margaret Norton)\n",
       "886                                Montvila, Rev. Juozas\n",
       "887                         Graham, Miss. Margaret Edith\n",
       "888             Johnston, Miss. Catherine Helen \"Carrie\"\n",
       "889                                Behr, Mr. Karl Howell\n",
       "890                                  Dooley, Mr. Patrick\n",
       "Name: Name, Length: 891, dtype: object"
      ]
     },
     "execution_count": 12,
     "metadata": {},
     "output_type": "execute_result"
    }
   ],
   "source": [
    "titanic['Name']"
   ]
  },
  {
   "cell_type": "code",
   "execution_count": 13,
   "metadata": {
    "ExecuteTime": {
     "end_time": "2019-07-24T16:17:38.219920Z",
     "start_time": "2019-07-24T16:17:38.200804Z"
    },
    "colab": {
     "base_uri": "https://localhost:8080/",
     "height": 1000
    },
    "colab_type": "code",
    "id": "kSVIl2rKQLKP",
    "outputId": "a77fee09-24fa-4d97-a952-c18ac22bcb14"
   },
   "outputs": [
    {
     "data": {
      "text/html": [
       "<div>\n",
       "<style scoped>\n",
       "    .dataframe tbody tr th:only-of-type {\n",
       "        vertical-align: middle;\n",
       "    }\n",
       "\n",
       "    .dataframe tbody tr th {\n",
       "        vertical-align: top;\n",
       "    }\n",
       "\n",
       "    .dataframe thead th {\n",
       "        text-align: right;\n",
       "    }\n",
       "</style>\n",
       "<table border=\"1\" class=\"dataframe\">\n",
       "  <thead>\n",
       "    <tr style=\"text-align: right;\">\n",
       "      <th></th>\n",
       "      <th>Name</th>\n",
       "      <th>Survived</th>\n",
       "    </tr>\n",
       "  </thead>\n",
       "  <tbody>\n",
       "    <tr>\n",
       "      <th>0</th>\n",
       "      <td>Braund, Mr. Owen Harris</td>\n",
       "      <td>0</td>\n",
       "    </tr>\n",
       "    <tr>\n",
       "      <th>1</th>\n",
       "      <td>Cumings, Mrs. John Bradley (Florence Briggs Th...</td>\n",
       "      <td>1</td>\n",
       "    </tr>\n",
       "    <tr>\n",
       "      <th>2</th>\n",
       "      <td>Heikkinen, Miss. Laina</td>\n",
       "      <td>1</td>\n",
       "    </tr>\n",
       "    <tr>\n",
       "      <th>3</th>\n",
       "      <td>Futrelle, Mrs. Jacques Heath (Lily May Peel)</td>\n",
       "      <td>1</td>\n",
       "    </tr>\n",
       "    <tr>\n",
       "      <th>4</th>\n",
       "      <td>Allen, Mr. William Henry</td>\n",
       "      <td>0</td>\n",
       "    </tr>\n",
       "    <tr>\n",
       "      <th>5</th>\n",
       "      <td>Moran, Mr. James</td>\n",
       "      <td>0</td>\n",
       "    </tr>\n",
       "    <tr>\n",
       "      <th>6</th>\n",
       "      <td>McCarthy, Mr. Timothy J</td>\n",
       "      <td>0</td>\n",
       "    </tr>\n",
       "    <tr>\n",
       "      <th>7</th>\n",
       "      <td>Palsson, Master. Gosta Leonard</td>\n",
       "      <td>0</td>\n",
       "    </tr>\n",
       "    <tr>\n",
       "      <th>8</th>\n",
       "      <td>Johnson, Mrs. Oscar W (Elisabeth Vilhelmina Berg)</td>\n",
       "      <td>1</td>\n",
       "    </tr>\n",
       "    <tr>\n",
       "      <th>9</th>\n",
       "      <td>Nasser, Mrs. Nicholas (Adele Achem)</td>\n",
       "      <td>1</td>\n",
       "    </tr>\n",
       "    <tr>\n",
       "      <th>10</th>\n",
       "      <td>Sandstrom, Miss. Marguerite Rut</td>\n",
       "      <td>1</td>\n",
       "    </tr>\n",
       "    <tr>\n",
       "      <th>11</th>\n",
       "      <td>Bonnell, Miss. Elizabeth</td>\n",
       "      <td>1</td>\n",
       "    </tr>\n",
       "    <tr>\n",
       "      <th>12</th>\n",
       "      <td>Saundercock, Mr. William Henry</td>\n",
       "      <td>0</td>\n",
       "    </tr>\n",
       "    <tr>\n",
       "      <th>13</th>\n",
       "      <td>Andersson, Mr. Anders Johan</td>\n",
       "      <td>0</td>\n",
       "    </tr>\n",
       "    <tr>\n",
       "      <th>14</th>\n",
       "      <td>Vestrom, Miss. Hulda Amanda Adolfina</td>\n",
       "      <td>0</td>\n",
       "    </tr>\n",
       "    <tr>\n",
       "      <th>15</th>\n",
       "      <td>Hewlett, Mrs. (Mary D Kingcome)</td>\n",
       "      <td>1</td>\n",
       "    </tr>\n",
       "    <tr>\n",
       "      <th>16</th>\n",
       "      <td>Rice, Master. Eugene</td>\n",
       "      <td>0</td>\n",
       "    </tr>\n",
       "    <tr>\n",
       "      <th>17</th>\n",
       "      <td>Williams, Mr. Charles Eugene</td>\n",
       "      <td>1</td>\n",
       "    </tr>\n",
       "    <tr>\n",
       "      <th>18</th>\n",
       "      <td>Vander Planke, Mrs. Julius (Emelia Maria Vande...</td>\n",
       "      <td>0</td>\n",
       "    </tr>\n",
       "    <tr>\n",
       "      <th>19</th>\n",
       "      <td>Masselmani, Mrs. Fatima</td>\n",
       "      <td>1</td>\n",
       "    </tr>\n",
       "    <tr>\n",
       "      <th>20</th>\n",
       "      <td>Fynney, Mr. Joseph J</td>\n",
       "      <td>0</td>\n",
       "    </tr>\n",
       "    <tr>\n",
       "      <th>21</th>\n",
       "      <td>Beesley, Mr. Lawrence</td>\n",
       "      <td>1</td>\n",
       "    </tr>\n",
       "    <tr>\n",
       "      <th>22</th>\n",
       "      <td>McGowan, Miss. Anna \"Annie\"</td>\n",
       "      <td>1</td>\n",
       "    </tr>\n",
       "    <tr>\n",
       "      <th>23</th>\n",
       "      <td>Sloper, Mr. William Thompson</td>\n",
       "      <td>1</td>\n",
       "    </tr>\n",
       "    <tr>\n",
       "      <th>24</th>\n",
       "      <td>Palsson, Miss. Torborg Danira</td>\n",
       "      <td>0</td>\n",
       "    </tr>\n",
       "    <tr>\n",
       "      <th>25</th>\n",
       "      <td>Asplund, Mrs. Carl Oscar (Selma Augusta Emilia...</td>\n",
       "      <td>1</td>\n",
       "    </tr>\n",
       "    <tr>\n",
       "      <th>26</th>\n",
       "      <td>Emir, Mr. Farred Chehab</td>\n",
       "      <td>0</td>\n",
       "    </tr>\n",
       "    <tr>\n",
       "      <th>27</th>\n",
       "      <td>Fortune, Mr. Charles Alexander</td>\n",
       "      <td>0</td>\n",
       "    </tr>\n",
       "    <tr>\n",
       "      <th>28</th>\n",
       "      <td>O'Dwyer, Miss. Ellen \"Nellie\"</td>\n",
       "      <td>1</td>\n",
       "    </tr>\n",
       "    <tr>\n",
       "      <th>29</th>\n",
       "      <td>Todoroff, Mr. Lalio</td>\n",
       "      <td>0</td>\n",
       "    </tr>\n",
       "    <tr>\n",
       "      <th>...</th>\n",
       "      <td>...</td>\n",
       "      <td>...</td>\n",
       "    </tr>\n",
       "    <tr>\n",
       "      <th>861</th>\n",
       "      <td>Giles, Mr. Frederick Edward</td>\n",
       "      <td>0</td>\n",
       "    </tr>\n",
       "    <tr>\n",
       "      <th>862</th>\n",
       "      <td>Swift, Mrs. Frederick Joel (Margaret Welles Ba...</td>\n",
       "      <td>1</td>\n",
       "    </tr>\n",
       "    <tr>\n",
       "      <th>863</th>\n",
       "      <td>Sage, Miss. Dorothy Edith \"Dolly\"</td>\n",
       "      <td>0</td>\n",
       "    </tr>\n",
       "    <tr>\n",
       "      <th>864</th>\n",
       "      <td>Gill, Mr. John William</td>\n",
       "      <td>0</td>\n",
       "    </tr>\n",
       "    <tr>\n",
       "      <th>865</th>\n",
       "      <td>Bystrom, Mrs. (Karolina)</td>\n",
       "      <td>1</td>\n",
       "    </tr>\n",
       "    <tr>\n",
       "      <th>866</th>\n",
       "      <td>Duran y More, Miss. Asuncion</td>\n",
       "      <td>1</td>\n",
       "    </tr>\n",
       "    <tr>\n",
       "      <th>867</th>\n",
       "      <td>Roebling, Mr. Washington Augustus II</td>\n",
       "      <td>0</td>\n",
       "    </tr>\n",
       "    <tr>\n",
       "      <th>868</th>\n",
       "      <td>van Melkebeke, Mr. Philemon</td>\n",
       "      <td>0</td>\n",
       "    </tr>\n",
       "    <tr>\n",
       "      <th>869</th>\n",
       "      <td>Johnson, Master. Harold Theodor</td>\n",
       "      <td>1</td>\n",
       "    </tr>\n",
       "    <tr>\n",
       "      <th>870</th>\n",
       "      <td>Balkic, Mr. Cerin</td>\n",
       "      <td>0</td>\n",
       "    </tr>\n",
       "    <tr>\n",
       "      <th>871</th>\n",
       "      <td>Beckwith, Mrs. Richard Leonard (Sallie Monypeny)</td>\n",
       "      <td>1</td>\n",
       "    </tr>\n",
       "    <tr>\n",
       "      <th>872</th>\n",
       "      <td>Carlsson, Mr. Frans Olof</td>\n",
       "      <td>0</td>\n",
       "    </tr>\n",
       "    <tr>\n",
       "      <th>873</th>\n",
       "      <td>Vander Cruyssen, Mr. Victor</td>\n",
       "      <td>0</td>\n",
       "    </tr>\n",
       "    <tr>\n",
       "      <th>874</th>\n",
       "      <td>Abelson, Mrs. Samuel (Hannah Wizosky)</td>\n",
       "      <td>1</td>\n",
       "    </tr>\n",
       "    <tr>\n",
       "      <th>875</th>\n",
       "      <td>Najib, Miss. Adele Kiamie \"Jane\"</td>\n",
       "      <td>1</td>\n",
       "    </tr>\n",
       "    <tr>\n",
       "      <th>876</th>\n",
       "      <td>Gustafsson, Mr. Alfred Ossian</td>\n",
       "      <td>0</td>\n",
       "    </tr>\n",
       "    <tr>\n",
       "      <th>877</th>\n",
       "      <td>Petroff, Mr. Nedelio</td>\n",
       "      <td>0</td>\n",
       "    </tr>\n",
       "    <tr>\n",
       "      <th>878</th>\n",
       "      <td>Laleff, Mr. Kristo</td>\n",
       "      <td>0</td>\n",
       "    </tr>\n",
       "    <tr>\n",
       "      <th>879</th>\n",
       "      <td>Potter, Mrs. Thomas Jr (Lily Alexenia Wilson)</td>\n",
       "      <td>1</td>\n",
       "    </tr>\n",
       "    <tr>\n",
       "      <th>880</th>\n",
       "      <td>Shelley, Mrs. William (Imanita Parrish Hall)</td>\n",
       "      <td>1</td>\n",
       "    </tr>\n",
       "    <tr>\n",
       "      <th>881</th>\n",
       "      <td>Markun, Mr. Johann</td>\n",
       "      <td>0</td>\n",
       "    </tr>\n",
       "    <tr>\n",
       "      <th>882</th>\n",
       "      <td>Dahlberg, Miss. Gerda Ulrika</td>\n",
       "      <td>0</td>\n",
       "    </tr>\n",
       "    <tr>\n",
       "      <th>883</th>\n",
       "      <td>Banfield, Mr. Frederick James</td>\n",
       "      <td>0</td>\n",
       "    </tr>\n",
       "    <tr>\n",
       "      <th>884</th>\n",
       "      <td>Sutehall, Mr. Henry Jr</td>\n",
       "      <td>0</td>\n",
       "    </tr>\n",
       "    <tr>\n",
       "      <th>885</th>\n",
       "      <td>Rice, Mrs. William (Margaret Norton)</td>\n",
       "      <td>0</td>\n",
       "    </tr>\n",
       "    <tr>\n",
       "      <th>886</th>\n",
       "      <td>Montvila, Rev. Juozas</td>\n",
       "      <td>0</td>\n",
       "    </tr>\n",
       "    <tr>\n",
       "      <th>887</th>\n",
       "      <td>Graham, Miss. Margaret Edith</td>\n",
       "      <td>1</td>\n",
       "    </tr>\n",
       "    <tr>\n",
       "      <th>888</th>\n",
       "      <td>Johnston, Miss. Catherine Helen \"Carrie\"</td>\n",
       "      <td>0</td>\n",
       "    </tr>\n",
       "    <tr>\n",
       "      <th>889</th>\n",
       "      <td>Behr, Mr. Karl Howell</td>\n",
       "      <td>1</td>\n",
       "    </tr>\n",
       "    <tr>\n",
       "      <th>890</th>\n",
       "      <td>Dooley, Mr. Patrick</td>\n",
       "      <td>0</td>\n",
       "    </tr>\n",
       "  </tbody>\n",
       "</table>\n",
       "<p>891 rows × 2 columns</p>\n",
       "</div>"
      ],
      "text/plain": [
       "                                                  Name  Survived\n",
       "0                              Braund, Mr. Owen Harris         0\n",
       "1    Cumings, Mrs. John Bradley (Florence Briggs Th...         1\n",
       "2                               Heikkinen, Miss. Laina         1\n",
       "3         Futrelle, Mrs. Jacques Heath (Lily May Peel)         1\n",
       "4                             Allen, Mr. William Henry         0\n",
       "5                                     Moran, Mr. James         0\n",
       "6                              McCarthy, Mr. Timothy J         0\n",
       "7                       Palsson, Master. Gosta Leonard         0\n",
       "8    Johnson, Mrs. Oscar W (Elisabeth Vilhelmina Berg)         1\n",
       "9                  Nasser, Mrs. Nicholas (Adele Achem)         1\n",
       "10                     Sandstrom, Miss. Marguerite Rut         1\n",
       "11                            Bonnell, Miss. Elizabeth         1\n",
       "12                      Saundercock, Mr. William Henry         0\n",
       "13                         Andersson, Mr. Anders Johan         0\n",
       "14                Vestrom, Miss. Hulda Amanda Adolfina         0\n",
       "15                    Hewlett, Mrs. (Mary D Kingcome)          1\n",
       "16                                Rice, Master. Eugene         0\n",
       "17                        Williams, Mr. Charles Eugene         1\n",
       "18   Vander Planke, Mrs. Julius (Emelia Maria Vande...         0\n",
       "19                             Masselmani, Mrs. Fatima         1\n",
       "20                                Fynney, Mr. Joseph J         0\n",
       "21                               Beesley, Mr. Lawrence         1\n",
       "22                         McGowan, Miss. Anna \"Annie\"         1\n",
       "23                        Sloper, Mr. William Thompson         1\n",
       "24                       Palsson, Miss. Torborg Danira         0\n",
       "25   Asplund, Mrs. Carl Oscar (Selma Augusta Emilia...         1\n",
       "26                             Emir, Mr. Farred Chehab         0\n",
       "27                      Fortune, Mr. Charles Alexander         0\n",
       "28                       O'Dwyer, Miss. Ellen \"Nellie\"         1\n",
       "29                                 Todoroff, Mr. Lalio         0\n",
       "..                                                 ...       ...\n",
       "861                        Giles, Mr. Frederick Edward         0\n",
       "862  Swift, Mrs. Frederick Joel (Margaret Welles Ba...         1\n",
       "863                  Sage, Miss. Dorothy Edith \"Dolly\"         0\n",
       "864                             Gill, Mr. John William         0\n",
       "865                           Bystrom, Mrs. (Karolina)         1\n",
       "866                       Duran y More, Miss. Asuncion         1\n",
       "867               Roebling, Mr. Washington Augustus II         0\n",
       "868                        van Melkebeke, Mr. Philemon         0\n",
       "869                    Johnson, Master. Harold Theodor         1\n",
       "870                                  Balkic, Mr. Cerin         0\n",
       "871   Beckwith, Mrs. Richard Leonard (Sallie Monypeny)         1\n",
       "872                           Carlsson, Mr. Frans Olof         0\n",
       "873                        Vander Cruyssen, Mr. Victor         0\n",
       "874              Abelson, Mrs. Samuel (Hannah Wizosky)         1\n",
       "875                   Najib, Miss. Adele Kiamie \"Jane\"         1\n",
       "876                      Gustafsson, Mr. Alfred Ossian         0\n",
       "877                               Petroff, Mr. Nedelio         0\n",
       "878                                 Laleff, Mr. Kristo         0\n",
       "879      Potter, Mrs. Thomas Jr (Lily Alexenia Wilson)         1\n",
       "880       Shelley, Mrs. William (Imanita Parrish Hall)         1\n",
       "881                                 Markun, Mr. Johann         0\n",
       "882                       Dahlberg, Miss. Gerda Ulrika         0\n",
       "883                      Banfield, Mr. Frederick James         0\n",
       "884                             Sutehall, Mr. Henry Jr         0\n",
       "885               Rice, Mrs. William (Margaret Norton)         0\n",
       "886                              Montvila, Rev. Juozas         0\n",
       "887                       Graham, Miss. Margaret Edith         1\n",
       "888           Johnston, Miss. Catherine Helen \"Carrie\"         0\n",
       "889                              Behr, Mr. Karl Howell         1\n",
       "890                                Dooley, Mr. Patrick         0\n",
       "\n",
       "[891 rows x 2 columns]"
      ]
     },
     "execution_count": 13,
     "metadata": {},
     "output_type": "execute_result"
    }
   ],
   "source": [
    "titanic[['Name', 'Survived']]"
   ]
  },
  {
   "cell_type": "code",
   "execution_count": 14,
   "metadata": {
    "ExecuteTime": {
     "end_time": "2019-07-24T16:17:38.780894Z",
     "start_time": "2019-07-24T16:17:38.774915Z"
    },
    "colab": {
     "base_uri": "https://localhost:8080/",
     "height": 111
    },
    "colab_type": "code",
    "id": "nBT-r6eEQi3B",
    "outputId": "3feb7679-8439-474e-8a66-573c09c61557"
   },
   "outputs": [
    {
     "data": {
      "text/plain": [
       "Index(['PassengerId', 'Survived', 'Pclass', 'Name', 'Sex', 'Age', 'SibSp',\n",
       "       'Parch', 'Ticket', 'Fare', 'Cabin', 'Embarked'],\n",
       "      dtype='object')"
      ]
     },
     "execution_count": 14,
     "metadata": {},
     "output_type": "execute_result"
    }
   ],
   "source": [
    "titanic.columns"
   ]
  },
  {
   "cell_type": "markdown",
   "metadata": {
    "colab_type": "text",
    "id": "K7tzl3la8hDV"
   },
   "source": [
    "**How to get data of a column?**"
   ]
  },
  {
   "cell_type": "code",
   "execution_count": 15,
   "metadata": {
    "ExecuteTime": {
     "end_time": "2019-07-24T16:17:41.434744Z",
     "start_time": "2019-07-24T16:17:41.426705Z"
    },
    "colab": {
     "base_uri": "https://localhost:8080/",
     "height": 164
    },
    "colab_type": "code",
    "id": "FtLMrwxxh6RT",
    "outputId": "b2286d8c-5666-48f8-fad9-cd3bb2ac684f"
   },
   "outputs": [
    {
     "data": {
      "text/plain": [
       "886                       Montvila, Rev. Juozas\n",
       "887                Graham, Miss. Margaret Edith\n",
       "888    Johnston, Miss. Catherine Helen \"Carrie\"\n",
       "889                       Behr, Mr. Karl Howell\n",
       "890                         Dooley, Mr. Patrick\n",
       "Name: Name, dtype: object"
      ]
     },
     "execution_count": 15,
     "metadata": {},
     "output_type": "execute_result"
    }
   ],
   "source": [
    "# titanic['Name'][:5]\n",
    "titanic['Name'][-5:]"
   ]
  },
  {
   "cell_type": "markdown",
   "metadata": {
    "colab_type": "text",
    "id": "QTFtG4D59Ou2"
   },
   "source": [
    "**Aggregation**"
   ]
  },
  {
   "cell_type": "code",
   "execution_count": 16,
   "metadata": {
    "ExecuteTime": {
     "end_time": "2019-07-24T16:17:43.517427Z",
     "start_time": "2019-07-24T16:17:43.507484Z"
    },
    "colab": {
     "base_uri": "https://localhost:8080/",
     "height": 76
    },
    "colab_type": "code",
    "id": "5SkeG8DomXxQ",
    "outputId": "751b93e0-e2cf-4d0e-fc53-094f50269d7c"
   },
   "outputs": [
    {
     "name": "stdout",
     "output_type": "stream",
     "text": [
      "0.42\n",
      "29.69911764705882\n",
      "80.0\n",
      "28693.9493\n"
     ]
    }
   ],
   "source": [
    "print(titanic['Age'].min())\n",
    "print(titanic['Age'].mean())\n",
    "print(titanic['Age'].max())\n",
    "print(titanic['Fare'].sum())"
   ]
  },
  {
   "cell_type": "markdown",
   "metadata": {
    "colab_type": "text",
    "id": "8I6OJ87B9Sl_"
   },
   "source": [
    "**Filtering data**"
   ]
  },
  {
   "cell_type": "code",
   "execution_count": 17,
   "metadata": {
    "ExecuteTime": {
     "end_time": "2019-07-24T16:17:46.648034Z",
     "start_time": "2019-07-24T16:17:46.594324Z"
    },
    "colab": {
     "base_uri": "https://localhost:8080/",
     "height": 76
    },
    "colab_type": "code",
    "id": "3U6VuvB-oTe-",
    "outputId": "d5603cf8-f02c-40c7-d87c-0b8461927fa6"
   },
   "outputs": [
    {
     "name": "stdout",
     "output_type": "stream",
     "text": [
      "     PassengerId  Survived  Pclass                                     Name  \\\n",
      "0              1         0       3                  Braund, Mr. Owen Harris   \n",
      "4              5         0       3                 Allen, Mr. William Henry   \n",
      "5              6         0       3                         Moran, Mr. James   \n",
      "6              7         0       1                  McCarthy, Mr. Timothy J   \n",
      "7              8         0       3           Palsson, Master. Gosta Leonard   \n",
      "12            13         0       3           Saundercock, Mr. William Henry   \n",
      "13            14         0       3              Andersson, Mr. Anders Johan   \n",
      "16            17         0       3                     Rice, Master. Eugene   \n",
      "17            18         1       2             Williams, Mr. Charles Eugene   \n",
      "20            21         0       2                     Fynney, Mr. Joseph J   \n",
      "21            22         1       2                    Beesley, Mr. Lawrence   \n",
      "23            24         1       1             Sloper, Mr. William Thompson   \n",
      "26            27         0       3                  Emir, Mr. Farred Chehab   \n",
      "27            28         0       1           Fortune, Mr. Charles Alexander   \n",
      "29            30         0       3                      Todoroff, Mr. Lalio   \n",
      "30            31         0       1                 Uruchurtu, Don. Manuel E   \n",
      "33            34         0       2                    Wheadon, Mr. Edward H   \n",
      "34            35         0       1                  Meyer, Mr. Edgar Joseph   \n",
      "35            36         0       1           Holverson, Mr. Alexander Oskar   \n",
      "36            37         1       3                         Mamee, Mr. Hanna   \n",
      "37            38         0       3                 Cann, Mr. Ernest Charles   \n",
      "42            43         0       3                      Kraeff, Mr. Theodor   \n",
      "45            46         0       3                 Rogers, Mr. William John   \n",
      "46            47         0       3                        Lennon, Mr. Denis   \n",
      "48            49         0       3                      Samaan, Mr. Youssef   \n",
      "50            51         0       3               Panula, Master. Juha Niilo   \n",
      "51            52         0       3             Nosworthy, Mr. Richard Cater   \n",
      "54            55         0       1           Ostby, Mr. Engelhart Cornelius   \n",
      "55            56         1       1                        Woolner, Mr. Hugh   \n",
      "57            58         0       3                      Novel, Mr. Mansouer   \n",
      "..           ...       ...     ...                                      ...   \n",
      "840          841         0       3              Alhomaki, Mr. Ilmari Rudolf   \n",
      "841          842         0       2                 Mudd, Mr. Thomas Charles   \n",
      "843          844         0       3               Lemberopolous, Mr. Peter L   \n",
      "844          845         0       3                      Culumovic, Mr. Jeso   \n",
      "845          846         0       3                      Abbing, Mr. Anthony   \n",
      "846          847         0       3                 Sage, Mr. Douglas Bullen   \n",
      "847          848         0       3                       Markoff, Mr. Marin   \n",
      "848          849         0       2                        Harper, Rev. John   \n",
      "850          851         0       3  Andersson, Master. Sigvard Harald Elias   \n",
      "851          852         0       3                      Svensson, Mr. Johan   \n",
      "857          858         1       1                   Daly, Mr. Peter Denis    \n",
      "859          860         0       3                         Razi, Mr. Raihed   \n",
      "860          861         0       3                  Hansen, Mr. Claus Peter   \n",
      "861          862         0       2              Giles, Mr. Frederick Edward   \n",
      "864          865         0       2                   Gill, Mr. John William   \n",
      "867          868         0       1     Roebling, Mr. Washington Augustus II   \n",
      "868          869         0       3              van Melkebeke, Mr. Philemon   \n",
      "869          870         1       3          Johnson, Master. Harold Theodor   \n",
      "870          871         0       3                        Balkic, Mr. Cerin   \n",
      "872          873         0       1                 Carlsson, Mr. Frans Olof   \n",
      "873          874         0       3              Vander Cruyssen, Mr. Victor   \n",
      "876          877         0       3            Gustafsson, Mr. Alfred Ossian   \n",
      "877          878         0       3                     Petroff, Mr. Nedelio   \n",
      "878          879         0       3                       Laleff, Mr. Kristo   \n",
      "881          882         0       3                       Markun, Mr. Johann   \n",
      "883          884         0       2            Banfield, Mr. Frederick James   \n",
      "884          885         0       3                   Sutehall, Mr. Henry Jr   \n",
      "886          887         0       2                    Montvila, Rev. Juozas   \n",
      "889          890         1       1                    Behr, Mr. Karl Howell   \n",
      "890          891         0       3                      Dooley, Mr. Patrick   \n",
      "\n",
      "      Sex   Age  SibSp  Parch            Ticket      Fare        Cabin  \\\n",
      "0    male  22.0      1      0         A/5 21171    7.2500          NaN   \n",
      "4    male  35.0      0      0            373450    8.0500          NaN   \n",
      "5    male   NaN      0      0            330877    8.4583          NaN   \n",
      "6    male  54.0      0      0             17463   51.8625          E46   \n",
      "7    male   2.0      3      1            349909   21.0750          NaN   \n",
      "12   male  20.0      0      0         A/5. 2151    8.0500          NaN   \n",
      "13   male  39.0      1      5            347082   31.2750          NaN   \n",
      "16   male   2.0      4      1            382652   29.1250          NaN   \n",
      "17   male   NaN      0      0            244373   13.0000          NaN   \n",
      "20   male  35.0      0      0            239865   26.0000          NaN   \n",
      "21   male  34.0      0      0            248698   13.0000          D56   \n",
      "23   male  28.0      0      0            113788   35.5000           A6   \n",
      "26   male   NaN      0      0              2631    7.2250          NaN   \n",
      "27   male  19.0      3      2             19950  263.0000  C23 C25 C27   \n",
      "29   male   NaN      0      0            349216    7.8958          NaN   \n",
      "30   male  40.0      0      0          PC 17601   27.7208          NaN   \n",
      "33   male  66.0      0      0        C.A. 24579   10.5000          NaN   \n",
      "34   male  28.0      1      0          PC 17604   82.1708          NaN   \n",
      "35   male  42.0      1      0            113789   52.0000          NaN   \n",
      "36   male   NaN      0      0              2677    7.2292          NaN   \n",
      "37   male  21.0      0      0        A./5. 2152    8.0500          NaN   \n",
      "42   male   NaN      0      0            349253    7.8958          NaN   \n",
      "45   male   NaN      0      0   S.C./A.4. 23567    8.0500          NaN   \n",
      "46   male   NaN      1      0            370371   15.5000          NaN   \n",
      "48   male   NaN      2      0              2662   21.6792          NaN   \n",
      "50   male   7.0      4      1           3101295   39.6875          NaN   \n",
      "51   male  21.0      0      0        A/4. 39886    7.8000          NaN   \n",
      "54   male  65.0      0      1            113509   61.9792          B30   \n",
      "55   male   NaN      0      0             19947   35.5000          C52   \n",
      "57   male  28.5      0      0              2697    7.2292          NaN   \n",
      "..    ...   ...    ...    ...               ...       ...          ...   \n",
      "840  male  20.0      0      0  SOTON/O2 3101287    7.9250          NaN   \n",
      "841  male  16.0      0      0       S.O./P.P. 3   10.5000          NaN   \n",
      "843  male  34.5      0      0              2683    6.4375          NaN   \n",
      "844  male  17.0      0      0            315090    8.6625          NaN   \n",
      "845  male  42.0      0      0         C.A. 5547    7.5500          NaN   \n",
      "846  male   NaN      8      2          CA. 2343   69.5500          NaN   \n",
      "847  male  35.0      0      0            349213    7.8958          NaN   \n",
      "848  male  28.0      0      1            248727   33.0000          NaN   \n",
      "850  male   4.0      4      2            347082   31.2750          NaN   \n",
      "851  male  74.0      0      0            347060    7.7750          NaN   \n",
      "857  male  51.0      0      0            113055   26.5500          E17   \n",
      "859  male   NaN      0      0              2629    7.2292          NaN   \n",
      "860  male  41.0      2      0            350026   14.1083          NaN   \n",
      "861  male  21.0      1      0             28134   11.5000          NaN   \n",
      "864  male  24.0      0      0            233866   13.0000          NaN   \n",
      "867  male  31.0      0      0          PC 17590   50.4958          A24   \n",
      "868  male   NaN      0      0            345777    9.5000          NaN   \n",
      "869  male   4.0      1      1            347742   11.1333          NaN   \n",
      "870  male  26.0      0      0            349248    7.8958          NaN   \n",
      "872  male  33.0      0      0               695    5.0000  B51 B53 B55   \n",
      "873  male  47.0      0      0            345765    9.0000          NaN   \n",
      "876  male  20.0      0      0              7534    9.8458          NaN   \n",
      "877  male  19.0      0      0            349212    7.8958          NaN   \n",
      "878  male   NaN      0      0            349217    7.8958          NaN   \n",
      "881  male  33.0      0      0            349257    7.8958          NaN   \n",
      "883  male  28.0      0      0  C.A./SOTON 34068   10.5000          NaN   \n",
      "884  male  25.0      0      0   SOTON/OQ 392076    7.0500          NaN   \n",
      "886  male  27.0      0      0            211536   13.0000          NaN   \n",
      "889  male  26.0      0      0            111369   30.0000         C148   \n",
      "890  male  32.0      0      0            370376    7.7500          NaN   \n",
      "\n",
      "    Embarked  \n",
      "0          S  \n",
      "4          S  \n",
      "5          Q  \n",
      "6          S  \n",
      "7          S  \n",
      "12         S  \n",
      "13         S  \n",
      "16         Q  \n",
      "17         S  \n",
      "20         S  \n",
      "21         S  \n",
      "23         S  \n",
      "26         C  \n",
      "27         S  \n",
      "29         S  \n",
      "30         C  \n",
      "33         S  \n",
      "34         C  \n",
      "35         S  \n",
      "36         C  \n",
      "37         S  \n",
      "42         C  \n",
      "45         S  \n",
      "46         Q  \n",
      "48         C  \n",
      "50         S  \n",
      "51         S  \n",
      "54         C  \n",
      "55         S  \n",
      "57         C  \n",
      "..       ...  \n",
      "840        S  \n",
      "841        S  \n",
      "843        C  \n",
      "844        S  \n",
      "845        S  \n",
      "846        S  \n",
      "847        C  \n",
      "848        S  \n",
      "850        S  \n",
      "851        S  \n",
      "857        S  \n",
      "859        C  \n",
      "860        S  \n",
      "861        S  \n",
      "864        S  \n",
      "867        S  \n",
      "868        S  \n",
      "869        S  \n",
      "870        S  \n",
      "872        S  \n",
      "873        S  \n",
      "876        S  \n",
      "877        S  \n",
      "878        S  \n",
      "881        S  \n",
      "883        S  \n",
      "884        S  \n",
      "886        S  \n",
      "889        C  \n",
      "890        Q  \n",
      "\n",
      "[577 rows x 12 columns]\n",
      "     PassengerId  Survived  Pclass                                     Name  \\\n",
      "0              1         0       3                  Braund, Mr. Owen Harris   \n",
      "4              5         0       3                 Allen, Mr. William Henry   \n",
      "5              6         0       3                         Moran, Mr. James   \n",
      "6              7         0       1                  McCarthy, Mr. Timothy J   \n",
      "7              8         0       3           Palsson, Master. Gosta Leonard   \n",
      "12            13         0       3           Saundercock, Mr. William Henry   \n",
      "13            14         0       3              Andersson, Mr. Anders Johan   \n",
      "16            17         0       3                     Rice, Master. Eugene   \n",
      "17            18         1       2             Williams, Mr. Charles Eugene   \n",
      "20            21         0       2                     Fynney, Mr. Joseph J   \n",
      "21            22         1       2                    Beesley, Mr. Lawrence   \n",
      "23            24         1       1             Sloper, Mr. William Thompson   \n",
      "26            27         0       3                  Emir, Mr. Farred Chehab   \n",
      "27            28         0       1           Fortune, Mr. Charles Alexander   \n",
      "29            30         0       3                      Todoroff, Mr. Lalio   \n",
      "30            31         0       1                 Uruchurtu, Don. Manuel E   \n",
      "33            34         0       2                    Wheadon, Mr. Edward H   \n",
      "34            35         0       1                  Meyer, Mr. Edgar Joseph   \n",
      "35            36         0       1           Holverson, Mr. Alexander Oskar   \n",
      "36            37         1       3                         Mamee, Mr. Hanna   \n",
      "37            38         0       3                 Cann, Mr. Ernest Charles   \n",
      "42            43         0       3                      Kraeff, Mr. Theodor   \n",
      "45            46         0       3                 Rogers, Mr. William John   \n",
      "46            47         0       3                        Lennon, Mr. Denis   \n",
      "48            49         0       3                      Samaan, Mr. Youssef   \n",
      "50            51         0       3               Panula, Master. Juha Niilo   \n",
      "51            52         0       3             Nosworthy, Mr. Richard Cater   \n",
      "54            55         0       1           Ostby, Mr. Engelhart Cornelius   \n",
      "55            56         1       1                        Woolner, Mr. Hugh   \n",
      "57            58         0       3                      Novel, Mr. Mansouer   \n",
      "..           ...       ...     ...                                      ...   \n",
      "840          841         0       3              Alhomaki, Mr. Ilmari Rudolf   \n",
      "841          842         0       2                 Mudd, Mr. Thomas Charles   \n",
      "843          844         0       3               Lemberopolous, Mr. Peter L   \n",
      "844          845         0       3                      Culumovic, Mr. Jeso   \n",
      "845          846         0       3                      Abbing, Mr. Anthony   \n",
      "846          847         0       3                 Sage, Mr. Douglas Bullen   \n",
      "847          848         0       3                       Markoff, Mr. Marin   \n",
      "848          849         0       2                        Harper, Rev. John   \n",
      "850          851         0       3  Andersson, Master. Sigvard Harald Elias   \n",
      "851          852         0       3                      Svensson, Mr. Johan   \n",
      "857          858         1       1                   Daly, Mr. Peter Denis    \n",
      "859          860         0       3                         Razi, Mr. Raihed   \n",
      "860          861         0       3                  Hansen, Mr. Claus Peter   \n",
      "861          862         0       2              Giles, Mr. Frederick Edward   \n",
      "864          865         0       2                   Gill, Mr. John William   \n",
      "867          868         0       1     Roebling, Mr. Washington Augustus II   \n",
      "868          869         0       3              van Melkebeke, Mr. Philemon   \n",
      "869          870         1       3          Johnson, Master. Harold Theodor   \n",
      "870          871         0       3                        Balkic, Mr. Cerin   \n",
      "872          873         0       1                 Carlsson, Mr. Frans Olof   \n",
      "873          874         0       3              Vander Cruyssen, Mr. Victor   \n",
      "876          877         0       3            Gustafsson, Mr. Alfred Ossian   \n",
      "877          878         0       3                     Petroff, Mr. Nedelio   \n",
      "878          879         0       3                       Laleff, Mr. Kristo   \n",
      "881          882         0       3                       Markun, Mr. Johann   \n",
      "883          884         0       2            Banfield, Mr. Frederick James   \n",
      "884          885         0       3                   Sutehall, Mr. Henry Jr   \n",
      "886          887         0       2                    Montvila, Rev. Juozas   \n",
      "889          890         1       1                    Behr, Mr. Karl Howell   \n",
      "890          891         0       3                      Dooley, Mr. Patrick   \n",
      "\n",
      "      Sex   Age  SibSp  Parch            Ticket      Fare        Cabin  \\\n",
      "0    male  22.0      1      0         A/5 21171    7.2500          NaN   \n",
      "4    male  35.0      0      0            373450    8.0500          NaN   \n",
      "5    male   NaN      0      0            330877    8.4583          NaN   \n",
      "6    male  54.0      0      0             17463   51.8625          E46   \n",
      "7    male   2.0      3      1            349909   21.0750          NaN   \n",
      "12   male  20.0      0      0         A/5. 2151    8.0500          NaN   \n",
      "13   male  39.0      1      5            347082   31.2750          NaN   \n",
      "16   male   2.0      4      1            382652   29.1250          NaN   \n",
      "17   male   NaN      0      0            244373   13.0000          NaN   \n",
      "20   male  35.0      0      0            239865   26.0000          NaN   \n",
      "21   male  34.0      0      0            248698   13.0000          D56   \n",
      "23   male  28.0      0      0            113788   35.5000           A6   \n",
      "26   male   NaN      0      0              2631    7.2250          NaN   \n",
      "27   male  19.0      3      2             19950  263.0000  C23 C25 C27   \n",
      "29   male   NaN      0      0            349216    7.8958          NaN   \n",
      "30   male  40.0      0      0          PC 17601   27.7208          NaN   \n",
      "33   male  66.0      0      0        C.A. 24579   10.5000          NaN   \n",
      "34   male  28.0      1      0          PC 17604   82.1708          NaN   \n",
      "35   male  42.0      1      0            113789   52.0000          NaN   \n",
      "36   male   NaN      0      0              2677    7.2292          NaN   \n",
      "37   male  21.0      0      0        A./5. 2152    8.0500          NaN   \n",
      "42   male   NaN      0      0            349253    7.8958          NaN   \n",
      "45   male   NaN      0      0   S.C./A.4. 23567    8.0500          NaN   \n",
      "46   male   NaN      1      0            370371   15.5000          NaN   \n",
      "48   male   NaN      2      0              2662   21.6792          NaN   \n",
      "50   male   7.0      4      1           3101295   39.6875          NaN   \n",
      "51   male  21.0      0      0        A/4. 39886    7.8000          NaN   \n",
      "54   male  65.0      0      1            113509   61.9792          B30   \n",
      "55   male   NaN      0      0             19947   35.5000          C52   \n",
      "57   male  28.5      0      0              2697    7.2292          NaN   \n",
      "..    ...   ...    ...    ...               ...       ...          ...   \n",
      "840  male  20.0      0      0  SOTON/O2 3101287    7.9250          NaN   \n",
      "841  male  16.0      0      0       S.O./P.P. 3   10.5000          NaN   \n",
      "843  male  34.5      0      0              2683    6.4375          NaN   \n",
      "844  male  17.0      0      0            315090    8.6625          NaN   \n",
      "845  male  42.0      0      0         C.A. 5547    7.5500          NaN   \n",
      "846  male   NaN      8      2          CA. 2343   69.5500          NaN   \n",
      "847  male  35.0      0      0            349213    7.8958          NaN   \n",
      "848  male  28.0      0      1            248727   33.0000          NaN   \n",
      "850  male   4.0      4      2            347082   31.2750          NaN   \n",
      "851  male  74.0      0      0            347060    7.7750          NaN   \n",
      "857  male  51.0      0      0            113055   26.5500          E17   \n",
      "859  male   NaN      0      0              2629    7.2292          NaN   \n",
      "860  male  41.0      2      0            350026   14.1083          NaN   \n",
      "861  male  21.0      1      0             28134   11.5000          NaN   \n",
      "864  male  24.0      0      0            233866   13.0000          NaN   \n",
      "867  male  31.0      0      0          PC 17590   50.4958          A24   \n",
      "868  male   NaN      0      0            345777    9.5000          NaN   \n",
      "869  male   4.0      1      1            347742   11.1333          NaN   \n",
      "870  male  26.0      0      0            349248    7.8958          NaN   \n",
      "872  male  33.0      0      0               695    5.0000  B51 B53 B55   \n",
      "873  male  47.0      0      0            345765    9.0000          NaN   \n",
      "876  male  20.0      0      0              7534    9.8458          NaN   \n",
      "877  male  19.0      0      0            349212    7.8958          NaN   \n",
      "878  male   NaN      0      0            349217    7.8958          NaN   \n",
      "881  male  33.0      0      0            349257    7.8958          NaN   \n",
      "883  male  28.0      0      0  C.A./SOTON 34068   10.5000          NaN   \n",
      "884  male  25.0      0      0   SOTON/OQ 392076    7.0500          NaN   \n",
      "886  male  27.0      0      0            211536   13.0000          NaN   \n",
      "889  male  26.0      0      0            111369   30.0000         C148   \n",
      "890  male  32.0      0      0            370376    7.7500          NaN   \n",
      "\n",
      "    Embarked  \n",
      "0          S  \n",
      "4          S  \n",
      "5          Q  \n",
      "6          S  \n",
      "7          S  \n",
      "12         S  \n",
      "13         S  \n",
      "16         Q  \n",
      "17         S  \n",
      "20         S  \n",
      "21         S  \n",
      "23         S  \n",
      "26         C  \n",
      "27         S  \n",
      "29         S  \n",
      "30         C  \n",
      "33         S  \n",
      "34         C  \n",
      "35         S  \n",
      "36         C  \n",
      "37         S  \n",
      "42         C  \n",
      "45         S  \n",
      "46         Q  \n",
      "48         C  \n",
      "50         S  \n",
      "51         S  \n",
      "54         C  \n",
      "55         S  \n",
      "57         C  \n",
      "..       ...  \n",
      "840        S  \n",
      "841        S  \n",
      "843        C  \n",
      "844        S  \n",
      "845        S  \n",
      "846        S  \n",
      "847        C  \n",
      "848        S  \n",
      "850        S  \n",
      "851        S  \n",
      "857        S  \n",
      "859        C  \n",
      "860        S  \n",
      "861        S  \n",
      "864        S  \n",
      "867        S  \n",
      "868        S  \n",
      "869        S  \n",
      "870        S  \n",
      "872        S  \n",
      "873        S  \n",
      "876        S  \n",
      "877        S  \n",
      "878        S  \n",
      "881        S  \n",
      "883        S  \n",
      "884        S  \n",
      "886        S  \n",
      "889        C  \n",
      "890        Q  \n",
      "\n",
      "[577 rows x 12 columns]\n",
      "12\n",
      "62\n"
     ]
    }
   ],
   "source": [
    "print(titanic[titanic['Sex']=='male'])\n",
    "print(titanic[titanic['Sex']=='male'])\n",
    "print(titanic.shape[1])\n",
    "print(titanic[titanic['Age'] < 10].shape[0])"
   ]
  },
  {
   "cell_type": "markdown",
   "metadata": {
    "colab_type": "text",
    "id": "IvjROu77-CRT"
   },
   "source": [
    "**Categorical Variables**"
   ]
  },
  {
   "cell_type": "code",
   "execution_count": 18,
   "metadata": {
    "ExecuteTime": {
     "end_time": "2019-07-24T16:17:49.792489Z",
     "start_time": "2019-07-24T16:17:49.783938Z"
    },
    "colab": {
     "base_uri": "https://localhost:8080/",
     "height": 76
    },
    "colab_type": "code",
    "id": "V7SROB6FtHyO",
    "outputId": "676062b3-a762-489f-d6de-aa1bcad6a246"
   },
   "outputs": [
    {
     "data": {
      "text/plain": [
       "array(['male', 'female'], dtype=object)"
      ]
     },
     "execution_count": 18,
     "metadata": {},
     "output_type": "execute_result"
    }
   ],
   "source": [
    "titanic['Sex'].unique()"
   ]
  },
  {
   "cell_type": "code",
   "execution_count": 19,
   "metadata": {
    "ExecuteTime": {
     "end_time": "2019-07-24T16:17:51.071744Z",
     "start_time": "2019-07-24T16:17:51.063890Z"
    },
    "colab": {
     "base_uri": "https://localhost:8080/",
     "height": 111
    },
    "colab_type": "code",
    "id": "qNP7MefPt5u3",
    "outputId": "6c46b30d-b1f8-4a67-943e-bc578ce7309b"
   },
   "outputs": [
    {
     "data": {
      "text/plain": [
       "male      577\n",
       "female    314\n",
       "Name: Sex, dtype: int64"
      ]
     },
     "execution_count": 19,
     "metadata": {},
     "output_type": "execute_result"
    }
   ],
   "source": [
    "titanic['Sex'].value_counts()"
   ]
  },
  {
   "cell_type": "code",
   "execution_count": 20,
   "metadata": {
    "ExecuteTime": {
     "end_time": "2019-07-24T16:17:52.414804Z",
     "start_time": "2019-07-24T16:17:52.406255Z"
    },
    "colab": {
     "base_uri": "https://localhost:8080/",
     "height": 76
    },
    "colab_type": "code",
    "id": "E2eetQuDt7YX",
    "outputId": "9e58009e-483b-4527-cd7c-512baf3de5fb"
   },
   "outputs": [
    {
     "data": {
      "text/plain": [
       "array([3, 1, 2])"
      ]
     },
     "execution_count": 20,
     "metadata": {},
     "output_type": "execute_result"
    }
   ],
   "source": [
    "titanic['Pclass'].unique()"
   ]
  },
  {
   "cell_type": "code",
   "execution_count": 21,
   "metadata": {
    "ExecuteTime": {
     "end_time": "2019-07-24T16:17:53.433365Z",
     "start_time": "2019-07-24T16:17:53.425934Z"
    },
    "colab": {
     "base_uri": "https://localhost:8080/",
     "height": 128
    },
    "colab_type": "code",
    "id": "cBKoDBSy-Lpn",
    "outputId": "3f817df6-0c2f-4c44-f5b1-e61e4a1ca719"
   },
   "outputs": [
    {
     "data": {
      "text/plain": [
       "3    491\n",
       "1    216\n",
       "2    184\n",
       "Name: Pclass, dtype: int64"
      ]
     },
     "execution_count": 21,
     "metadata": {},
     "output_type": "execute_result"
    }
   ],
   "source": [
    "titanic['Pclass'].value_counts()"
   ]
  },
  {
   "cell_type": "code",
   "execution_count": 22,
   "metadata": {
    "ExecuteTime": {
     "end_time": "2019-07-24T16:17:54.499702Z",
     "start_time": "2019-07-24T16:17:54.491785Z"
    },
    "colab": {
     "base_uri": "https://localhost:8080/",
     "height": 111
    },
    "colab_type": "code",
    "id": "JNNMETF9-LtE",
    "outputId": "20c1f848-456b-4f05-dfae-263681cbca1f"
   },
   "outputs": [
    {
     "data": {
      "text/plain": [
       "0    549\n",
       "1    342\n",
       "Name: Survived, dtype: int64"
      ]
     },
     "execution_count": 22,
     "metadata": {},
     "output_type": "execute_result"
    }
   ],
   "source": [
    "titanic['Survived'].value_counts()"
   ]
  },
  {
   "cell_type": "markdown",
   "metadata": {
    "colab_type": "text",
    "id": "NCIk3QCpu98S"
   },
   "source": [
    "### Seaborn\n",
    "\n",
    "Seaborn is a Python data visualization library based on matplotlib. It provides a high-level interface for drawing attractive and informative statistical graphics.\n",
    "\n",
    "[Seaborn Gallery](https://seaborn.pydata.org/examples/index.html)"
   ]
  },
  {
   "cell_type": "code",
   "execution_count": 23,
   "metadata": {
    "ExecuteTime": {
     "end_time": "2019-07-24T16:17:57.284299Z",
     "start_time": "2019-07-24T16:17:57.081252Z"
    },
    "colab": {
     "base_uri": "https://localhost:8080/",
     "height": 320
    },
    "colab_type": "code",
    "id": "t6lRswpUuKqQ",
    "outputId": "8767835d-5ece-4f5b-a0f0-22427b8d6dd5"
   },
   "outputs": [
    {
     "data": {
      "text/plain": [
       "<matplotlib.axes._subplots.AxesSubplot at 0x1a19fdfe80>"
      ]
     },
     "execution_count": 23,
     "metadata": {},
     "output_type": "execute_result"
    },
    {
     "data": {
      "image/png": "[encoded data removed]",
      "text/plain": [
       "<Figure size 432x288 with 1 Axes>"
      ]
     },
     "metadata": {
      "needs_background": "light"
     },
     "output_type": "display_data"
    }
   ],
   "source": [
    "sns.countplot(x='Sex', data=titanic)"
   ]
  },
  {
   "cell_type": "code",
   "execution_count": 24,
   "metadata": {
    "ExecuteTime": {
     "end_time": "2019-07-24T16:18:00.407866Z",
     "start_time": "2019-07-24T16:18:00.221091Z"
    },
    "colab": {
     "base_uri": "https://localhost:8080/",
     "height": 320
    },
    "colab_type": "code",
    "id": "nr_ce0wruzT6",
    "outputId": "42b6240e-cdb0-40ea-ce3c-66137066564d"
   },
   "outputs": [
    {
     "data": {
      "text/plain": [
       "<matplotlib.axes._subplots.AxesSubplot at 0x1a19e7a4a8>"
      ]
     },
     "execution_count": 24,
     "metadata": {},
     "output_type": "execute_result"
    },
    {
     "data": {
      "image/png": "[encoded data removed]",
      "text/plain": [
       "<Figure size 432x288 with 1 Axes>"
      ]
     },
     "metadata": {
      "needs_background": "light"
     },
     "output_type": "display_data"
    }
   ],
   "source": [
    "sns.countplot(x='Sex', hue='Survived', data=titanic)"
   ]
  },
  {
   "cell_type": "code",
   "execution_count": 25,
   "metadata": {
    "ExecuteTime": {
     "end_time": "2019-07-24T16:18:01.430996Z",
     "start_time": "2019-07-24T16:18:01.246911Z"
    },
    "colab": {
     "base_uri": "https://localhost:8080/",
     "height": 320
    },
    "colab_type": "code",
    "id": "zpe-tJ6rvFmo",
    "outputId": "0a81ca31-eb1c-4f66-eb8c-a4d452486f21"
   },
   "outputs": [
    {
     "data": {
      "text/plain": [
       "<matplotlib.axes._subplots.AxesSubplot at 0x1a19e2cc18>"
      ]
     },
     "execution_count": 25,
     "metadata": {},
     "output_type": "execute_result"
    },
    {
     "data": {
      "image/png": "[encoded data removed]",
      "text/plain": [
       "<Figure size 432x288 with 1 Axes>"
      ]
     },
     "metadata": {
      "needs_background": "light"
     },
     "output_type": "display_data"
    }
   ],
   "source": [
    "sns.countplot(x='Pclass', hue='Survived', data=titanic)"
   ]
  },
  {
   "cell_type": "markdown",
   "metadata": {
    "colab_type": "text",
    "id": "ascO69jyRuBF"
   },
   "source": [
    "**Distribution**"
   ]
  },
  {
   "cell_type": "code",
   "execution_count": 26,
   "metadata": {
    "ExecuteTime": {
     "end_time": "2019-07-24T16:18:03.519195Z",
     "start_time": "2019-07-24T16:18:03.338864Z"
    },
    "colab": {
     "base_uri": "https://localhost:8080/",
     "height": 289
    },
    "colab_type": "code",
    "id": "nM5tXETcvLjt",
    "outputId": "2d06db30-da4f-4270-ee77-1dd89dfd5bdf"
   },
   "outputs": [
    {
     "data": {
      "image/png": "[encoded data removed]",
      "text/plain": [
       "<Figure size 432x288 with 1 Axes>"
      ]
     },
     "metadata": {
      "needs_background": "light"
     },
     "output_type": "display_data"
    }
   ],
   "source": [
    "plt.hist(x='Age', data=titanic[titanic['Survived']==0], color='blue', alpha=0.5)\n",
    "plt.hist(x='Age', data=titanic[titanic['Survived']==1], color='red', alpha=0.5)\n",
    "plt.show()"
   ]
  },
  {
   "cell_type": "markdown",
   "metadata": {
    "colab_type": "text",
    "id": "Qf2AmIWeR_jH"
   },
   "source": [
    "**Correlation Matrix**"
   ]
  },
  {
   "cell_type": "code",
   "execution_count": 27,
   "metadata": {
    "ExecuteTime": {
     "end_time": "2019-07-24T16:18:07.006460Z",
     "start_time": "2019-07-24T16:18:06.449268Z"
    },
    "colab": {
     "base_uri": "https://localhost:8080/",
     "height": 1000
    },
    "colab_type": "code",
    "id": "RwZRHnGgv8eq",
    "outputId": "bc0b1c97-5eed-4fed-b916-cff786d34470"
   },
   "outputs": [
    {
     "data": {
      "text/html": [
       "<div>\n",
       "<style scoped>\n",
       "    .dataframe tbody tr th:only-of-type {\n",
       "        vertical-align: middle;\n",
       "    }\n",
       "\n",
       "    .dataframe tbody tr th {\n",
       "        vertical-align: top;\n",
       "    }\n",
       "\n",
       "    .dataframe thead th {\n",
       "        text-align: right;\n",
       "    }\n",
       "</style>\n",
       "<table border=\"1\" class=\"dataframe\">\n",
       "  <thead>\n",
       "    <tr style=\"text-align: right;\">\n",
       "      <th></th>\n",
       "      <th>PassengerId</th>\n",
       "      <th>Survived</th>\n",
       "      <th>Pclass</th>\n",
       "      <th>Age</th>\n",
       "      <th>SibSp</th>\n",
       "      <th>Parch</th>\n",
       "      <th>Fare</th>\n",
       "    </tr>\n",
       "  </thead>\n",
       "  <tbody>\n",
       "    <tr>\n",
       "      <th>PassengerId</th>\n",
       "      <td>1.000000</td>\n",
       "      <td>-0.005007</td>\n",
       "      <td>-0.035144</td>\n",
       "      <td>0.036847</td>\n",
       "      <td>-0.057527</td>\n",
       "      <td>-0.001652</td>\n",
       "      <td>0.012658</td>\n",
       "    </tr>\n",
       "    <tr>\n",
       "      <th>Survived</th>\n",
       "      <td>-0.005007</td>\n",
       "      <td>1.000000</td>\n",
       "      <td>-0.338481</td>\n",
       "      <td>-0.077221</td>\n",
       "      <td>-0.035322</td>\n",
       "      <td>0.081629</td>\n",
       "      <td>0.257307</td>\n",
       "    </tr>\n",
       "    <tr>\n",
       "      <th>Pclass</th>\n",
       "      <td>-0.035144</td>\n",
       "      <td>-0.338481</td>\n",
       "      <td>1.000000</td>\n",
       "      <td>-0.369226</td>\n",
       "      <td>0.083081</td>\n",
       "      <td>0.018443</td>\n",
       "      <td>-0.549500</td>\n",
       "    </tr>\n",
       "    <tr>\n",
       "      <th>Age</th>\n",
       "      <td>0.036847</td>\n",
       "      <td>-0.077221</td>\n",
       "      <td>-0.369226</td>\n",
       "      <td>1.000000</td>\n",
       "      <td>-0.308247</td>\n",
       "      <td>-0.189119</td>\n",
       "      <td>0.096067</td>\n",
       "    </tr>\n",
       "    <tr>\n",
       "      <th>SibSp</th>\n",
       "      <td>-0.057527</td>\n",
       "      <td>-0.035322</td>\n",
       "      <td>0.083081</td>\n",
       "      <td>-0.308247</td>\n",
       "      <td>1.000000</td>\n",
       "      <td>0.414838</td>\n",
       "      <td>0.159651</td>\n",
       "    </tr>\n",
       "    <tr>\n",
       "      <th>Parch</th>\n",
       "      <td>-0.001652</td>\n",
       "      <td>0.081629</td>\n",
       "      <td>0.018443</td>\n",
       "      <td>-0.189119</td>\n",
       "      <td>0.414838</td>\n",
       "      <td>1.000000</td>\n",
       "      <td>0.216225</td>\n",
       "    </tr>\n",
       "    <tr>\n",
       "      <th>Fare</th>\n",
       "      <td>0.012658</td>\n",
       "      <td>0.257307</td>\n",
       "      <td>-0.549500</td>\n",
       "      <td>0.096067</td>\n",
       "      <td>0.159651</td>\n",
       "      <td>0.216225</td>\n",
       "      <td>1.000000</td>\n",
       "    </tr>\n",
       "  </tbody>\n",
       "</table>\n",
       "</div>"
      ],
      "text/plain": [
       "             PassengerId  Survived    Pclass       Age     SibSp     Parch  \\\n",
       "PassengerId     1.000000 -0.005007 -0.035144  0.036847 -0.057527 -0.001652   \n",
       "Survived       -0.005007  1.000000 -0.338481 -0.077221 -0.035322  0.081629   \n",
       "Pclass         -0.035144 -0.338481  1.000000 -0.369226  0.083081  0.018443   \n",
       "Age             0.036847 -0.077221 -0.369226  1.000000 -0.308247 -0.189119   \n",
       "SibSp          -0.057527 -0.035322  0.083081 -0.308247  1.000000  0.414838   \n",
       "Parch          -0.001652  0.081629  0.018443 -0.189119  0.414838  1.000000   \n",
       "Fare            0.012658  0.257307 -0.549500  0.096067  0.159651  0.216225   \n",
       "\n",
       "                 Fare  \n",
       "PassengerId  0.012658  \n",
       "Survived     0.257307  \n",
       "Pclass      -0.549500  \n",
       "Age          0.096067  \n",
       "SibSp        0.159651  \n",
       "Parch        0.216225  \n",
       "Fare         1.000000  "
      ]
     },
     "execution_count": 27,
     "metadata": {},
     "output_type": "execute_result"
    },
    {
     "data": {
      "image/png": "[encoded data removed]",
      "text/plain": [
       "<Figure size 1008x1008 with 2 Axes>"
      ]
     },
     "metadata": {
      "needs_background": "light"
     },
     "output_type": "display_data"
    }
   ],
   "source": [
    "plt.figure(figsize=(14,14))\n",
    "sns.heatmap(titanic.corr(), annot=True, fmt='.3f', cmap='YlGnBu')\n",
    "titanic.corr()"
   ]
  },
  {
   "cell_type": "markdown",
   "metadata": {
    "colab_type": "text",
    "id": "JcFB7jQdSJmi"
   },
   "source": [
    "**Had people who came alone more chance to live or people who came with family?**"
   ]
  },
  {
   "cell_type": "code",
   "execution_count": 28,
   "metadata": {
    "ExecuteTime": {
     "end_time": "2019-07-24T16:18:09.704299Z",
     "start_time": "2019-07-24T16:18:09.636664Z"
    },
    "colab": {
     "base_uri": "https://localhost:8080/",
     "height": 248
    },
    "colab_type": "code",
    "id": "ZH9EuQxdRzrV",
    "outputId": "db45d4f6-7e5e-4216-9e9e-5d35b525e459"
   },
   "outputs": [
    {
     "data": {
      "text/html": [
       "<div>\n",
       "<style scoped>\n",
       "    .dataframe tbody tr th:only-of-type {\n",
       "        vertical-align: middle;\n",
       "    }\n",
       "\n",
       "    .dataframe tbody tr th {\n",
       "        vertical-align: top;\n",
       "    }\n",
       "\n",
       "    .dataframe thead th {\n",
       "        text-align: right;\n",
       "    }\n",
       "</style>\n",
       "<table border=\"1\" class=\"dataframe\">\n",
       "  <thead>\n",
       "    <tr style=\"text-align: right;\">\n",
       "      <th></th>\n",
       "      <th>PassengerId</th>\n",
       "      <th>Survived</th>\n",
       "      <th>Pclass</th>\n",
       "      <th>Name</th>\n",
       "      <th>Sex</th>\n",
       "      <th>Age</th>\n",
       "      <th>SibSp</th>\n",
       "      <th>Parch</th>\n",
       "      <th>Ticket</th>\n",
       "      <th>Fare</th>\n",
       "      <th>Cabin</th>\n",
       "      <th>Embarked</th>\n",
       "      <th>FamilySize</th>\n",
       "      <th>IsAlone</th>\n",
       "    </tr>\n",
       "  </thead>\n",
       "  <tbody>\n",
       "    <tr>\n",
       "      <th>387</th>\n",
       "      <td>388</td>\n",
       "      <td>1</td>\n",
       "      <td>2</td>\n",
       "      <td>Buss, Miss. Kate</td>\n",
       "      <td>female</td>\n",
       "      <td>36.0</td>\n",
       "      <td>0</td>\n",
       "      <td>0</td>\n",
       "      <td>27849</td>\n",
       "      <td>13.000</td>\n",
       "      <td>NaN</td>\n",
       "      <td>S</td>\n",
       "      <td>1</td>\n",
       "      <td>1</td>\n",
       "    </tr>\n",
       "    <tr>\n",
       "      <th>743</th>\n",
       "      <td>744</td>\n",
       "      <td>0</td>\n",
       "      <td>3</td>\n",
       "      <td>McNamee, Mr. Neal</td>\n",
       "      <td>male</td>\n",
       "      <td>24.0</td>\n",
       "      <td>1</td>\n",
       "      <td>0</td>\n",
       "      <td>376566</td>\n",
       "      <td>16.100</td>\n",
       "      <td>NaN</td>\n",
       "      <td>S</td>\n",
       "      <td>2</td>\n",
       "      <td>0</td>\n",
       "    </tr>\n",
       "    <tr>\n",
       "      <th>402</th>\n",
       "      <td>403</td>\n",
       "      <td>0</td>\n",
       "      <td>3</td>\n",
       "      <td>Jussila, Miss. Mari Aina</td>\n",
       "      <td>female</td>\n",
       "      <td>21.0</td>\n",
       "      <td>1</td>\n",
       "      <td>0</td>\n",
       "      <td>4137</td>\n",
       "      <td>9.825</td>\n",
       "      <td>NaN</td>\n",
       "      <td>S</td>\n",
       "      <td>2</td>\n",
       "      <td>0</td>\n",
       "    </tr>\n",
       "    <tr>\n",
       "      <th>634</th>\n",
       "      <td>635</td>\n",
       "      <td>0</td>\n",
       "      <td>3</td>\n",
       "      <td>Skoog, Miss. Mabel</td>\n",
       "      <td>female</td>\n",
       "      <td>9.0</td>\n",
       "      <td>3</td>\n",
       "      <td>2</td>\n",
       "      <td>347088</td>\n",
       "      <td>27.900</td>\n",
       "      <td>NaN</td>\n",
       "      <td>S</td>\n",
       "      <td>6</td>\n",
       "      <td>0</td>\n",
       "    </tr>\n",
       "    <tr>\n",
       "      <th>468</th>\n",
       "      <td>469</td>\n",
       "      <td>0</td>\n",
       "      <td>3</td>\n",
       "      <td>Scanlan, Mr. James</td>\n",
       "      <td>male</td>\n",
       "      <td>NaN</td>\n",
       "      <td>0</td>\n",
       "      <td>0</td>\n",
       "      <td>36209</td>\n",
       "      <td>7.725</td>\n",
       "      <td>NaN</td>\n",
       "      <td>Q</td>\n",
       "      <td>1</td>\n",
       "      <td>1</td>\n",
       "    </tr>\n",
       "  </tbody>\n",
       "</table>\n",
       "</div>"
      ],
      "text/plain": [
       "     PassengerId  Survived  Pclass                      Name     Sex   Age  \\\n",
       "387          388         1       2          Buss, Miss. Kate  female  36.0   \n",
       "743          744         0       3         McNamee, Mr. Neal    male  24.0   \n",
       "402          403         0       3  Jussila, Miss. Mari Aina  female  21.0   \n",
       "634          635         0       3        Skoog, Miss. Mabel  female   9.0   \n",
       "468          469         0       3        Scanlan, Mr. James    male   NaN   \n",
       "\n",
       "     SibSp  Parch  Ticket    Fare Cabin Embarked  FamilySize  IsAlone  \n",
       "387      0      0   27849  13.000   NaN        S           1        1  \n",
       "743      1      0  376566  16.100   NaN        S           2        0  \n",
       "402      1      0    4137   9.825   NaN        S           2        0  \n",
       "634      3      2  347088  27.900   NaN        S           6        0  \n",
       "468      0      0   36209   7.725   NaN        Q           1        1  "
      ]
     },
     "execution_count": 28,
     "metadata": {},
     "output_type": "execute_result"
    }
   ],
   "source": [
    "titanic['FamilySize'] = titanic['SibSp'] + titanic['Parch'] + 1\n",
    "titanic['IsAlone']  = 1\n",
    "titanic['IsAlone'][titanic['FamilySize'] > 1] = 0\n",
    "titanic.sample(5)"
   ]
  },
  {
   "cell_type": "code",
   "execution_count": 29,
   "metadata": {
    "ExecuteTime": {
     "end_time": "2019-07-24T16:18:10.839419Z",
     "start_time": "2019-07-24T16:18:10.656240Z"
    },
    "colab": {
     "base_uri": "https://localhost:8080/",
     "height": 320
    },
    "colab_type": "code",
    "id": "4ON8QjSUSwaM",
    "outputId": "f793e3a5-f45a-4ebe-ea5b-12a54595df9d"
   },
   "outputs": [
    {
     "data": {
      "text/plain": [
       "<matplotlib.axes._subplots.AxesSubplot at 0x1a1a95ef60>"
      ]
     },
     "execution_count": 29,
     "metadata": {},
     "output_type": "execute_result"
    },
    {
     "data": {
      "image/png": "[encoded data removed]",
      "text/plain": [
       "<Figure size 432x288 with 1 Axes>"
      ]
     },
     "metadata": {
      "needs_background": "light"
     },
     "output_type": "display_data"
    }
   ],
   "source": [
    "sns.countplot(x='IsAlone', hue='Survived', data=titanic)"
   ]
  },
  {
   "cell_type": "code",
   "execution_count": 30,
   "metadata": {
    "ExecuteTime": {
     "end_time": "2019-07-24T16:18:12.361289Z",
     "start_time": "2019-07-24T16:18:11.700889Z"
    },
    "colab": {
     "base_uri": "https://localhost:8080/",
     "height": 575
    },
    "colab_type": "code",
    "id": "vegeAw6QWyBG",
    "outputId": "49f3274e-68d5-44ff-c28f-1c6e6eeb58a7"
   },
   "outputs": [
    {
     "data": {
      "text/plain": [
       "<matplotlib.axes._subplots.AxesSubplot at 0x1a195a5b38>"
      ]
     },
     "execution_count": 30,
     "metadata": {},
     "output_type": "execute_result"
    },
    {
     "data": {
      "image/png": "[encoded data removed]",
      "text/plain": [
       "<Figure size 576x576 with 2 Axes>"
      ]
     },
     "metadata": {
      "needs_background": "light"
     },
     "output_type": "display_data"
    }
   ],
   "source": [
    "plt.figure(figsize=(8,8))\n",
    "sns.heatmap(titanic.corr(), annot=True, fmt='.2f', cmap='PuBuGn')"
   ]
  },
  {
   "cell_type": "code",
   "execution_count": 33,
   "metadata": {
    "ExecuteTime": {
     "end_time": "2019-07-24T16:18:25.715550Z",
     "start_time": "2019-07-24T16:18:25.705709Z"
    },
    "colab": {
     "base_uri": "https://localhost:8080/",
     "height": 109
    },
    "colab_type": "code",
    "id": "wv9fBErtYNov",
    "outputId": "9461dba7-ca42-4f81-9f85-333feb6c3dc4"
   },
   "outputs": [
    {
     "data": {
      "text/html": [
       "<div>\n",
       "<style scoped>\n",
       "    .dataframe tbody tr th:only-of-type {\n",
       "        vertical-align: middle;\n",
       "    }\n",
       "\n",
       "    .dataframe tbody tr th {\n",
       "        vertical-align: top;\n",
       "    }\n",
       "\n",
       "    .dataframe thead th {\n",
       "        text-align: right;\n",
       "    }\n",
       "</style>\n",
       "<table border=\"1\" class=\"dataframe\">\n",
       "  <thead>\n",
       "    <tr style=\"text-align: right;\">\n",
       "      <th></th>\n",
       "      <th>PassengerId</th>\n",
       "      <th>Survived</th>\n",
       "      <th>Pclass</th>\n",
       "      <th>Name</th>\n",
       "      <th>Sex</th>\n",
       "      <th>Age</th>\n",
       "      <th>SibSp</th>\n",
       "      <th>Parch</th>\n",
       "      <th>Ticket</th>\n",
       "      <th>Fare</th>\n",
       "      <th>Cabin</th>\n",
       "      <th>Embarked</th>\n",
       "      <th>FamilySize</th>\n",
       "      <th>IsAlone</th>\n",
       "    </tr>\n",
       "  </thead>\n",
       "  <tbody>\n",
       "  </tbody>\n",
       "</table>\n",
       "</div>"
      ],
      "text/plain": [
       "Empty DataFrame\n",
       "Columns: [PassengerId, Survived, Pclass, Name, Sex, Age, SibSp, Parch, Ticket, Fare, Cabin, Embarked, FamilySize, IsAlone]\n",
       "Index: []"
      ]
     },
     "execution_count": 33,
     "metadata": {},
     "output_type": "execute_result"
    }
   ],
   "source": [
    "titanic[titanic['Name'] == 'Jack']"
   ]
  },
  {
   "cell_type": "code",
   "execution_count": 34,
   "metadata": {
    "ExecuteTime": {
     "end_time": "2019-07-24T16:18:26.650262Z",
     "start_time": "2019-07-24T16:18:26.634548Z"
    },
    "colab": {
     "base_uri": "https://localhost:8080/",
     "height": 121
    },
    "colab_type": "code",
    "id": "lD7xcoXyYO8b",
    "outputId": "6f805ed4-21f8-4d6f-f1ea-c7c47a71185a"
   },
   "outputs": [
    {
     "data": {
      "text/html": [
       "<div>\n",
       "<style scoped>\n",
       "    .dataframe tbody tr th:only-of-type {\n",
       "        vertical-align: middle;\n",
       "    }\n",
       "\n",
       "    .dataframe tbody tr th {\n",
       "        vertical-align: top;\n",
       "    }\n",
       "\n",
       "    .dataframe thead th {\n",
       "        text-align: right;\n",
       "    }\n",
       "</style>\n",
       "<table border=\"1\" class=\"dataframe\">\n",
       "  <thead>\n",
       "    <tr style=\"text-align: right;\">\n",
       "      <th></th>\n",
       "      <th>PassengerId</th>\n",
       "      <th>Survived</th>\n",
       "      <th>Pclass</th>\n",
       "      <th>Name</th>\n",
       "      <th>Sex</th>\n",
       "      <th>Age</th>\n",
       "      <th>SibSp</th>\n",
       "      <th>Parch</th>\n",
       "      <th>Ticket</th>\n",
       "      <th>Fare</th>\n",
       "      <th>Cabin</th>\n",
       "      <th>Embarked</th>\n",
       "      <th>FamilySize</th>\n",
       "      <th>IsAlone</th>\n",
       "    </tr>\n",
       "  </thead>\n",
       "  <tbody>\n",
       "    <tr>\n",
       "      <th>766</th>\n",
       "      <td>767</td>\n",
       "      <td>0</td>\n",
       "      <td>1</td>\n",
       "      <td>Brewe, Dr. Arthur Jackson</td>\n",
       "      <td>male</td>\n",
       "      <td>NaN</td>\n",
       "      <td>0</td>\n",
       "      <td>0</td>\n",
       "      <td>112379</td>\n",
       "      <td>39.6</td>\n",
       "      <td>NaN</td>\n",
       "      <td>C</td>\n",
       "      <td>1</td>\n",
       "      <td>1</td>\n",
       "    </tr>\n",
       "  </tbody>\n",
       "</table>\n",
       "</div>"
      ],
      "text/plain": [
       "     PassengerId  Survived  Pclass                       Name   Sex  Age  \\\n",
       "766          767         0       1  Brewe, Dr. Arthur Jackson  male  NaN   \n",
       "\n",
       "     SibSp  Parch  Ticket  Fare Cabin Embarked  FamilySize  IsAlone  \n",
       "766      0      0  112379  39.6   NaN        C           1        1  "
      ]
     },
     "execution_count": 34,
     "metadata": {},
     "output_type": "execute_result"
    }
   ],
   "source": [
    "titanic[titanic['Name'].str.lower().str.contains('jack')]"
   ]
  },
  {
   "cell_type": "code",
   "execution_count": 35,
   "metadata": {
    "ExecuteTime": {
     "end_time": "2019-07-24T16:18:27.691526Z",
     "start_time": "2019-07-24T16:18:27.674060Z"
    },
    "colab": {
     "base_uri": "https://localhost:8080/",
     "height": 153
    },
    "colab_type": "code",
    "id": "0XomZimAYPCk",
    "outputId": "f806f783-5083-4616-fb7a-df222c5491b0"
   },
   "outputs": [
    {
     "data": {
      "text/html": [
       "<div>\n",
       "<style scoped>\n",
       "    .dataframe tbody tr th:only-of-type {\n",
       "        vertical-align: middle;\n",
       "    }\n",
       "\n",
       "    .dataframe tbody tr th {\n",
       "        vertical-align: top;\n",
       "    }\n",
       "\n",
       "    .dataframe thead th {\n",
       "        text-align: right;\n",
       "    }\n",
       "</style>\n",
       "<table border=\"1\" class=\"dataframe\">\n",
       "  <thead>\n",
       "    <tr style=\"text-align: right;\">\n",
       "      <th></th>\n",
       "      <th>PassengerId</th>\n",
       "      <th>Survived</th>\n",
       "      <th>Pclass</th>\n",
       "      <th>Name</th>\n",
       "      <th>Sex</th>\n",
       "      <th>Age</th>\n",
       "      <th>SibSp</th>\n",
       "      <th>Parch</th>\n",
       "      <th>Ticket</th>\n",
       "      <th>Fare</th>\n",
       "      <th>Cabin</th>\n",
       "      <th>Embarked</th>\n",
       "      <th>FamilySize</th>\n",
       "      <th>IsAlone</th>\n",
       "    </tr>\n",
       "  </thead>\n",
       "  <tbody>\n",
       "    <tr>\n",
       "      <th>72</th>\n",
       "      <td>73</td>\n",
       "      <td>0</td>\n",
       "      <td>2</td>\n",
       "      <td>Hood, Mr. Ambrose Jr</td>\n",
       "      <td>male</td>\n",
       "      <td>21.0</td>\n",
       "      <td>0</td>\n",
       "      <td>0</td>\n",
       "      <td>S.O.C. 14879</td>\n",
       "      <td>73.50</td>\n",
       "      <td>NaN</td>\n",
       "      <td>S</td>\n",
       "      <td>1</td>\n",
       "      <td>1</td>\n",
       "    </tr>\n",
       "    <tr>\n",
       "      <th>855</th>\n",
       "      <td>856</td>\n",
       "      <td>1</td>\n",
       "      <td>3</td>\n",
       "      <td>Aks, Mrs. Sam (Leah Rosen)</td>\n",
       "      <td>female</td>\n",
       "      <td>18.0</td>\n",
       "      <td>0</td>\n",
       "      <td>1</td>\n",
       "      <td>392091</td>\n",
       "      <td>9.35</td>\n",
       "      <td>NaN</td>\n",
       "      <td>S</td>\n",
       "      <td>2</td>\n",
       "      <td>0</td>\n",
       "    </tr>\n",
       "  </tbody>\n",
       "</table>\n",
       "</div>"
      ],
      "text/plain": [
       "     PassengerId  Survived  Pclass                        Name     Sex   Age  \\\n",
       "72            73         0       2        Hood, Mr. Ambrose Jr    male  21.0   \n",
       "855          856         1       3  Aks, Mrs. Sam (Leah Rosen)  female  18.0   \n",
       "\n",
       "     SibSp  Parch        Ticket   Fare Cabin Embarked  FamilySize  IsAlone  \n",
       "72       0      0  S.O.C. 14879  73.50   NaN        S           1        1  \n",
       "855      0      1        392091   9.35   NaN        S           2        0  "
      ]
     },
     "execution_count": 35,
     "metadata": {},
     "output_type": "execute_result"
    }
   ],
   "source": [
    "titanic[titanic['Name'].str.lower().str.contains('rose')]"
   ]
  },
  {
   "cell_type": "code",
   "execution_count": 36,
   "metadata": {
    "ExecuteTime": {
     "end_time": "2019-07-24T16:18:28.648970Z",
     "start_time": "2019-07-24T16:18:28.632273Z"
    },
    "colab": {
     "base_uri": "https://localhost:8080/",
     "height": 121
    },
    "colab_type": "code",
    "id": "3wNH8JXjYPFb",
    "outputId": "2cf561a7-5073-43b4-fad7-0e1787e5121a"
   },
   "outputs": [
    {
     "data": {
      "text/html": [
       "<div>\n",
       "<style scoped>\n",
       "    .dataframe tbody tr th:only-of-type {\n",
       "        vertical-align: middle;\n",
       "    }\n",
       "\n",
       "    .dataframe tbody tr th {\n",
       "        vertical-align: top;\n",
       "    }\n",
       "\n",
       "    .dataframe thead th {\n",
       "        text-align: right;\n",
       "    }\n",
       "</style>\n",
       "<table border=\"1\" class=\"dataframe\">\n",
       "  <thead>\n",
       "    <tr style=\"text-align: right;\">\n",
       "      <th></th>\n",
       "      <th>PassengerId</th>\n",
       "      <th>Survived</th>\n",
       "      <th>Pclass</th>\n",
       "      <th>Name</th>\n",
       "      <th>Sex</th>\n",
       "      <th>Age</th>\n",
       "      <th>SibSp</th>\n",
       "      <th>Parch</th>\n",
       "      <th>Ticket</th>\n",
       "      <th>Fare</th>\n",
       "      <th>Cabin</th>\n",
       "      <th>Embarked</th>\n",
       "      <th>FamilySize</th>\n",
       "      <th>IsAlone</th>\n",
       "    </tr>\n",
       "  </thead>\n",
       "  <tbody>\n",
       "    <tr>\n",
       "      <th>803</th>\n",
       "      <td>804</td>\n",
       "      <td>1</td>\n",
       "      <td>3</td>\n",
       "      <td>Thomas, Master. Assad Alexander</td>\n",
       "      <td>male</td>\n",
       "      <td>0.42</td>\n",
       "      <td>0</td>\n",
       "      <td>1</td>\n",
       "      <td>2625</td>\n",
       "      <td>8.5167</td>\n",
       "      <td>NaN</td>\n",
       "      <td>C</td>\n",
       "      <td>2</td>\n",
       "      <td>0</td>\n",
       "    </tr>\n",
       "  </tbody>\n",
       "</table>\n",
       "</div>"
      ],
      "text/plain": [
       "     PassengerId  Survived  Pclass                             Name   Sex  \\\n",
       "803          804         1       3  Thomas, Master. Assad Alexander  male   \n",
       "\n",
       "      Age  SibSp  Parch Ticket    Fare Cabin Embarked  FamilySize  IsAlone  \n",
       "803  0.42      0      1   2625  8.5167   NaN        C           2        0  "
      ]
     },
     "execution_count": 36,
     "metadata": {},
     "output_type": "execute_result"
    }
   ],
   "source": [
    "titanic[ titanic['Age'] == titanic['Age'].min() ]"
   ]
  },
  {
   "cell_type": "code",
   "execution_count": 37,
   "metadata": {
    "ExecuteTime": {
     "end_time": "2019-07-24T16:18:31.170946Z",
     "start_time": "2019-07-24T16:18:31.151167Z"
    },
    "colab": {
     "base_uri": "https://localhost:8080/",
     "height": 347
    },
    "colab_type": "code",
    "id": "KBAwKiVeYPIR",
    "outputId": "49834426-b961-4798-9328-082a39826386"
   },
   "outputs": [
    {
     "data": {
      "text/html": [
       "<div>\n",
       "<style scoped>\n",
       "    .dataframe tbody tr th:only-of-type {\n",
       "        vertical-align: middle;\n",
       "    }\n",
       "\n",
       "    .dataframe tbody tr th {\n",
       "        vertical-align: top;\n",
       "    }\n",
       "\n",
       "    .dataframe thead th {\n",
       "        text-align: right;\n",
       "    }\n",
       "</style>\n",
       "<table border=\"1\" class=\"dataframe\">\n",
       "  <thead>\n",
       "    <tr style=\"text-align: right;\">\n",
       "      <th></th>\n",
       "      <th>PassengerId</th>\n",
       "      <th>Survived</th>\n",
       "      <th>Pclass</th>\n",
       "      <th>Name</th>\n",
       "      <th>Sex</th>\n",
       "      <th>Age</th>\n",
       "      <th>SibSp</th>\n",
       "      <th>Parch</th>\n",
       "      <th>Ticket</th>\n",
       "      <th>Fare</th>\n",
       "      <th>Cabin</th>\n",
       "      <th>Embarked</th>\n",
       "      <th>FamilySize</th>\n",
       "      <th>IsAlone</th>\n",
       "    </tr>\n",
       "  </thead>\n",
       "  <tbody>\n",
       "    <tr>\n",
       "      <th>207</th>\n",
       "      <td>208</td>\n",
       "      <td>1</td>\n",
       "      <td>3</td>\n",
       "      <td>Albimona, Mr. Nassef Cassem</td>\n",
       "      <td>male</td>\n",
       "      <td>26.0</td>\n",
       "      <td>0</td>\n",
       "      <td>0</td>\n",
       "      <td>2699</td>\n",
       "      <td>18.7875</td>\n",
       "      <td>NaN</td>\n",
       "      <td>C</td>\n",
       "      <td>1</td>\n",
       "      <td>1</td>\n",
       "    </tr>\n",
       "    <tr>\n",
       "      <th>255</th>\n",
       "      <td>256</td>\n",
       "      <td>1</td>\n",
       "      <td>3</td>\n",
       "      <td>Touma, Mrs. Darwis (Hanne Youssef Razi)</td>\n",
       "      <td>female</td>\n",
       "      <td>29.0</td>\n",
       "      <td>0</td>\n",
       "      <td>2</td>\n",
       "      <td>2650</td>\n",
       "      <td>15.2458</td>\n",
       "      <td>NaN</td>\n",
       "      <td>C</td>\n",
       "      <td>3</td>\n",
       "      <td>0</td>\n",
       "    </tr>\n",
       "    <tr>\n",
       "      <th>455</th>\n",
       "      <td>456</td>\n",
       "      <td>1</td>\n",
       "      <td>3</td>\n",
       "      <td>Jalsevac, Mr. Ivan</td>\n",
       "      <td>male</td>\n",
       "      <td>29.0</td>\n",
       "      <td>0</td>\n",
       "      <td>0</td>\n",
       "      <td>349240</td>\n",
       "      <td>7.8958</td>\n",
       "      <td>NaN</td>\n",
       "      <td>C</td>\n",
       "      <td>1</td>\n",
       "      <td>1</td>\n",
       "    </tr>\n",
       "    <tr>\n",
       "      <th>553</th>\n",
       "      <td>554</td>\n",
       "      <td>1</td>\n",
       "      <td>3</td>\n",
       "      <td>Leeni, Mr. Fahim (\"Philip Zenni\")</td>\n",
       "      <td>male</td>\n",
       "      <td>22.0</td>\n",
       "      <td>0</td>\n",
       "      <td>0</td>\n",
       "      <td>2620</td>\n",
       "      <td>7.2250</td>\n",
       "      <td>NaN</td>\n",
       "      <td>C</td>\n",
       "      <td>1</td>\n",
       "      <td>1</td>\n",
       "    </tr>\n",
       "    <tr>\n",
       "      <th>622</th>\n",
       "      <td>623</td>\n",
       "      <td>1</td>\n",
       "      <td>3</td>\n",
       "      <td>Nakid, Mr. Sahid</td>\n",
       "      <td>male</td>\n",
       "      <td>20.0</td>\n",
       "      <td>1</td>\n",
       "      <td>1</td>\n",
       "      <td>2653</td>\n",
       "      <td>15.7417</td>\n",
       "      <td>NaN</td>\n",
       "      <td>C</td>\n",
       "      <td>3</td>\n",
       "      <td>0</td>\n",
       "    </tr>\n",
       "    <tr>\n",
       "      <th>762</th>\n",
       "      <td>763</td>\n",
       "      <td>1</td>\n",
       "      <td>3</td>\n",
       "      <td>Barah, Mr. Hanna Assi</td>\n",
       "      <td>male</td>\n",
       "      <td>20.0</td>\n",
       "      <td>0</td>\n",
       "      <td>0</td>\n",
       "      <td>2663</td>\n",
       "      <td>7.2292</td>\n",
       "      <td>NaN</td>\n",
       "      <td>C</td>\n",
       "      <td>1</td>\n",
       "      <td>1</td>\n",
       "    </tr>\n",
       "    <tr>\n",
       "      <th>858</th>\n",
       "      <td>859</td>\n",
       "      <td>1</td>\n",
       "      <td>3</td>\n",
       "      <td>Baclini, Mrs. Solomon (Latifa Qurban)</td>\n",
       "      <td>female</td>\n",
       "      <td>24.0</td>\n",
       "      <td>0</td>\n",
       "      <td>3</td>\n",
       "      <td>2666</td>\n",
       "      <td>19.2583</td>\n",
       "      <td>NaN</td>\n",
       "      <td>C</td>\n",
       "      <td>4</td>\n",
       "      <td>0</td>\n",
       "    </tr>\n",
       "  </tbody>\n",
       "</table>\n",
       "</div>"
      ],
      "text/plain": [
       "     PassengerId  Survived  Pclass                                     Name  \\\n",
       "207          208         1       3              Albimona, Mr. Nassef Cassem   \n",
       "255          256         1       3  Touma, Mrs. Darwis (Hanne Youssef Razi)   \n",
       "455          456         1       3                       Jalsevac, Mr. Ivan   \n",
       "553          554         1       3        Leeni, Mr. Fahim (\"Philip Zenni\")   \n",
       "622          623         1       3                         Nakid, Mr. Sahid   \n",
       "762          763         1       3                    Barah, Mr. Hanna Assi   \n",
       "858          859         1       3    Baclini, Mrs. Solomon (Latifa Qurban)   \n",
       "\n",
       "        Sex   Age  SibSp  Parch  Ticket     Fare Cabin Embarked  FamilySize  \\\n",
       "207    male  26.0      0      0    2699  18.7875   NaN        C           1   \n",
       "255  female  29.0      0      2    2650  15.2458   NaN        C           3   \n",
       "455    male  29.0      0      0  349240   7.8958   NaN        C           1   \n",
       "553    male  22.0      0      0    2620   7.2250   NaN        C           1   \n",
       "622    male  20.0      1      1    2653  15.7417   NaN        C           3   \n",
       "762    male  20.0      0      0    2663   7.2292   NaN        C           1   \n",
       "858  female  24.0      0      3    2666  19.2583   NaN        C           4   \n",
       "\n",
       "     IsAlone  \n",
       "207        1  \n",
       "255        0  \n",
       "455        1  \n",
       "553        1  \n",
       "622        0  \n",
       "762        1  \n",
       "858        0  "
      ]
     },
     "execution_count": 37,
     "metadata": {},
     "output_type": "execute_result"
    }
   ],
   "source": [
    "titanic[(titanic['Embarked']=='C') & (titanic['Pclass']==3) & (titanic['Survived']==1) & (titanic['Age']>16)]"
   ]
  },
  {
   "cell_type": "markdown",
   "metadata": {
    "colab_type": "text",
    "id": "iSbInv4JUnJA"
   },
   "source": [
    "### Reflection\n",
    "\n",
    "I think our analysis works, evidenced by the famous movie. Jack was PClass 3, Male, and over 10. \n",
    "\n",
    "![alt text](https://hips.hearstapps.com/hmg-prod.s3.amazonaws.com/images/titanic-jack-1485877267.gif?crop=1xw:1xh;center,top&resize=480:*)\n",
    "\n",
    "Rose was female, PClass 1. She had a good chance to survive. \n",
    "\n",
    "We could have skipped watching the movie and predicted the outcome from the beginning."
   ]
  }
 ],
 "metadata": {
  "celltoolbar": "Slideshow",
  "colab": {
   "name": "Lecture_2_Data_Visualization_Titanic.ipynb",
   "provenance": [],
   "version": "0.3.2"
  },
  "kernelspec": {
   "display_name": "Python 3",
   "language": "python",
   "name": "python3"
  },
  "language_info": {
   "codemirror_mode": {
    "name": "ipython",
    "version": 3
   },
   "file_extension": ".py",
   "mimetype": "text/x-python",
   "name": "python",
   "nbconvert_exporter": "python",
   "pygments_lexer": "ipython3",
   "version": "3.7.3"
  },
  "toc": {
   "base_numbering": 1,
   "nav_menu": {},
   "number_sections": true,
   "sideBar": true,
   "skip_h1_title": false,
   "title_cell": "Table of Contents",
   "title_sidebar": "Contents",
   "toc_cell": false,
   "toc_position": {
    "height": "calc(100% - 180px)",
    "left": "10px",
    "top": "150px",
    "width": "292px"
   },
   "toc_section_display": true,
   "toc_window_display": false
  },
  "varInspector": {
   "cols": {
    "lenName": 16,
    "lenType": 16,
    "lenVar": 40
   },
   "kernels_config": {
    "python": {
     "delete_cmd_postfix": "",
     "delete_cmd_prefix": "del ",
     "library": "var_list.py",
     "varRefreshCmd": "print(var_dic_list())"
    },
    "r": {
     "delete_cmd_postfix": ") ",
     "delete_cmd_prefix": "rm(",
     "library": "var_list.r",
     "varRefreshCmd": "cat(var_dic_list()) "
    }
   },
   "types_to_exclude": [
    "module",
    "function",
    "builtin_function_or_method",
    "instance",
    "_Feature"
   ],
   "window_display": false
  }
 },
 "nbformat": 4,
 "nbformat_minor": 1
}
